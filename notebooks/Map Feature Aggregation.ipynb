{
 "cells": [
  {
   "cell_type": "code",
   "execution_count": 47,
   "id": "f855684e",
   "metadata": {},
   "outputs": [
    {
     "name": "stdout",
     "output_type": "stream",
     "text": [
      "The autoreload extension is already loaded. To reload it, use:\n",
      "  %reload_ext autoreload\n"
     ]
    }
   ],
   "source": [
    "%load_ext autoreload\n",
    "%autoreload 2\n",
    "import sys\n",
    "import pandas as pd\n",
    "sys.path.append(\"..\")\n",
    "from Services import GeoService, MapFeatureAggregator, AddressToCoordinateConverter\n",
    "\n",
    "import warnings\n",
    "warnings.filterwarnings('ignore')"
   ]
  },
  {
   "cell_type": "code",
   "execution_count": 35,
   "id": "b703d69d",
   "metadata": {},
   "outputs": [],
   "source": [
    "from sklearn.ensemble import RandomForestRegressor\n",
    "from sklearn.model_selection import train_test_split\n",
    "from sklearn.metrics import mean_squared_error\n",
    "import matplotlib.pyplot as plt"
   ]
  },
  {
   "cell_type": "code",
   "execution_count": 14,
   "id": "f6d2e59b",
   "metadata": {},
   "outputs": [],
   "source": [
    "myrealty = pd.read_csv(\"../data/myrealty_apartments.csv\")\n",
    "\n",
    "def format_address(address):\n",
    "    s = address\n",
    "    splits = s.split(\", \")\n",
    "    split_count = len(splits)\n",
    "    if split_count >= 3:\n",
    "        s = splits[-1]\n",
    "    return s\n",
    "\n",
    "\n",
    "myrealty['location'] = myrealty['location'].apply(format_address)\n",
    "converter = AddressToCoordinateConverter(\"streets.csv\")\n",
    "myrealty[\"coordinates\"] = myrealty[\"location\"].apply(converter.convert)"
   ]
  },
  {
   "cell_type": "code",
   "execution_count": 15,
   "id": "2eb8adfe",
   "metadata": {},
   "outputs": [],
   "source": [
    "significant_places = { \n",
    "    \"opera\" : (40.18600,44.51509),\n",
    "    \"malibu\" : (40.18306,44.50799),\n",
    "    \"aua\" : (40.19243,44.50446),\n",
    "    \"zvartnoc\" : (40.1523,44.4005)\n",
    "    # avan\n",
    "    # cemeteries\n",
    "    # try 20-30 locations\n",
    "}\n",
    "geo_service = GeoService(\n",
    "    significant_places,\n",
    "    radius = 300\n",
    ")\n",
    "featurer = MapFeatureAggregator(geo_service)\n",
    "significant_distances = featurer.significant_distances(myrealty, \"coordinates\")\n",
    "amenities = featurer.amenities_count(myrealty, \"coordinates\")"
   ]
  },
  {
   "cell_type": "code",
   "execution_count": 37,
   "id": "642bd171",
   "metadata": {},
   "outputs": [],
   "source": [
    "def feature_importance(data, y_col):\n",
    "    X = data.drop(y_col, axis=1)\n",
    "    y = data[y_col]\n",
    "    rf = RandomForestRegressor(n_estimators=100) \n",
    "    rf.fit(X, y)\n",
    "    feature_importances = pd.DataFrame({\n",
    "        'feature': X.columns,\n",
    "        'importance': rf.feature_importances_\n",
    "    })\n",
    "    feature_importances = feature_importances.sort_values(\n",
    "        by = 'importance',\n",
    "        ascending = False\n",
    "    )\n",
    "    return feature_importances"
   ]
  },
  {
   "cell_type": "code",
   "execution_count": 54,
   "id": "19ebee57",
   "metadata": {},
   "outputs": [
    {
     "data": {
      "text/html": [
       "<div>\n",
       "<style scoped>\n",
       "    .dataframe tbody tr th:only-of-type {\n",
       "        vertical-align: middle;\n",
       "    }\n",
       "\n",
       "    .dataframe tbody tr th {\n",
       "        vertical-align: top;\n",
       "    }\n",
       "\n",
       "    .dataframe thead th {\n",
       "        text-align: right;\n",
       "    }\n",
       "</style>\n",
       "<table border=\"1\" class=\"dataframe\">\n",
       "  <thead>\n",
       "    <tr style=\"text-align: right;\">\n",
       "      <th></th>\n",
       "      <th>feature</th>\n",
       "      <th>importance</th>\n",
       "    </tr>\n",
       "  </thead>\n",
       "  <tbody>\n",
       "    <tr>\n",
       "      <th>4</th>\n",
       "      <td>aua</td>\n",
       "      <td>0.278446</td>\n",
       "    </tr>\n",
       "    <tr>\n",
       "      <th>2</th>\n",
       "      <td>opera</td>\n",
       "      <td>0.223376</td>\n",
       "    </tr>\n",
       "    <tr>\n",
       "      <th>0</th>\n",
       "      <td>latitude</td>\n",
       "      <td>0.151661</td>\n",
       "    </tr>\n",
       "    <tr>\n",
       "      <th>5</th>\n",
       "      <td>zvartnoc</td>\n",
       "      <td>0.122752</td>\n",
       "    </tr>\n",
       "    <tr>\n",
       "      <th>1</th>\n",
       "      <td>longitude</td>\n",
       "      <td>0.119377</td>\n",
       "    </tr>\n",
       "    <tr>\n",
       "      <th>3</th>\n",
       "      <td>malibu</td>\n",
       "      <td>0.104388</td>\n",
       "    </tr>\n",
       "  </tbody>\n",
       "</table>\n",
       "</div>"
      ],
      "text/plain": [
       "     feature  importance\n",
       "4        aua    0.278446\n",
       "2      opera    0.223376\n",
       "0   latitude    0.151661\n",
       "5   zvartnoc    0.122752\n",
       "1  longitude    0.119377\n",
       "3     malibu    0.104388"
      ]
     },
     "execution_count": 54,
     "metadata": {},
     "output_type": "execute_result"
    }
   ],
   "source": [
    "df = myrealty[[\"price\", \"coordinates\"]]\n",
    "df[\"latitude\"] = df[\"coordinates\"].apply(lambda x: x[0])\n",
    "df[\"longitude\"] = df[\"coordinates\"].apply(lambda x: x[1])\n",
    "df = df.drop(columns = [\"coordinates\"])\n",
    "df = pd.concat([df, significant_distances], axis = 1)\n",
    "feature_importance(df, \"price\").head(10)"
   ]
  },
  {
   "cell_type": "code",
   "execution_count": 55,
   "id": "fa86fef4",
   "metadata": {},
   "outputs": [
    {
     "data": {
      "text/plain": [
       "0.8106942792097667"
      ]
     },
     "execution_count": 55,
     "metadata": {},
     "output_type": "execute_result"
    }
   ],
   "source": [
    "X = df.drop(\"price\", axis=1)\n",
    "y = df[\"price\"]\n",
    "rf = RandomForestRegressor(n_estimators=100) \n",
    "rf.fit(X, y)\n",
    "rf.score(X, y)"
   ]
  },
  {
   "cell_type": "code",
   "execution_count": 61,
   "id": "a6acb9b6",
   "metadata": {},
   "outputs": [
    {
     "data": {
      "text/plain": [
       "3952382851.5134835"
      ]
     },
     "execution_count": 61,
     "metadata": {},
     "output_type": "execute_result"
    }
   ],
   "source": [
    "mean_squared_error(rf.predict(X), y)"
   ]
  },
  {
   "cell_type": "code",
   "execution_count": null,
   "id": "5ce45647",
   "metadata": {},
   "outputs": [],
   "source": []
  }
 ],
 "metadata": {
  "kernelspec": {
   "display_name": "Python 3 (ipykernel)",
   "language": "python",
   "name": "python3"
  },
  "language_info": {
   "codemirror_mode": {
    "name": "ipython",
    "version": 3
   },
   "file_extension": ".py",
   "mimetype": "text/x-python",
   "name": "python",
   "nbconvert_exporter": "python",
   "pygments_lexer": "ipython3",
   "version": "3.9.13"
  }
 },
 "nbformat": 4,
 "nbformat_minor": 5
}

{
 "cells": [
  {
   "cell_type": "markdown",
   "id": "06e5a25d",
   "metadata": {},
   "source": [
    "# This notebook is to prepare streets.csv dataset that will store the names of the Yerevan streets and their coordinates for further use."
   ]
  },
  {
   "cell_type": "code",
   "execution_count": 24,
   "id": "e4db08c0",
   "metadata": {},
   "outputs": [],
   "source": [
    "import osmnx as ox\n",
    "import pandas as pd\n",
    "from unidecode import unidecode\n",
    "from geopy.distance import geodesic\n",
    "from shapely.geometry import LineString\n",
    "from fuzzywuzzy import fuzz"
   ]
  },
  {
   "cell_type": "code",
   "execution_count": 47,
   "id": "5b4d938f",
   "metadata": {},
   "outputs": [],
   "source": [
    "def get_line_midpoint(coords):\n",
    "    \"\"\"\n",
    "    Get the midpoint coordinates (x, y) of a LINESTRING defined by a list of coordinates.\n",
    "    \n",
    "    Args:\n",
    "        coords (list of tuples): List of (x, y) coordinates representing the LINESTRING.\n",
    "        \n",
    "    Returns:\n",
    "        tuple: Tuple containing the x and y coordinates of the midpoint.\n",
    "    \"\"\"\n",
    "    line = LineString(coords)\n",
    "    midpoint = line.interpolate(0.5, normalized=True)\n",
    "    return (midpoint.x, midpoint.y)\n",
    "\n",
    "def encode_names(x):\n",
    "    unicoded = unidecode(str(x))\n",
    "    unicoded = unicoded.replace(\"poghots\", \"street\")\n",
    "    return unicoded"
   ]
  },
  {
   "cell_type": "code",
   "execution_count": 28,
   "id": "72f11d44",
   "metadata": {},
   "outputs": [],
   "source": [
    "place_name = \"Yerevan, Armenia\"\n",
    "graph = ox.graph_from_place(\n",
    "    place_name,\n",
    "    network_type='{\"walk\"}',\n",
    "    custom_filter='[\"name:en\"]'\n",
    ")"
   ]
  },
  {
   "cell_type": "code",
   "execution_count": 60,
   "id": "d2a48bcb",
   "metadata": {
    "scrolled": false
   },
   "outputs": [],
   "source": [
    "gdfs = ox.utils_graph.graph_to_gdfs(graph, edges = True)\n",
    "streets = gdfs[1]\n",
    "streets[\"name_am\"] = streets[\"name\"]\n",
    "streets[\"name_en\"] = streets[\"name\"].apply(encode_names)\n",
    "streets[\"name_en\"] = streets[\"name_en\"].str.replace(\"`\", \"\")\n",
    "streets[\"coordinates\"] = streets[\"geometry\"].apply(get_line_midpoint)\n",
    "streets[\"coordinates\"] = streets[\"coordinates\"].apply(lambda coords: (coords[1], coords[0]))\n",
    "streets = streets.reset_index()\n",
    "streets = streets[[\"name_am\", \"name_en\", \"coordinates\"]]\n",
    "streets = streets.dropna()"
   ]
  },
  {
   "cell_type": "code",
   "execution_count": 61,
   "id": "e49b4f3f",
   "metadata": {},
   "outputs": [],
   "source": [
    "streets.to_csv('streets.csv', index=False)"
   ]
  },
  {
   "cell_type": "code",
   "execution_count": null,
   "id": "aa705ce7",
   "metadata": {},
   "outputs": [],
   "source": []
  }
 ],
 "metadata": {
  "kernelspec": {
   "display_name": "Python 3 (ipykernel)",
   "language": "python",
   "name": "python3"
  },
  "language_info": {
   "codemirror_mode": {
    "name": "ipython",
    "version": 3
   },
   "file_extension": ".py",
   "mimetype": "text/x-python",
   "name": "python",
   "nbconvert_exporter": "python",
   "pygments_lexer": "ipython3",
   "version": "3.9.13"
  }
 },
 "nbformat": 4,
 "nbformat_minor": 5
}

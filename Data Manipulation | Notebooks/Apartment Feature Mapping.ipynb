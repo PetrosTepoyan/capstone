{
 "cells": [
  {
   "cell_type": "markdown",
   "id": "e8c8f5ca",
   "metadata": {},
   "source": [
    "# Common Features"
   ]
  },
  {
   "cell_type": "code",
   "execution_count": 7,
   "id": "d8f1e6e1",
   "metadata": {},
   "outputs": [],
   "source": [
    "common_features = [\"Air Conditioner\",\"Security\", \"Furniture\", \"Balcony\", \"Elevator\", \"Heating System\", \"Internet\"\n",
    "                   , \"Pool\"]"
   ]
  },
  {
   "cell_type": "code",
   "execution_count": 8,
   "id": "be57a6c5",
   "metadata": {},
   "outputs": [
    {
     "data": {
      "text/plain": [
       "['Air Conditioner',\n",
       " 'Security',\n",
       " 'Furniture',\n",
       " 'Balcony',\n",
       " 'Elevator',\n",
       " 'Heating System',\n",
       " 'Internet',\n",
       " 'Pool']"
      ]
     },
     "execution_count": 8,
     "metadata": {},
     "output_type": "execute_result"
    }
   ],
   "source": [
    "common_features"
   ]
  },
  {
   "cell_type": "markdown",
   "id": "7d049628",
   "metadata": {},
   "source": [
    "# Important but Uncommon"
   ]
  },
  {
   "cell_type": "markdown",
   "id": "221ad3a8",
   "metadata": {},
   "source": [
    "### Parking\n",
    "### TV\n",
    "### Mortgage Opportunity"
   ]
  },
  {
   "cell_type": "code",
   "execution_count": null,
   "id": "56e94fcb",
   "metadata": {},
   "outputs": [],
   "source": []
  }
 ],
 "metadata": {
  "kernelspec": {
   "display_name": "Python 3 (ipykernel)",
   "language": "python",
   "name": "python3"
  },
  "language_info": {
   "codemirror_mode": {
    "name": "ipython",
    "version": 3
   },
   "file_extension": ".py",
   "mimetype": "text/x-python",
   "name": "python",
   "nbconvert_exporter": "python",
   "pygments_lexer": "ipython3",
   "version": "3.9.13"
  }
 },
 "nbformat": 4,
 "nbformat_minor": 5
}

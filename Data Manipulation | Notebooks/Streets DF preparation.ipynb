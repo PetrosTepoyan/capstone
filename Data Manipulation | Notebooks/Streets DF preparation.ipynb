{
 "cells": [
  {
   "cell_type": "code",
   "execution_count": 24,
   "id": "3a963ad9",
   "metadata": {},
   "outputs": [],
   "source": [
    "import osmnx as ox\n",
    "import pandas as pd\n",
    "from unidecode import unidecode\n",
    "from geopy.distance import geodesic\n",
    "from shapely.geometry import LineString\n",
    "from fuzzywuzzy import fuzz"
   ]
  },
  {
   "cell_type": "code",
   "execution_count": 47,
   "id": "0bbe4b2c",
   "metadata": {},
   "outputs": [],
   "source": [
    "def get_line_midpoint(coords):\n",
    "    \"\"\"\n",
    "    Get the midpoint coordinates (x, y) of a LINESTRING defined by a list of coordinates.\n",
    "    \n",
    "    Args:\n",
    "        coords (list of tuples): List of (x, y) coordinates representing the LINESTRING.\n",
    "        \n",
    "    Returns:\n",
    "        tuple: Tuple containing the x and y coordinates of the midpoint.\n",
    "    \"\"\"\n",
    "    line = LineString(coords)\n",
    "    midpoint = line.interpolate(0.5, normalized=True)\n",
    "    return (midpoint.x, midpoint.y)\n",
    "\n",
    "def encode_names(x):\n",
    "    unicoded = unidecode(str(x))\n",
    "    unicoded = unicoded.replace(\"poghots\", \"street\")\n",
    "    return unicoded\n",
    "\n",
    "def get_top_matched_coordinate(df, query, debug = False):\n",
    "    max_score = 0\n",
    "    top_row = None\n",
    "\n",
    "    for index, row in df.iterrows():\n",
    "        score = fuzz.ratio(query.lower(), row['name_en'].lower())\n",
    "        if score > max_score:\n",
    "            max_score = score\n",
    "            top_row = row\n",
    "            \n",
    "    if debug:\n",
    "        return top_row\n",
    "    else:\n",
    "        return top_row[\"coordinates\"]\n"
   ]
  },
  {
   "cell_type": "code",
   "execution_count": 28,
   "id": "e9b5fa71",
   "metadata": {},
   "outputs": [],
   "source": [
    "place_name = \"Yerevan, Armenia\"\n",
    "graph = ox.graph_from_place(\n",
    "    place_name,\n",
    "    network_type='{\"walk\"}',\n",
    "    custom_filter='[\"name:en\"]'\n",
    ")"
   ]
  },
  {
   "cell_type": "code",
   "execution_count": 60,
   "id": "d5a07ba1",
   "metadata": {
    "scrolled": false
   },
   "outputs": [],
   "source": [
    "gdfs = ox.utils_graph.graph_to_gdfs(graph, edges = True)\n",
    "streets = gdfs[1]\n",
    "streets[\"name_am\"] = streets[\"name\"]\n",
    "streets[\"name_en\"] = streets[\"name\"].apply(encode_names)\n",
    "streets[\"name_en\"] = streets[\"name_en\"].str.replace(\"`\", \"\")\n",
    "streets[\"coordinates\"] = streets[\"geometry\"].apply(get_line_midpoint)\n",
    "streets[\"coordinates\"] = streets[\"coordinates\"].apply(lambda coords: (coords[1], coords[0]))\n",
    "streets = streets.reset_index()\n",
    "streets = streets[[\"name_am\", \"name_en\", \"coordinates\"]]\n",
    "streets = streets.dropna()"
   ]
  },
  {
   "cell_type": "code",
   "execution_count": 61,
   "id": "3a2685d7",
   "metadata": {},
   "outputs": [],
   "source": [
    "streets.to_csv('streets.csv', index=False)"
   ]
  },
  {
   "cell_type": "code",
   "execution_count": 49,
   "id": "02fcf392",
   "metadata": {},
   "outputs": [
    {
     "data": {
      "text/plain": [
       "name_am            Դավթաշենի 4-րդ փողոց\n",
       "name_en         Davtasheni 4-rd poghots\n",
       "coordinates    (44.4790618, 40.2134186)\n",
       "Name: 2497, dtype: object"
      ]
     },
     "execution_count": 49,
     "metadata": {},
     "output_type": "execute_result"
    }
   ],
   "source": [
    "get_top_matched_coordinate(streets, \"Davtashen 4 St\", debug = True)"
   ]
  },
  {
   "cell_type": "code",
   "execution_count": 59,
   "id": "d5c2087c",
   "metadata": {},
   "outputs": [
    {
     "data": {
      "text/plain": [
       "0        (40.1906722427931, 44.46234708546167)\n",
       "1       (40.19167216210699, 44.46253132416954)\n",
       "2       (40.15532783191185, 44.45101440879486)\n",
       "3       (40.159092487710595, 44.4779542538313)\n",
       "4        (40.1528887108029, 44.50010169956805)\n",
       "                         ...                  \n",
       "8904         (40.211587300000005, 44.53160325)\n",
       "8905          (40.2115894, 44.531686449999995)\n",
       "8906                 (40.2122695, 44.53222975)\n",
       "8907    (40.21303392770567, 44.53240499633234)\n",
       "8908    (40.21239691932678, 44.53413149819361)\n",
       "Name: coordinates, Length: 8897, dtype: object"
      ]
     },
     "execution_count": 59,
     "metadata": {},
     "output_type": "execute_result"
    }
   ],
   "source": []
  },
  {
   "cell_type": "code",
   "execution_count": null,
   "id": "bc68e226",
   "metadata": {},
   "outputs": [],
   "source": []
  }
 ],
 "metadata": {
  "kernelspec": {
   "display_name": "Python 3 (ipykernel)",
   "language": "python",
   "name": "python3"
  },
  "language_info": {
   "codemirror_mode": {
    "name": "ipython",
    "version": 3
   },
   "file_extension": ".py",
   "mimetype": "text/x-python",
   "name": "python",
   "nbconvert_exporter": "python",
   "pygments_lexer": "ipython3",
   "version": "3.9.13"
  }
 },
 "nbformat": 4,
 "nbformat_minor": 5
}

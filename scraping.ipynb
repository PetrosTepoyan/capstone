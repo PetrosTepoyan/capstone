{
 "cells": [
  {
   "cell_type": "code",
   "execution_count": 11,
   "id": "7a149ba7",
   "metadata": {},
   "outputs": [],
   "source": [
    "%load_ext autoreload\n",
    "%autoreload 2"
   ]
  },
  {
   "cell_type": "code",
   "execution_count": 1,
   "id": "ce6b363c",
   "metadata": {},
   "outputs": [],
   "source": [
    "# MyRealty\n",
    "from ConcreteScrapers.MyRealty.MyRealtyScrapingPipeline import MyRealtyScrapingPipeline\n",
    "\n",
    "# Storage\n",
    "from CSVStorage import CSVStorage"
   ]
  },
  {
   "cell_type": "code",
   "execution_count": 2,
   "id": "960e8492",
   "metadata": {},
   "outputs": [],
   "source": [
    "storage = CSVStorage(\"apartments.csv\")"
   ]
  },
  {
   "cell_type": "code",
   "execution_count": 3,
   "id": "3e4f7515",
   "metadata": {},
   "outputs": [],
   "source": [
    "scraper_pipeline = MyRealtyScrapingPipeline(\n",
    "    \"https://myrealty.am/en/apartments-for-sale/7784\", \n",
    "    storage\n",
    ")"
   ]
  },
  {
   "cell_type": "markdown",
   "id": "9f4bc2db",
   "metadata": {},
   "source": [
    "# GeoService"
   ]
  },
  {
   "cell_type": "code",
   "execution_count": 24,
   "id": "58940e04",
   "metadata": {},
   "outputs": [
    {
     "name": "stdout",
     "output_type": "stream",
     "text": [
      "[Amenity: store, Latitude: 40.1503659, Longitude: 44.5231357, Amenity: restaurant, Latitude: 40.1416798, Longitude: 44.5222183, Amenity: school, Latitude: 40.14604459999999, Longitude: 44.5233545, Amenity: school, Latitude: 40.140908, Longitude: 44.5203911, Amenity: beauty_salon, Latitude: 40.1456645, Longitude: 44.52097089999999, Amenity: supermarket, Latitude: 40.1421264, Longitude: 44.5211657, Amenity: store, Latitude: 40.1421264, Longitude: 44.5211657, Amenity: store, Latitude: 40.1423248, Longitude: 44.5224935]\n"
     ]
    }
   ],
   "source": [
    "from GeoFeaturesExtractor import GeoFeaturesExtractor\n",
    "geoService = GeoFeaturesExtractor([\"supermarket\", \"restaurant\", \"store\", \"hospital\", \"subway_station\", \"school\", \"beauty_salon\"], 1000)\n",
    "lat, lng = geoService.location(\"Yerevan/Erebuni/Khorenatsi Street (ER.)\")\n",
    "amenities = geoService.find_nearby_places(f\"{lat},{lng}\")\n",
    "print(amenities)"
   ]
  },
  {
   "cell_type": "code",
   "execution_count": 32,
   "id": "360a6eb7",
   "metadata": {},
   "outputs": [],
   "source": [
    "from bs4 import BeautifulSoup\n",
    "import requests\n",
    "import re"
   ]
  },
  {
   "cell_type": "code",
   "execution_count": 33,
   "id": "945cc13b",
   "metadata": {},
   "outputs": [],
   "source": [
    "url = \"https://bars.am/en/properties/standard/apartment/53896\"\n",
    "response = requests.get(url)\n",
    "\n",
    "if response.status_code != 200 or not response.text.strip():\n",
    "    print(\"Failed\", response.status_code)\n",
    "\n",
    "soup = BeautifulSoup(response.text, 'html.parser')"
   ]
  },
  {
   "cell_type": "code",
   "execution_count": 43,
   "id": "df3f4a63",
   "metadata": {},
   "outputs": [],
   "source": [
    "strong_tag = soup.find('strong', string='Apartment area (sq/m):')\n",
    "\n",
    "def __get_quick_data(label: str, type_) -> any:\n",
    "    quick_data_tag = soup.find('strong', text=f'{label}').parent\n",
    "    quick_data_text = ''.join(quick_data_tag.stripped_strings).replace(f'{label}', '').strip()\n",
    "    return type_(quick_data_text)\n",
    "\n",
    "def __get_id() -> int:\n",
    "    # Use a regex pattern to find the div containing the desired text\n",
    "    div_tag = soup.find('div', string=re.compile(\"Code: (\\d+)\"))\n",
    "\n",
    "    # If the tag is found, extract the value using the regex\n",
    "    if div_tag:\n",
    "        match = re.search(\"Code: (\\d+)\", div_tag.text)\n",
    "        if match:\n",
    "            value = match.group(1)\n",
    "            return value\n",
    "    else:\n",
    "        return None\n",
    "    \n",
    "def __get_address() -> str:\n",
    "    # Find the div tag with the specific id \"listing-address-label\"\n",
    "    div_tag = soup.find('div', id=\"listing-address-label\")\n",
    "\n",
    "    # If the tag is found, extract the text content after the icon\n",
    "    if div_tag:\n",
    "        address = div_tag.text.replace('<i class=\"fa fa-map-marker\"></i>', '').strip()\n",
    "        return address\n",
    "    else:\n",
    "        return None\n",
    "    \n",
    "def __get_price() -> int:\n",
    "    # Find the div tag with the specific class \"price for-sale-2\"\n",
    "    div_tag = soup.find('div', class_=\"price for-sale-2\")\n",
    "\n",
    "    # If the tag is found, extract the text content after the icon\n",
    "    if div_tag:\n",
    "        price = div_tag.text.replace('<i class=\"fa fa-usd\"></i>', '').strip().replace(\",\", \"\")\n",
    "        return int(price)\n",
    "    else:\n",
    "        return None"
   ]
  },
  {
   "cell_type": "code",
   "execution_count": 44,
   "id": "5509662a",
   "metadata": {},
   "outputs": [],
   "source": [
    "area = __get_quick_data(\"Apartment area (sq/m):\", float)\n",
    "floor = __get_quick_data(\"Floor:\", int)\n",
    "storeys = __get_quick_data(\"Floors:\", int)\n",
    "rooms = __get_quick_data(\"Number of rooms:\", int)\n",
    "bedrooms = __get_quick_data(\"Number of bedrooms:\", int)\n",
    "bathrooms = __get_quick_data(\"Number of bathrooms:\", int)\n",
    "ceiling_height = __get_quick_data(\"Ceiling height (m):\", float) \n",
    "building_type = __get_quick_data(\"Building Type:\", str)\n",
    "condition = __get_quick_data(\"Condition:\", str)\n",
    "id_ = __get_id()\n",
    "address = __get_address()\n",
    "price = __get_price()"
   ]
  },
  {
   "cell_type": "code",
   "execution_count": 45,
   "id": "4fe2e616",
   "metadata": {},
   "outputs": [],
   "source": [
    "amenities = [item.span.text for item in soup.findAll('li', class_='amenities-item')]\n"
   ]
  },
  {
   "cell_type": "code",
   "execution_count": 46,
   "id": "5d286310",
   "metadata": {},
   "outputs": [
    {
     "data": {
      "text/plain": [
       "['Building security',\n",
       " 'Heating system',\n",
       " 'Open balcony',\n",
       " 'Washing machine',\n",
       " 'Kitchen stove',\n",
       " 'Fridge',\n",
       " 'Built-in furniture',\n",
       " 'Kitchen furniture',\n",
       " 'Transport availability']"
      ]
     },
     "execution_count": 46,
     "metadata": {},
     "output_type": "execute_result"
    }
   ],
   "source": [
    "amenities"
   ]
  },
  {
   "cell_type": "code",
   "execution_count": 56,
   "id": "987624af",
   "metadata": {},
   "outputs": [
    {
     "data": {
      "text/plain": [
       "['https://bars.am/uploads/listing-pics/1967/60499b3a.jpg',\n",
       " 'https://bars.am/uploads/listing-pics/1967/a083ca25.jpg',\n",
       " 'https://bars.am/uploads/listing-pics/1967/e4207240.jpg',\n",
       " 'https://bars.am/uploads/listing-pics/1967/fcf69ca5.jpg',\n",
       " 'https://bars.am/uploads/listing-pics/1967/9a68a109.jpg',\n",
       " 'https://bars.am/uploads/listing-pics/1967/404f56d9.jpg']"
      ]
     },
     "execution_count": 56,
     "metadata": {},
     "output_type": "execute_result"
    }
   ],
   "source": [
    "image_links = [img['src'] for img in soup.findAll('img')]\n",
    "final_links = []\n",
    "for link in image_links:\n",
    "    if \"uploads/listing-pics/\" in link and \"_\" not in link:\n",
    "        final_links.append(link)\n",
    "final_links"
   ]
  },
  {
   "cell_type": "code",
   "execution_count": 74,
   "id": "2bc33006",
   "metadata": {},
   "outputs": [
    {
     "data": {
      "text/plain": [
       "{'id': '53896',\n",
       " 'price': 75000,\n",
       " 'facilities': ['Building security',\n",
       "  'Heating system',\n",
       "  'Open balcony',\n",
       "  'Washing machine',\n",
       "  'Kitchen stove',\n",
       "  'Fridge',\n",
       "  'Built-in furniture',\n",
       "  'Kitchen furniture',\n",
       "  'Transport availability'],\n",
       " 'location': 'Yerevan/Erebuni/Khorenatsi Street (ER.)',\n",
       " 'area': 78.0,\n",
       " 'rooms': 3,\n",
       " 'floor': 2,\n",
       " 'storeys': 4,\n",
       " 'bedrooms': 2,\n",
       " 'bathrooms': 1,\n",
       " 'ceiling_height': 3.2,\n",
       " 'building_type': 'Stalinka c/o',\n",
       " 'condition': 'Old major overhaul'}"
      ]
     },
     "execution_count": 74,
     "metadata": {},
     "output_type": "execute_result"
    }
   ],
   "source": [
    "from ConcreteScrapers.Bars.BarsApartmentScraper import BarsApartmentScraper\n",
    "scraper = BarsApartmentScraper(\"https://bars.am/en/properties/standard/apartment/53896\")\n",
    "scraper.scrape()\n",
    "scraper.values()"
   ]
  },
  {
   "cell_type": "code",
   "execution_count": null,
   "id": "9de09063",
   "metadata": {},
   "outputs": [],
   "source": []
  }
 ],
 "metadata": {
  "kernelspec": {
   "display_name": "Python 3 (ipykernel)",
   "language": "python",
   "name": "python3"
  },
  "language_info": {
   "codemirror_mode": {
    "name": "ipython",
    "version": 3
   },
   "file_extension": ".py",
   "mimetype": "text/x-python",
   "name": "python",
   "nbconvert_exporter": "python",
   "pygments_lexer": "ipython3",
   "version": "3.9.13"
  }
 },
 "nbformat": 4,
 "nbformat_minor": 5
}

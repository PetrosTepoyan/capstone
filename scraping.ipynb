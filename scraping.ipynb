{
 "cells": [
  {
   "cell_type": "code",
   "execution_count": 1,
   "id": "7a149ba7",
   "metadata": {},
   "outputs": [],
   "source": [
    "%load_ext autoreload\n",
    "%autoreload 2"
   ]
  },
  {
   "cell_type": "code",
   "execution_count": 34,
   "id": "ce6b363c",
   "metadata": {},
   "outputs": [],
   "source": [
    "# MyRealty\n",
    "from ConcreteScrapers.MyRealty.MyRealtyScrapingPipeline import MyRealtyScrapingPipeline\n",
    "\n",
    "# Storage\n",
    "from ConcreteStorages import CSVStorage\n",
    "\n",
    "# Services\n",
    "from Services import ImageLoader\n",
    "\n",
    "storage = CSVStorage(\n",
    "    file_path = \"apartments.csv\",\n",
    "    images_path = \"images/\"\n",
    ")\n",
    "image_loader = ImageLoader(storage)\n",
    "\n",
    "scraper_pipeline = MyRealtyScrapingPipeline(\n",
    "    \"https://myrealty.am/en/apartments-for-sale/7784\", \n",
    "    storage,\n",
    "    image_loader\n",
    ")\n",
    "\n",
    "links = scraper_pipeline.get_apartment_links()\n",
    "for link in links:\n",
    "    scraper_pipeline.scrape_apartment(link)"
   ]
  },
  {
   "cell_type": "markdown",
   "id": "9f4bc2db",
   "metadata": {},
   "source": [
    "# GeoService"
   ]
  },
  {
   "cell_type": "code",
   "execution_count": 17,
   "id": "58940e04",
   "metadata": {},
   "outputs": [
    {
     "name": "stdout",
     "output_type": "stream",
     "text": [
      "[Amenity: store, Latitude: 40.1503659, Longitude: 44.5231357, Amenity: restaurant, Latitude: 40.1416798, Longitude: 44.5222183, Amenity: school, Latitude: 40.14604459999999, Longitude: 44.5233545, Amenity: school, Latitude: 40.140908, Longitude: 44.5203911, Amenity: beauty_salon, Latitude: 40.1456645, Longitude: 44.52097089999999, Amenity: supermarket, Latitude: 40.1421264, Longitude: 44.5211657, Amenity: store, Latitude: 40.1421264, Longitude: 44.5211657, Amenity: store, Latitude: 40.1423248, Longitude: 44.5224935]\n"
     ]
    }
   ],
   "source": [
    "from Services import GeoFeaturesExtractor\n",
    "geoService = GeoFeaturesExtractor([\"supermarket\", \"restaurant\", \"store\", \"hospital\", \"subway_station\", \"school\", \"beauty_salon\"], 1000)\n",
    "lat, lng = geoService.location(\"Yerevan/Erebuni/Khorenatsi Street (ER.)\")\n",
    "amenities = geoService.find_nearby_places(f\"{lat},{lng}\")\n",
    "print(amenities)"
   ]
  },
  {
   "cell_type": "code",
   "execution_count": 18,
   "id": "2bc33006",
   "metadata": {},
   "outputs": [
    {
     "data": {
      "text/plain": [
       "{'source': 'bars',\n",
       " 'id': '53896',\n",
       " 'price': 75000,\n",
       " 'facilities': ['Building security',\n",
       "  'Heating system',\n",
       "  'Open balcony',\n",
       "  'Washing machine',\n",
       "  'Kitchen stove',\n",
       "  'Fridge',\n",
       "  'Built-in furniture',\n",
       "  'Kitchen furniture',\n",
       "  'Transport availability'],\n",
       " 'location': 'Yerevan/Erebuni/Khorenatsi Street (ER.)',\n",
       " 'area': 78.0,\n",
       " 'rooms': 3,\n",
       " 'floor': 2,\n",
       " 'storeys': 4,\n",
       " 'bedrooms': 2,\n",
       " 'bathrooms': 1,\n",
       " 'ceiling_height': 3.2,\n",
       " 'building_type': 'Stalinka c/o',\n",
       " 'condition': 'Old major overhaul'}"
      ]
     },
     "execution_count": 18,
     "metadata": {},
     "output_type": "execute_result"
    }
   ],
   "source": [
    "from ConcreteScrapers.Bars.BarsApartmentScraper import BarsApartmentScraper\n",
    "scraper = BarsApartmentScraper(\"https://bars.am/en/properties/standard/apartment/53896\")\n",
    "scraper.scrape()\n",
    "scraper.values()"
   ]
  },
  {
   "cell_type": "code",
   "execution_count": null,
   "id": "9de09063",
   "metadata": {},
   "outputs": [],
   "source": []
  }
 ],
 "metadata": {
  "kernelspec": {
   "display_name": "Python 3 (ipykernel)",
   "language": "python",
   "name": "python3"
  },
  "language_info": {
   "codemirror_mode": {
    "name": "ipython",
    "version": 3
   },
   "file_extension": ".py",
   "mimetype": "text/x-python",
   "name": "python",
   "nbconvert_exporter": "python",
   "pygments_lexer": "ipython3",
   "version": "3.9.13"
  }
 },
 "nbformat": 4,
 "nbformat_minor": 5
}

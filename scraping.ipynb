{
 "cells": [
  {
   "cell_type": "code",
   "execution_count": 6,
   "id": "7a149ba7",
   "metadata": {},
   "outputs": [
    {
     "name": "stdout",
     "output_type": "stream",
     "text": [
      "The autoreload extension is already loaded. To reload it, use:\n",
      "  %reload_ext autoreload\n"
     ]
    }
   ],
   "source": [
    "%load_ext autoreload\n",
    "%autoreload 2"
   ]
  },
  {
   "cell_type": "code",
   "execution_count": 7,
   "id": "ce6b363c",
   "metadata": {},
   "outputs": [],
   "source": [
    "# MyRealty\n",
    "from ConcreteScrapers.MyRealty.MyRealtyScrapingPipeline import MyRealtyScrapingPipeline\n",
    "\n",
    "# Storage\n",
    "from ConcreteStorages import CSVStorage\n",
    "from Services import ImageLoader"
   ]
  },
  {
   "cell_type": "code",
   "execution_count": 8,
   "id": "960e8492",
   "metadata": {},
   "outputs": [],
   "source": [
    "storage = CSVStorage(\"apartments.csv\")\n",
    "image_loader = ImageLoader(storage)"
   ]
  },
  {
   "cell_type": "code",
   "execution_count": 9,
   "id": "3e4f7515",
   "metadata": {},
   "outputs": [
    {
     "ename": "TypeError",
     "evalue": "__init__() missing 1 required positional argument: 'image_loader'",
     "output_type": "error",
     "traceback": [
      "\u001b[0;31m---------------------------------------------------------------------------\u001b[0m",
      "\u001b[0;31mTypeError\u001b[0m                                 Traceback (most recent call last)",
      "Input \u001b[0;32mIn [9]\u001b[0m, in \u001b[0;36m<cell line: 1>\u001b[0;34m()\u001b[0m\n\u001b[0;32m----> 1\u001b[0m scraper_pipeline \u001b[38;5;241m=\u001b[39m \u001b[43mMyRealtyScrapingPipeline\u001b[49m\u001b[43m(\u001b[49m\n\u001b[1;32m      2\u001b[0m \u001b[43m    \u001b[49m\u001b[38;5;124;43m\"\u001b[39;49m\u001b[38;5;124;43mhttps://myrealty.am/en/apartments-for-sale/7784\u001b[39;49m\u001b[38;5;124;43m\"\u001b[39;49m\u001b[43m,\u001b[49m\u001b[43m \u001b[49m\n\u001b[1;32m      3\u001b[0m \u001b[43m    \u001b[49m\u001b[43mstorage\u001b[49m\n\u001b[1;32m      4\u001b[0m \u001b[43m)\u001b[49m\n",
      "\u001b[0;31mTypeError\u001b[0m: __init__() missing 1 required positional argument: 'image_loader'"
     ]
    }
   ],
   "source": [
    "scraper_pipeline = MyRealtyScrapingPipeline(\n",
    "    \"https://myrealty.am/en/apartments-for-sale/7784\", \n",
    "    storage,\n",
    "    image_loader\n",
    ")"
   ]
  },
  {
   "cell_type": "markdown",
   "id": "9f4bc2db",
   "metadata": {},
   "source": [
    "# GeoService"
   ]
  },
  {
   "cell_type": "code",
   "execution_count": 1,
   "id": "58940e04",
   "metadata": {},
   "outputs": [
    {
     "name": "stdout",
     "output_type": "stream",
     "text": [
      "[Amenity: store, Latitude: 40.1503659, Longitude: 44.5231357, Amenity: restaurant, Latitude: 40.1416798, Longitude: 44.5222183, Amenity: school, Latitude: 40.14604459999999, Longitude: 44.5233545, Amenity: school, Latitude: 40.140908, Longitude: 44.5203911, Amenity: beauty_salon, Latitude: 40.1456645, Longitude: 44.52097089999999, Amenity: store, Latitude: 40.1421264, Longitude: 44.5211657, Amenity: supermarket, Latitude: 40.1421264, Longitude: 44.5211657, Amenity: store, Latitude: 40.1423248, Longitude: 44.5224935]\n"
     ]
    }
   ],
   "source": [
    "from GeoFeaturesExtractor import GeoFeaturesExtractor\n",
    "geoService = GeoFeaturesExtractor([\"supermarket\", \"restaurant\", \"store\", \"hospital\", \"subway_station\", \"school\", \"beauty_salon\"], 1000)\n",
    "lat, lng = geoService.location(\"Yerevan/Erebuni/Khorenatsi Street (ER.)\")\n",
    "amenities = geoService.find_nearby_places(f\"{lat},{lng}\")\n",
    "print(amenities)"
   ]
  },
  {
   "cell_type": "code",
   "execution_count": 74,
   "id": "2bc33006",
   "metadata": {},
   "outputs": [
    {
     "data": {
      "text/plain": [
       "{'id': '53896',\n",
       " 'price': 75000,\n",
       " 'facilities': ['Building security',\n",
       "  'Heating system',\n",
       "  'Open balcony',\n",
       "  'Washing machine',\n",
       "  'Kitchen stove',\n",
       "  'Fridge',\n",
       "  'Built-in furniture',\n",
       "  'Kitchen furniture',\n",
       "  'Transport availability'],\n",
       " 'location': 'Yerevan/Erebuni/Khorenatsi Street (ER.)',\n",
       " 'area': 78.0,\n",
       " 'rooms': 3,\n",
       " 'floor': 2,\n",
       " 'storeys': 4,\n",
       " 'bedrooms': 2,\n",
       " 'bathrooms': 1,\n",
       " 'ceiling_height': 3.2,\n",
       " 'building_type': 'Stalinka c/o',\n",
       " 'condition': 'Old major overhaul'}"
      ]
     },
     "execution_count": 74,
     "metadata": {},
     "output_type": "execute_result"
    }
   ],
   "source": [
    "from ConcreteScrapers.Bars.BarsApartmentScraper import BarsApartmentScraper\n",
    "scraper = BarsApartmentScraper(\"https://bars.am/en/properties/standard/apartment/53896\")\n",
    "scraper.scrape()\n",
    "scraper.values()"
   ]
  },
  {
   "cell_type": "code",
   "execution_count": null,
   "id": "9de09063",
   "metadata": {},
   "outputs": [],
   "source": []
  }
 ],
 "metadata": {
  "kernelspec": {
   "display_name": "Python 3 (ipykernel)",
   "language": "python",
   "name": "python3"
  },
  "language_info": {
   "codemirror_mode": {
    "name": "ipython",
    "version": 3
   },
   "file_extension": ".py",
   "mimetype": "text/x-python",
   "name": "python",
   "nbconvert_exporter": "python",
   "pygments_lexer": "ipython3",
   "version": "3.9.13"
  }
 },
 "nbformat": 4,
 "nbformat_minor": 5
}

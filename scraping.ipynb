{
 "cells": [
  {
   "cell_type": "code",
   "execution_count": 6,
   "id": "7a149ba7",
   "metadata": {},
   "outputs": [
    {
     "name": "stdout",
     "output_type": "stream",
     "text": [
      "The autoreload extension is already loaded. To reload it, use:\n",
      "  %reload_ext autoreload\n"
     ]
    }
   ],
   "source": [
    "%load_ext autoreload\n",
    "%autoreload 2"
   ]
  },
  {
   "cell_type": "code",
   "execution_count": 31,
   "id": "ce6b363c",
   "metadata": {},
   "outputs": [],
   "source": [
    "# MyRealty\n",
    "from ConcreteScrapers.MyRealty.MyRealtyScrapingPipeline import MyRealtyScrapingPipeline\n",
    "\n",
    "# Storage\n",
    "from ConcreteStorages import CSVStorage\n",
    "from Services import ImageLoader"
   ]
  },
  {
   "cell_type": "code",
   "execution_count": 32,
   "id": "960e8492",
   "metadata": {},
   "outputs": [],
   "source": [
    "storage = CSVStorage(\"apartments.csv\")\n",
    "image_loader = ImageLoader(storage)"
   ]
  },
  {
   "cell_type": "code",
   "execution_count": 33,
   "id": "3e4f7515",
   "metadata": {},
   "outputs": [],
   "source": [
    "scraper_pipeline = MyRealtyScrapingPipeline(\n",
    "    \"https://myrealty.am/en/apartments-for-sale/7784\", \n",
    "    storage,\n",
    "    image_loader\n",
    ")"
   ]
  },
  {
   "cell_type": "code",
   "execution_count": 34,
   "id": "96174453",
   "metadata": {},
   "outputs": [
    {
     "ename": "TypeError",
     "evalue": "__init__() missing 1 required positional argument: 'image_loader'",
     "output_type": "error",
     "traceback": [
      "\u001b[0;31m---------------------------------------------------------------------------\u001b[0m",
      "\u001b[0;31mTypeError\u001b[0m                                 Traceback (most recent call last)",
      "Input \u001b[0;32mIn [34]\u001b[0m, in \u001b[0;36m<cell line: 3>\u001b[0;34m()\u001b[0m\n\u001b[1;32m      1\u001b[0m links \u001b[38;5;241m=\u001b[39m scraper_pipeline\u001b[38;5;241m.\u001b[39mget_apartment_links()\n\u001b[1;32m      2\u001b[0m ap_1 \u001b[38;5;241m=\u001b[39m links[\u001b[38;5;241m0\u001b[39m]\n\u001b[0;32m----> 3\u001b[0m \u001b[43mscraper_pipeline\u001b[49m\u001b[38;5;241;43m.\u001b[39;49m\u001b[43mscrape_apartment\u001b[49m\u001b[43m(\u001b[49m\u001b[43map_1\u001b[49m\u001b[43m)\u001b[49m\n",
      "File \u001b[0;32m~/Desktop/capstone.tmp/ConcreteScrapers/MyRealty/MyRealtyScrapingPipeline.py:34\u001b[0m, in \u001b[0;36mMyRealtyScrapingPipeline.scrape_apartment\u001b[0;34m(self, apartment_url)\u001b[0m\n\u001b[1;32m     32\u001b[0m \u001b[38;5;28;01mdef\u001b[39;00m \u001b[38;5;21mscrape_apartment\u001b[39m(\u001b[38;5;28mself\u001b[39m, apartment_url):\n\u001b[1;32m     33\u001b[0m     \u001b[38;5;66;03m# Create an instance of ApartmentScraper with the provided URL\u001b[39;00m\n\u001b[0;32m---> 34\u001b[0m     apartment_scraper \u001b[38;5;241m=\u001b[39m \u001b[38;5;28;43mself\u001b[39;49m\u001b[38;5;241;43m.\u001b[39;49m\u001b[43mapartment_scraper\u001b[49m\u001b[43m(\u001b[49m\u001b[43mapartment_url\u001b[49m\u001b[43m)\u001b[49m\n\u001b[1;32m     36\u001b[0m     \u001b[38;5;66;03m# Call the scrape method of the ApartmentScraper\u001b[39;00m\n\u001b[1;32m     37\u001b[0m     apartment_scraper\u001b[38;5;241m.\u001b[39mscrape()\n",
      "\u001b[0;31mTypeError\u001b[0m: __init__() missing 1 required positional argument: 'image_loader'"
     ]
    }
   ],
   "source": [
    "links = scraper_pipeline.get_apartment_links()\n",
    "ap_1 = links[0]\n",
    "scraper_pipeline.scrape_apartment(ap_1)"
   ]
  },
  {
   "cell_type": "markdown",
   "id": "9f4bc2db",
   "metadata": {},
   "source": [
    "# GeoService"
   ]
  },
  {
   "cell_type": "code",
   "execution_count": 17,
   "id": "58940e04",
   "metadata": {},
   "outputs": [
    {
     "name": "stdout",
     "output_type": "stream",
     "text": [
      "[Amenity: store, Latitude: 40.1503659, Longitude: 44.5231357, Amenity: restaurant, Latitude: 40.1416798, Longitude: 44.5222183, Amenity: school, Latitude: 40.14604459999999, Longitude: 44.5233545, Amenity: school, Latitude: 40.140908, Longitude: 44.5203911, Amenity: beauty_salon, Latitude: 40.1456645, Longitude: 44.52097089999999, Amenity: supermarket, Latitude: 40.1421264, Longitude: 44.5211657, Amenity: store, Latitude: 40.1421264, Longitude: 44.5211657, Amenity: store, Latitude: 40.1423248, Longitude: 44.5224935]\n"
     ]
    }
   ],
   "source": [
    "from Services import GeoFeaturesExtractor\n",
    "geoService = GeoFeaturesExtractor([\"supermarket\", \"restaurant\", \"store\", \"hospital\", \"subway_station\", \"school\", \"beauty_salon\"], 1000)\n",
    "lat, lng = geoService.location(\"Yerevan/Erebuni/Khorenatsi Street (ER.)\")\n",
    "amenities = geoService.find_nearby_places(f\"{lat},{lng}\")\n",
    "print(amenities)"
   ]
  },
  {
   "cell_type": "code",
   "execution_count": 18,
   "id": "2bc33006",
   "metadata": {},
   "outputs": [
    {
     "data": {
      "text/plain": [
       "{'source': 'bars',\n",
       " 'id': '53896',\n",
       " 'price': 75000,\n",
       " 'facilities': ['Building security',\n",
       "  'Heating system',\n",
       "  'Open balcony',\n",
       "  'Washing machine',\n",
       "  'Kitchen stove',\n",
       "  'Fridge',\n",
       "  'Built-in furniture',\n",
       "  'Kitchen furniture',\n",
       "  'Transport availability'],\n",
       " 'location': 'Yerevan/Erebuni/Khorenatsi Street (ER.)',\n",
       " 'area': 78.0,\n",
       " 'rooms': 3,\n",
       " 'floor': 2,\n",
       " 'storeys': 4,\n",
       " 'bedrooms': 2,\n",
       " 'bathrooms': 1,\n",
       " 'ceiling_height': 3.2,\n",
       " 'building_type': 'Stalinka c/o',\n",
       " 'condition': 'Old major overhaul'}"
      ]
     },
     "execution_count": 18,
     "metadata": {},
     "output_type": "execute_result"
    }
   ],
   "source": [
    "from ConcreteScrapers.Bars.BarsApartmentScraper import BarsApartmentScraper\n",
    "scraper = BarsApartmentScraper(\"https://bars.am/en/properties/standard/apartment/53896\")\n",
    "scraper.scrape()\n",
    "scraper.values()"
   ]
  },
  {
   "cell_type": "code",
   "execution_count": null,
   "id": "9de09063",
   "metadata": {},
   "outputs": [],
   "source": []
  }
 ],
 "metadata": {
  "kernelspec": {
   "display_name": "Python 3 (ipykernel)",
   "language": "python",
   "name": "python3"
  },
  "language_info": {
   "codemirror_mode": {
    "name": "ipython",
    "version": 3
   },
   "file_extension": ".py",
   "mimetype": "text/x-python",
   "name": "python",
   "nbconvert_exporter": "python",
   "pygments_lexer": "ipython3",
   "version": "3.9.13"
  }
 },
 "nbformat": 4,
 "nbformat_minor": 5
}

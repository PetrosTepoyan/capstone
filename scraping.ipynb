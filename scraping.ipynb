{
 "cells": [
  {
   "cell_type": "code",
   "execution_count": 1,
   "id": "7b4c0612",
   "metadata": {},
   "outputs": [],
   "source": [
    "import requests\n",
    "from bs4 import BeautifulSoup\n",
    "import pandas as pd\n",
    "import os\n",
    "import urllib.request\n",
    "import asyncio\n",
    "import aiohttp"
   ]
  },
  {
   "cell_type": "code",
   "execution_count": 85,
   "id": "3284e7b3",
   "metadata": {},
   "outputs": [],
   "source": [
    "# Define the base URL of the website to scrape\n",
    "base_url = \"https://myrealty.am/en/bnakaran/3-senyakanoc/Bagratuniats+Ave/Shengavit/Yerevan/141101\"\n",
    "\n",
    "# Initialize lists to store scraped data\n",
    "apartment_data = []\n",
    "\n",
    "# Create a directory to store the images\n",
    "os.makedirs('images', exist_ok=True)\n",
    "\n",
    "# Start with the first page\n",
    "page_number = 1\n",
    "\n",
    "# Construct the URL for the current page\n",
    "url = f\"{base_url}?page={page_number}\"\n",
    "\n",
    "# Send a GET request to the website\n",
    "response = requests.get(url)\n",
    "\n",
    "# Check if the page is empty or not found, and break the loop if so\n",
    "if response.status_code != 200 or not response.text.strip():\n",
    "    print(\"Failed\", response.status_code)\n",
    "\n",
    "# Parse the HTML content of the page with BeautifulSoup\n",
    "soup = BeautifulSoup(response.text, 'html.parser')"
   ]
  },
  {
   "cell_type": "markdown",
   "id": "782a9afd",
   "metadata": {},
   "source": [
    "### Price"
   ]
  },
  {
   "cell_type": "code",
   "execution_count": 86,
   "id": "50d3db35",
   "metadata": {},
   "outputs": [
    {
     "name": "stdout",
     "output_type": "stream",
     "text": [
      "150000\n"
     ]
    }
   ],
   "source": [
    "price_element = soup.find('div', class_='pl-0')\n",
    "if price_element:\n",
    "    price_element_text = price_element.get_text(strip=True)\n",
    "    price_text_stripped = price_element_text.split(\"/\")[0]\n",
    "    price_text_stripped = price_text_stripped.replace(\",\", \"\")\n",
    "    price = int(price_text_stripped)\n",
    "    print(price)"
   ]
  },
  {
   "cell_type": "markdown",
   "id": "8a257b25",
   "metadata": {},
   "source": [
    "### Facilities"
   ]
  },
  {
   "cell_type": "code",
   "execution_count": 87,
   "id": "3755f337",
   "metadata": {},
   "outputs": [
    {
     "name": "stdout",
     "output_type": "stream",
     "text": [
      "['Heating', 'Internet', 'Hot water', 'Gas', 'Water', 'water 24/7', 'Furniture', 'Equipment', 'Euro windows', 'Iron door', 'Open balcony', 'Basement', 'Sunny', 'View', 'Close to the bus station', 'Garage']\n"
     ]
    }
   ],
   "source": [
    "facilities = [li.find('label').get_text() for li in soup.find_all('li', class_='col-sm-6 col-lg-4 col-xl-3 mb-1')]\n",
    "print(facilities)"
   ]
  },
  {
   "cell_type": "markdown",
   "id": "14db7235",
   "metadata": {},
   "source": [
    "### Location"
   ]
  },
  {
   "cell_type": "code",
   "execution_count": 88,
   "id": "fcb19c49",
   "metadata": {},
   "outputs": [
    {
     "name": "stdout",
     "output_type": "stream",
     "text": [
      "40.18333300 44.51666700\n"
     ]
    }
   ],
   "source": [
    "# Find the div with the specific id\n",
    "div_tag = soup.find('div', id='yandex_map_item_view')\n",
    "\n",
    "# Extract the latitude and longitude from the data-lat and data-lng attributes\n",
    "latitude = div_tag['data-lat']\n",
    "longitude = div_tag['data-lng']\n",
    "\n",
    "print(latitude, longitude)"
   ]
  },
  {
   "cell_type": "markdown",
   "id": "c045124a",
   "metadata": {},
   "source": [
    "### Area, room, floor, storeys"
   ]
  },
  {
   "cell_type": "code",
   "execution_count": 89,
   "id": "48fa5460",
   "metadata": {},
   "outputs": [
    {
     "name": "stdout",
     "output_type": "stream",
     "text": [
      "Area: 83 SQ. M.\n",
      "Room: 3\n",
      "Floor: 4\n",
      "Storeys: 5\n"
     ]
    }
   ],
   "source": [
    "# Find the parent div with the specific class\n",
    "parent_div = soup.find('div', class_='col-12 d-flex justify-content-between justify-content-sm-start item-view-price-params')\n",
    "\n",
    "# Extract the area, room, floor, and storeys\n",
    "area = parent_div.find('div', class_='pl-0').find('span').text\n",
    "room = parent_div.find_all('div')[1].find('span').text\n",
    "floor_storeys = parent_div.find_all('div')[2].find('span').text\n",
    "floor, storeys = floor_storeys.split('/')\n",
    "\n",
    "print('Area:', area)\n",
    "print('Room:', room)\n",
    "print('Floor:', floor)\n",
    "print('Storeys:', storeys)"
   ]
  },
  {
   "cell_type": "markdown",
   "id": "10de261b",
   "metadata": {},
   "source": [
    "### ID"
   ]
  },
  {
   "cell_type": "code",
   "execution_count": 90,
   "id": "fdf711c7",
   "metadata": {},
   "outputs": [
    {
     "name": "stdout",
     "output_type": "stream",
     "text": [
      "ID: 141101\n"
     ]
    }
   ],
   "source": [
    "# Find the div with the specific class and extract the ID\n",
    "id_div = soup.find('div', class_='item-view-id')\n",
    "id_text = id_div.get_text(strip=True)  # Get the text content of the div\n",
    "id_number = id_text.split()[-1]  # Split the text and get the last part, which is the ID number\n",
    "\n",
    "print('ID:', id_number)"
   ]
  },
  {
   "cell_type": "code",
   "execution_count": 91,
   "id": "cea0c1a6",
   "metadata": {},
   "outputs": [
    {
     "name": "stdout",
     "output_type": "stream",
     "text": [
      "Price (SQ. M.): 1,807\n",
      "Bathroom: 1\n",
      "Building type: Stone\n",
      "Ceiling height: 2.8 M\n",
      "condition: Newly repaired\n"
     ]
    }
   ],
   "source": [
    "# Find the ul tag with the specific class\n",
    "ul_tag = soup.find('ul', class_='item-view-list-params')\n",
    "\n",
    "for li_tag in ul_tag.find_all('li'):\n",
    "    # Find the label and value within the li tag\n",
    "    label = li_tag.find('label').get_text(strip=True)\n",
    "    value = li_tag.find('span').get_text(strip=True)\n",
    "    \n",
    "    # Print the extracted information\n",
    "    print(f'{label}: {value}')"
   ]
  },
  {
   "cell_type": "code",
   "execution_count": 94,
   "id": "8a644bae",
   "metadata": {},
   "outputs": [
    {
     "name": "stdout",
     "output_type": "stream",
     "text": [
      "Downloaded https://myrealty.am/images/22/3c/223cf4c5e7232cc2afd2216a5987f51e.jpg\n",
      "Downloaded https://myrealty.am/images/61/62/616285efa9a170ae4c872166d2fc9aa6.jpg\n",
      "Downloaded https://myrealty.am/images/ae/96/ae967fea70fdeaab13f132fee82ea193(1).jpg\n",
      "Downloaded https://myrealty.am/images/ae/96/ae967fea70fdeaab13f132fee82ea193(2).jpg\n",
      "Downloaded https://myrealty.am/images/e3/09/e309b4d5d09b3ca2eb49027617def2da(2).jpg\n",
      "Downloaded https://myrealty.am/images/61/62/616285efa9a170ae4c872166d2fc9aa6(1).jpg\n",
      "Downloaded https://myrealty.am/images/ae/96/ae967fea70fdeaab13f132fee82ea193(3).jpg\n",
      "Downloaded https://myrealty.am/images/ae/96/ae967fea70fdeaab13f132fee82ea193.jpg\n",
      "All images have been downloaded.\n"
     ]
    }
   ],
   "source": [
    "\n",
    "\n",
    "# Extract image URLs\n",
    "# Find img elements with the specific classes\n",
    "img_elements = soup.find_all('img', class_=['owl-lazy', 'lazy-loaded'])\n",
    "\n",
    "# Extract the src attribute of the img elements\n",
    "img_urls = set([img['data-src'] for img in img_elements if 'data-src' in img.attrs])\n",
    "\n",
    "async def download_image(session, url, image_index):\n",
    "    async with session.get(url) as response:\n",
    "        # Check if the request was successful\n",
    "        if response.status != 200:\n",
    "            return\n",
    "        \n",
    "        apartment_images_path = f'images/{id_number}'\n",
    "        # Create a directory to save the images if it doesn't exist\n",
    "        if not os.path.exists(apartment_images_path):\n",
    "            os.makedirs(apartment_images_path)\n",
    "\n",
    "        # Save the image to the local file system\n",
    "        extension = url.split(\".\")[-1]\n",
    "        file_name = os.path.join(apartment_images_path, f\"{image_index}.{extension}\")\n",
    "        with open(file_name, 'wb') as f:\n",
    "            f.write(await response.read())\n",
    "        print(f\"Downloaded {url}\")\n",
    "\n",
    "async def main():\n",
    "    async with aiohttp.ClientSession() as session:\n",
    "        tasks = [download_image(session, url, ind) for ind, url in enumerate(img_urls)]\n",
    "        await asyncio.gather(*tasks)\n",
    "    print(\"All images have been downloaded.\")\n",
    "\n",
    "# Check if there is a running event loop\n",
    "if asyncio.get_running_loop():\n",
    "    # If there is a running event loop, use create_task to schedule the coroutine\n",
    "    asyncio.create_task(main())\n",
    "else:\n",
    "    # If there is no running event loop, use asyncio.run() to execute the coroutine\n",
    "    asyncio.run(main())"
   ]
  },
  {
   "cell_type": "code",
   "execution_count": 22,
   "id": "ff05ee70",
   "metadata": {},
   "outputs": [],
   "source": [
    "class ApartmentScraper:\n",
    "    \n",
    "    def __init__(self, webpage):\n",
    "        \n",
    "        # Send a GET request to the website\n",
    "        response = requests.get(webpage)\n",
    "\n",
    "        # Check if the page is empty or not found, and break the loop if so\n",
    "        if response.status_code != 200 or not response.text.strip():\n",
    "            print(\"Failed\", response.status_code)\n",
    "\n",
    "        # Parse the HTML content of the page with BeautifulSoup\n",
    "        self.soup = BeautifulSoup(response.text, 'html.parser')\n",
    "        \n",
    "    # must through some errors\n",
    "    def scrape(self):\n",
    "        success = self.__scrape_id()\n",
    "        \n",
    "        if success:\n",
    "            self.__scrape_price()\n",
    "            self.__scrape_facilities()\n",
    "            self.__scrape_location()\n",
    "            self.__scrape_misc()\n",
    "            self.__scrape_images()\n",
    "        else:\n",
    "            raise Exception\n",
    "    \n",
    "    def __scrape_id(self) -> bool:\n",
    "        # Find the div with the specific class and extract the ID\n",
    "        id_div = self.soup.find('div', class_='item-view-id')\n",
    "        id_text = id_div.get_text(strip=True)  # Get the text content of the div\n",
    "        id_number = id_text.split()[-1]  # Split the text and get the last part, which is the ID number\n",
    "        \n",
    "        if id_number is None:\n",
    "            return False\n",
    "        else:\n",
    "            self.id = id_number\n",
    "            return True\n",
    "        \n",
    "    def __scrape_facilities(self):\n",
    "        facilities = [li.find('label').get_text() for li in self.soup.find_all('li', class_='col-sm-6 col-lg-4 col-xl-3 mb-1')]\n",
    "        self.facilities = facilities\n",
    "\n",
    "    def __scrape_price(self):\n",
    "        price_element = self.soup.find('div', class_='pl-0')\n",
    "        if price_element:\n",
    "            price_element_text = price_element.get_text(strip=True)\n",
    "            price_text_stripped = price_element_text.split(\"/\")[0]\n",
    "            price_text_stripped = price_text_stripped.replace(\",\", \"\")\n",
    "            price = int(price_text_stripped)\n",
    "            self.price = price\n",
    "            \n",
    "    def __scrape_location(self):\n",
    "        # Find the div with the specific id\n",
    "        div_tag = self.soup.find('div', id='yandex_map_item_view')\n",
    "\n",
    "        # Extract the latitude and longitude from the data-lat and data-lng attributes\n",
    "        latitude = div_tag['data-lat']\n",
    "        longitude = div_tag['data-lng']\n",
    "        self.latitude = latitude\n",
    "        \n",
    "        self.longitude = longitude\n",
    "        \n",
    "    def __scrape_misc(self):\n",
    "        # Find the parent div with the specific class\n",
    "        parent_div = self.soup.find('div', class_='col-12 d-flex justify-content-between justify-content-sm-start item-view-price-params')\n",
    "\n",
    "        # Extract the area, room, floor, and storeys\n",
    "        area = parent_div.find('div', class_='pl-0').find('span').text\n",
    "        room = parent_div.find_all('div')[1].find('span').text\n",
    "        floor_storeys = parent_div.find_all('div')[2].find('span').text\n",
    "        floor, storeys = floor_storeys.split('/')\n",
    "\n",
    "        self.area = area\n",
    "        self.room = room\n",
    "        self.floor = floor\n",
    "        self.storeys = storeys\n",
    "        \n",
    "    def __scrape_images(self):\n",
    "        # Extract image URLs\n",
    "        # Find img elements with the specific classes\n",
    "        img_elements = self.soup.find_all('img', class_=['owl-lazy', 'lazy-loaded'])\n",
    "\n",
    "        # Extract the src attribute of the img elements\n",
    "        img_urls = set([img['data-src'] for img in img_elements if 'data-src' in img.attrs])\n",
    "\n",
    "        async def download_image(session, url, image_index):\n",
    "            async with session.get(url) as response:\n",
    "                # Check if the request was successful\n",
    "                if response.status != 200:\n",
    "                    return\n",
    "\n",
    "                apartment_images_path = f'images/{self.id}'\n",
    "                # Create a directory to save the images if it doesn't exist\n",
    "                if not os.path.exists(apartment_images_path):\n",
    "                    os.makedirs(apartment_images_path)\n",
    "\n",
    "                # Save the image to the local file system\n",
    "                extension = url.split(\".\")[-1]\n",
    "                file_name = os.path.join(apartment_images_path, f\"{image_index}.{extension}\")\n",
    "                with open(file_name, 'wb') as f:\n",
    "                    f.write(await response.read())\n",
    "                print(f\"Downloaded {url}\")\n",
    "\n",
    "        async def main():\n",
    "            async with aiohttp.ClientSession() as session:\n",
    "                tasks = [download_image(session, url, ind) for ind, url in enumerate(img_urls)]\n",
    "                await asyncio.gather(*tasks)\n",
    "            print(f\"All images for ID {self.id} have been downloaded.\")\n",
    "\n",
    "        # Check if there is a running event loop\n",
    "        if asyncio.get_running_loop():\n",
    "            # If there is a running event loop, use create_task to schedule the coroutine\n",
    "            asyncio.create_task(main())\n",
    "        else:\n",
    "            # If there is no running event loop, use asyncio.run() to execute the coroutine\n",
    "            asyncio.run(main())\n",
    "            "
   ]
  },
  {
   "cell_type": "code",
   "execution_count": 23,
   "id": "185b795d",
   "metadata": {},
   "outputs": [],
   "source": [
    "scraper = ApartmentScraper(webpage = \"https://myrealty.am/en/bnakaran/3-senyakanoc/Bagratuniats+Ave/Shengavit/Yerevan/141101\")"
   ]
  },
  {
   "cell_type": "code",
   "execution_count": 24,
   "id": "58d82ea1",
   "metadata": {},
   "outputs": [
    {
     "name": "stdout",
     "output_type": "stream",
     "text": [
      "Downloaded https://myrealty.am/images/ae/96/ae967fea70fdeaab13f132fee82ea193(3).jpg\n",
      "Downloaded https://myrealty.am/images/61/62/616285efa9a170ae4c872166d2fc9aa6(1).jpg\n",
      "Downloaded https://myrealty.am/images/ae/96/ae967fea70fdeaab13f132fee82ea193.jpg\n",
      "Downloaded https://myrealty.am/images/ae/96/ae967fea70fdeaab13f132fee82ea193(1).jpg\n",
      "Downloaded https://myrealty.am/images/e3/09/e309b4d5d09b3ca2eb49027617def2da(2).jpg\n",
      "Downloaded https://myrealty.am/images/61/62/616285efa9a170ae4c872166d2fc9aa6.jpg\n",
      "Downloaded https://myrealty.am/images/ae/96/ae967fea70fdeaab13f132fee82ea193(2).jpg\n",
      "Downloaded https://myrealty.am/images/22/3c/223cf4c5e7232cc2afd2216a5987f51e.jpg\n",
      "All images for ID 141101 have been downloaded.\n"
     ]
    }
   ],
   "source": [
    "scraper.scrape()"
   ]
  },
  {
   "cell_type": "code",
   "execution_count": 21,
   "id": "de52b030",
   "metadata": {},
   "outputs": [
    {
     "name": "stdout",
     "output_type": "stream",
     "text": [
      "150000\n",
      "83 SQ. M. 3 4 5\n"
     ]
    }
   ],
   "source": [
    "print(scraper.price)\n",
    "print(scraper.area, scraper.room, scraper.floor, scraper.storeys)"
   ]
  },
  {
   "cell_type": "code",
   "execution_count": 36,
   "id": "c08ec106",
   "metadata": {},
   "outputs": [],
   "source": [
    "class ScraperPipeline:\n",
    "    \n",
    "    def __init__(self, base_url, storage):\n",
    "        self.base_url = base_url\n",
    "        self.page = 1\n",
    "        \n",
    "        self.__set_soup(base_url)\n",
    "        \n",
    "    def __set_soup(self, url):\n",
    "        \n",
    "        # Send a GET request to the website\n",
    "        response = requests.get(url)\n",
    "\n",
    "        # Check if the page is empty or not found, and break the loop if so\n",
    "        if response.status_code != 200 or not response.text.strip():\n",
    "            print(\"Failed\", response.status_code)\n",
    "\n",
    "        # Parse the HTML content of the page with BeautifulSoup\n",
    "        self.soup = BeautifulSoup(response.text, 'html.parser')\n",
    "        \n",
    "    def navigate_to_next_page(self):\n",
    "        self.page += 1\n",
    "        self.__set_soup(f\"{self.base_url}?page={self.page}\")\n",
    "    \n",
    "    def scrape_apartments_from_current_page(self):\n",
    "        apartments = self.get_apartment_links_for_current_page()\n",
    "        for apartment_link in apartments:\n",
    "            apartment_scraper = ApartmentScraper(apartment_link)\n",
    "            apartment_scraper.scrape()\n",
    "    \n",
    "    def get_apartment_links_for_current_page(self):\n",
    "        # Find all 'a' elements with the specific class\n",
    "        a_elements = self.soup.find_all('a', class_='btn btn-pink-transparent btn-cs text-uppercase item-more-btn ml-auto')\n",
    "\n",
    "        # Iterate over the found 'a' elements and navigate to their links\n",
    "        links = []\n",
    "        for a_element in a_elements:\n",
    "            link = a_element.get('href')\n",
    "            links.append(link)\n",
    "            \n",
    "        return links"
   ]
  },
  {
   "cell_type": "code",
   "execution_count": 37,
   "id": "3e4f7515",
   "metadata": {},
   "outputs": [],
   "source": [
    "scraper_pipeline = ScraperPipeline(\"https://myrealty.am/en/apartments-for-sale/7784\", None)"
   ]
  },
  {
   "cell_type": "code",
   "execution_count": 39,
   "id": "1cb50e1f",
   "metadata": {},
   "outputs": [],
   "source": [
    "scraper_pipeline.scrape_apartments_from_current_page()"
   ]
  },
  {
   "cell_type": "code",
   "execution_count": null,
   "id": "8bef8162",
   "metadata": {},
   "outputs": [],
   "source": []
  }
 ],
 "metadata": {
  "kernelspec": {
   "display_name": "Python 3 (ipykernel)",
   "language": "python",
   "name": "python3"
  },
  "language_info": {
   "codemirror_mode": {
    "name": "ipython",
    "version": 3
   },
   "file_extension": ".py",
   "mimetype": "text/x-python",
   "name": "python",
   "nbconvert_exporter": "python",
   "pygments_lexer": "ipython3",
   "version": "3.9.13"
  }
 },
 "nbformat": 4,
 "nbformat_minor": 5
}

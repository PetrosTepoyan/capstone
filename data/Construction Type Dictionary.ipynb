{
 "cells": [
  {
   "cell_type": "code",
   "execution_count": 20,
   "id": "88144cae",
   "metadata": {},
   "outputs": [],
   "source": [
    "import pandas as pd"
   ]
  },
  {
   "cell_type": "markdown",
   "id": "065b394f",
   "metadata": {},
   "source": [
    "# Bnakaran"
   ]
  },
  {
   "cell_type": "code",
   "execution_count": 25,
   "id": "b23d09bd",
   "metadata": {},
   "outputs": [],
   "source": [
    "bnakaran = pd.read_csv('bnakaran_apartments.csv')"
   ]
  },
  {
   "cell_type": "code",
   "execution_count": 32,
   "id": "e7406a44",
   "metadata": {},
   "outputs": [
    {
     "data": {
      "text/plain": [
       "array(['in situ concrete', nan, 'stone', 'wall building'], dtype=object)"
      ]
     },
     "execution_count": 32,
     "metadata": {},
     "output_type": "execute_result"
    }
   ],
   "source": [
    "bnakaran['construction_type'].unique()"
   ]
  },
  {
   "cell_type": "code",
   "execution_count": 34,
   "id": "36240f5f",
   "metadata": {},
   "outputs": [],
   "source": [
    "bnakaran_build_types = {\"Stone\":\"stone\", \"Panel\":\"wall building\", \"Monolit\" : \"in situ concrete\", \"Other\":None}"
   ]
  },
  {
   "cell_type": "markdown",
   "id": "45210858",
   "metadata": {},
   "source": [
    "# Bars"
   ]
  },
  {
   "cell_type": "code",
   "execution_count": 38,
   "id": "3c03e1b1",
   "metadata": {},
   "outputs": [],
   "source": [
    "bars = pd.read_csv('bars_apartments.csv')"
   ]
  },
  {
   "cell_type": "code",
   "execution_count": 42,
   "id": "48d34c57",
   "metadata": {},
   "outputs": [
    {
     "data": {
      "text/plain": [
       "array(['Stalinka c/o', 'Stalinka w/o', 'Special project', 'New building',\n",
       "       'Stone', 'Panel', 'Monolithic'], dtype=object)"
      ]
     },
     "execution_count": 42,
     "metadata": {},
     "output_type": "execute_result"
    }
   ],
   "source": [
    "bars['building_type'].unique()"
   ]
  },
  {
   "cell_type": "code",
   "execution_count": 44,
   "id": "6f659094",
   "metadata": {},
   "outputs": [],
   "source": [
    "bars_build_types = {\"Stone\":\"Stone\", \"Panel\":\"Panel\", \"Monolit\" :\"Monolithic\", \"Other\": \"Stalinka c/o\", \"Other\":'Stalinka w/o', \"Other\":'Special project', \"Other\":'New building'  }"
   ]
  },
  {
   "cell_type": "code",
   "execution_count": null,
   "id": "75a2e3c1",
   "metadata": {},
   "outputs": [],
   "source": [
    "My Realyu"
   ]
  },
  {
   "cell_type": "code",
   "execution_count": 5,
   "id": "c74ff9de",
   "metadata": {},
   "outputs": [],
   "source": [
    "realty = pd.read_csv('myrealty_apartments.csv')"
   ]
  },
  {
   "cell_type": "code",
   "execution_count": null,
   "id": "5208955e",
   "metadata": {},
   "outputs": [],
   "source": []
  },
  {
   "cell_type": "code",
   "execution_count": null,
   "id": "1ae1b80d",
   "metadata": {},
   "outputs": [],
   "source": []
  }
 ],
 "metadata": {
  "kernelspec": {
   "display_name": "Python 3 (ipykernel)",
   "language": "python",
   "name": "python3"
  },
  "language_info": {
   "codemirror_mode": {
    "name": "ipython",
    "version": 3
   },
   "file_extension": ".py",
   "mimetype": "text/x-python",
   "name": "python",
   "nbconvert_exporter": "python",
   "pygments_lexer": "ipython3",
   "version": "3.9.13"
  }
 },
 "nbformat": 4,
 "nbformat_minor": 5
}

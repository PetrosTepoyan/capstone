{
 "cells": [
  {
   "cell_type": "code",
   "execution_count": 1,
   "id": "c9db202a",
   "metadata": {},
   "outputs": [],
   "source": [
    "import pandas as pd"
   ]
  },
  {
   "cell_type": "markdown",
   "id": "aad3c30f",
   "metadata": {},
   "source": [
    "# Bnakaran"
   ]
  },
  {
   "cell_type": "code",
   "execution_count": 4,
   "id": "6c9833c0",
   "metadata": {},
   "outputs": [],
   "source": [
    "bnakaran = pd.read_csv('bnakaran_apartments.csv')"
   ]
  },
  {
   "cell_type": "code",
   "execution_count": 9,
   "id": "f0a92f79",
   "metadata": {},
   "outputs": [
    {
     "data": {
      "text/plain": [
       "Index(['source', 'id', 'price', 'facilities', 'location', 'area', 'rooms',\n",
       "       'floor', 'storeys', 'building_type', 'condition', 'ceiling_height',\n",
       "       'bathroom_count', 'bedrooms', 'added_in_date', 'view_count',\n",
       "       'additional_features', 'latitude', 'visit_count', 'utilities',\n",
       "       'room_details', 'details', 'longitude', 'flooring', 'entrance_door',\n",
       "       'construction_type', 'renovation', 'windows', 'heating', 'parking',\n",
       "       'cooling'],\n",
       "      dtype='object')"
      ]
     },
     "execution_count": 9,
     "metadata": {},
     "output_type": "execute_result"
    }
   ],
   "source": [
    "bnakaran.columns.unique()"
   ]
  },
  {
   "cell_type": "markdown",
   "id": "36b493c3",
   "metadata": {},
   "source": [
    "# Bars"
   ]
  },
  {
   "cell_type": "code",
   "execution_count": 3,
   "id": "f5e294b2",
   "metadata": {},
   "outputs": [],
   "source": [
    "bars = pd.read_csv('bars_apartments.csv')"
   ]
  },
  {
   "cell_type": "code",
   "execution_count": 10,
   "id": "0a2066bc",
   "metadata": {},
   "outputs": [
    {
     "data": {
      "text/plain": [
       "Index(['source', 'id', 'price', 'facilities', 'location', 'area', 'rooms',\n",
       "       'floor', 'storeys', 'building_type', 'condition', 'ceiling_height',\n",
       "       'bathroom_count', 'bedrooms', 'added_in_date', 'view_count',\n",
       "       'additional_features', 'latitude', 'visit_count', 'utilities',\n",
       "       'room_details', 'details', 'longitude'],\n",
       "      dtype='object')"
      ]
     },
     "execution_count": 10,
     "metadata": {},
     "output_type": "execute_result"
    }
   ],
   "source": [
    "bars.columns.unique()"
   ]
  },
  {
   "cell_type": "markdown",
   "id": "7905117d",
   "metadata": {},
   "source": [
    "# My Realty"
   ]
  },
  {
   "cell_type": "code",
   "execution_count": 7,
   "id": "26309b94",
   "metadata": {},
   "outputs": [],
   "source": [
    "realty = pd.read_csv('myrealty_apartments.csv')"
   ]
  },
  {
   "cell_type": "code",
   "execution_count": 11,
   "id": "d48533f2",
   "metadata": {},
   "outputs": [
    {
     "data": {
      "text/plain": [
       "Index(['source', 'id', 'price', 'facilities', 'location', 'area', 'rooms',\n",
       "       'floor', 'storeys', 'building_type', 'condition', 'ceiling_height',\n",
       "       'bathroom_count', 'bedrooms', 'added_in_date', 'view_count',\n",
       "       'additional_features', 'latitude', 'visit_count', 'utilities',\n",
       "       'room_details', 'details', 'longitude'],\n",
       "      dtype='object')"
      ]
     },
     "execution_count": 11,
     "metadata": {},
     "output_type": "execute_result"
    }
   ],
   "source": [
    "realty.columns.unique()"
   ]
  },
  {
   "cell_type": "markdown",
   "id": "892495aa",
   "metadata": {},
   "source": [
    "# Note"
   ]
  },
  {
   "cell_type": "markdown",
   "id": "ded21211",
   "metadata": {},
   "source": [
    "### These features are only apparent in Bnakaran, but they are not apparent in the other two datasets:"
   ]
  },
  {
   "cell_type": "markdown",
   "id": "ebeac769",
   "metadata": {},
   "source": [
    "flooring\n",
    "entrance_door\n",
    "construction_type\n",
    "renovation\n",
    "windows\n",
    "heating\n",
    "parking"
   ]
  },
  {
   "cell_type": "code",
   "execution_count": null,
   "id": "9513512c",
   "metadata": {},
   "outputs": [],
   "source": [
    "## Here are some st"
   ]
  }
 ],
 "metadata": {
  "kernelspec": {
   "display_name": "Python 3 (ipykernel)",
   "language": "python",
   "name": "python3"
  },
  "language_info": {
   "codemirror_mode": {
    "name": "ipython",
    "version": 3
   },
   "file_extension": ".py",
   "mimetype": "text/x-python",
   "name": "python",
   "nbconvert_exporter": "python",
   "pygments_lexer": "ipython3",
   "version": "3.9.13"
  }
 },
 "nbformat": 4,
 "nbformat_minor": 5
}

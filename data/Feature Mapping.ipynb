{
 "cells": [
  {
   "cell_type": "code",
   "execution_count": 1,
   "id": "70496d57",
   "metadata": {},
   "outputs": [],
   "source": [
    "import pandas as pd"
   ]
  },
  {
   "cell_type": "markdown",
   "id": "c76d68c4",
   "metadata": {},
   "source": [
    "# Bnakaran"
   ]
  },
  {
   "cell_type": "code",
   "execution_count": 4,
   "id": "d5a7b48a",
   "metadata": {},
   "outputs": [],
   "source": [
    "bnakaran = pd.read_csv('bnakaran_apartments.csv')"
   ]
  },
  {
   "cell_type": "code",
   "execution_count": 9,
   "id": "c12c0c3e",
   "metadata": {},
   "outputs": [
    {
     "data": {
      "text/plain": [
       "Index(['source', 'id', 'price', 'facilities', 'location', 'area', 'rooms',\n",
       "       'floor', 'storeys', 'building_type', 'condition', 'ceiling_height',\n",
       "       'bathroom_count', 'bedrooms', 'added_in_date', 'view_count',\n",
       "       'additional_features', 'latitude', 'visit_count', 'utilities',\n",
       "       'room_details', 'details', 'longitude', 'flooring', 'entrance_door',\n",
       "       'construction_type', 'renovation', 'windows', 'heating', 'parking',\n",
       "       'cooling'],\n",
       "      dtype='object')"
      ]
     },
     "execution_count": 9,
     "metadata": {},
     "output_type": "execute_result"
    }
   ],
   "source": [
    "bnakaran.columns.unique()"
   ]
  },
  {
   "cell_type": "markdown",
   "id": "170e66e8",
   "metadata": {},
   "source": [
    "# Bars"
   ]
  },
  {
   "cell_type": "code",
   "execution_count": 3,
   "id": "47921def",
   "metadata": {},
   "outputs": [],
   "source": [
    "bars = pd.read_csv('bars_apartments.csv')"
   ]
  },
  {
   "cell_type": "code",
   "execution_count": 10,
   "id": "c7143963",
   "metadata": {},
   "outputs": [
    {
     "data": {
      "text/plain": [
       "Index(['source', 'id', 'price', 'facilities', 'location', 'area', 'rooms',\n",
       "       'floor', 'storeys', 'building_type', 'condition', 'ceiling_height',\n",
       "       'bathroom_count', 'bedrooms', 'added_in_date', 'view_count',\n",
       "       'additional_features', 'latitude', 'visit_count', 'utilities',\n",
       "       'room_details', 'details', 'longitude'],\n",
       "      dtype='object')"
      ]
     },
     "execution_count": 10,
     "metadata": {},
     "output_type": "execute_result"
    }
   ],
   "source": [
    "bars.columns.unique()"
   ]
  },
  {
   "cell_type": "markdown",
   "id": "8fe26044",
   "metadata": {},
   "source": [
    "# My Realty"
   ]
  },
  {
   "cell_type": "code",
   "execution_count": 7,
   "id": "7cbf9ef3",
   "metadata": {},
   "outputs": [],
   "source": [
    "realty = pd.read_csv('myrealty_apartments.csv')"
   ]
  },
  {
   "cell_type": "code",
   "execution_count": 11,
   "id": "969376db",
   "metadata": {},
   "outputs": [
    {
     "data": {
      "text/plain": [
       "Index(['source', 'id', 'price', 'facilities', 'location', 'area', 'rooms',\n",
       "       'floor', 'storeys', 'building_type', 'condition', 'ceiling_height',\n",
       "       'bathroom_count', 'bedrooms', 'added_in_date', 'view_count',\n",
       "       'additional_features', 'latitude', 'visit_count', 'utilities',\n",
       "       'room_details', 'details', 'longitude'],\n",
       "      dtype='object')"
      ]
     },
     "execution_count": 11,
     "metadata": {},
     "output_type": "execute_result"
    }
   ],
   "source": [
    "realty.columns.unique()"
   ]
  },
  {
   "cell_type": "markdown",
   "id": "c33f751a",
   "metadata": {},
   "source": [
    "# Note"
   ]
  },
  {
   "cell_type": "markdown",
   "id": "200d7876",
   "metadata": {},
   "source": [
    "### These features are only apparent in Bnakaran, but they are not apparent in the other two datasets:"
   ]
  },
  {
   "cell_type": "markdown",
   "id": "d95df622",
   "metadata": {},
   "source": [
    "flooring\n",
    "entrance_door\n",
    "construction_type\n",
    "renovation\n",
    "windows\n",
    "heating\n",
    "parking"
   ]
  },
  {
   "cell_type": "code",
   "execution_count": null,
   "id": "85fbeade",
   "metadata": {},
   "outputs": [],
   "source": []
  }
 ],
 "metadata": {
  "kernelspec": {
   "display_name": "Python 3 (ipykernel)",
   "language": "python",
   "name": "python3"
  },
  "language_info": {
   "codemirror_mode": {
    "name": "ipython",
    "version": 3
   },
   "file_extension": ".py",
   "mimetype": "text/x-python",
   "name": "python",
   "nbconvert_exporter": "python",
   "pygments_lexer": "ipython3",
   "version": "3.9.13"
  }
 },
 "nbformat": 4,
 "nbformat_minor": 5
}

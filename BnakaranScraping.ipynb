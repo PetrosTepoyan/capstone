{
 "cells": [
  {
   "cell_type": "code",
   "execution_count": 1,
   "id": "4cf3f78d",
   "metadata": {},
   "outputs": [],
   "source": [
    "from bs4 import BeautifulSoup\n",
    "import requests"
   ]
  },
  {
   "cell_type": "code",
   "execution_count": 2,
   "id": "558df1cf",
   "metadata": {},
   "outputs": [],
   "source": [
    "url = \"https://www.bnakaran.com/en/duplex-for-sale-in-downtown-yerevan-d113745\"\n",
    "response = requests.get(url)\n",
    "\n",
    "if response.status_code != 200:\n",
    "    print(f\"Failed to fetch the webpage. Status code: {response.status_code}\")\n",
    "else:\n",
    "    soup = BeautifulSoup(response.content, 'html.parser')\n"
   ]
  },
  {
   "cell_type": "markdown",
   "id": "5b649855",
   "metadata": {},
   "source": [
    "### Area/Storey/Room"
   ]
  },
  {
   "cell_type": "code",
   "execution_count": 3,
   "id": "3a3a0945",
   "metadata": {},
   "outputs": [
    {
     "name": "stdout",
     "output_type": "stream",
     "text": [
      "Area: 100\n",
      "Storey: 5\n",
      "Rooms: 3\n"
     ]
    }
   ],
   "source": [
    "# Find the <li> tags and extract the text\n",
    "for li in soup.select('ul.property-main-features > li'):\n",
    "    key = li.get_text(strip=True).split(':')[0].strip()\n",
    "    value = li.find('span').get_text(strip=True)\n",
    "    if key.lower() == 'area':\n",
    "        area_number = ''.join(filter(str.isdigit, value))\n",
    "        print('Area:', area_number)\n",
    "    elif key.lower() == 'storey':\n",
    "        storey_number = ''.join(filter(str.isdigit, value.split('/')[0]))\n",
    "        print('Storey:', storey_number)\n",
    "    elif key.lower() == 'rooms':\n",
    "        rooms_number = ''.join(filter(str.isdigit, value))\n",
    "        print('Rooms:', rooms_number)"
   ]
  },
  {
   "cell_type": "markdown",
   "id": "dc61c5e5",
   "metadata": {},
   "source": [
    "### Images"
   ]
  },
  {
   "cell_type": "code",
   "execution_count": 4,
   "id": "06974bc1",
   "metadata": {},
   "outputs": [
    {
     "name": "stdout",
     "output_type": "stream",
     "text": [
      "https://pic.estate.am/image/50/c9/50c9afc2d1c76caffcbb92738e52354e_s1200.jpg\n",
      "https://pic.estate.am/image/bf/59/bf59ee9218901b4b0c092bc831dfa91f_s1200.jpg\n",
      "https://pic.estate.am/image/c2/7a/c27a30ffc32673f38ff1209bbd17e234_s1200.jpg\n",
      "https://pic.estate.am/image/73/bb/73bb906b4a9ddd261e9e0c5ebade3c4e_s1200.jpg\n",
      "https://pic.estate.am/image/3f/e8/3fe806964d76caddd3785a85b92317f1_s1200.jpg\n",
      "https://pic.estate.am/image/9c/ee/9ceec901c1978dda5661011c92437a51_s1200.jpg\n",
      "https://pic.estate.am/image/54/f2/54f22f2f4b0c3b31e707d65fd724f8c1_s1200.jpg\n",
      "https://pic.estate.am/image/be/60/be6035423f61290f8a44e403263173b0_s1200.jpg\n",
      "https://pic.estate.am/image/8d/b1/8db1082c6d12d3e065e88fa29eb44576_s1200.jpg\n",
      "https://pic.estate.am/image/c1/16/c11612cacb2adebdacf29de8c4e79997_s1200.jpg\n",
      "https://pic.estate.am/image/a5/52/a5529d335091fd944fdf71a60fdd820c_s1200.jpg\n",
      "https://pic.estate.am/image/78/6d/786d1021ea0b000cbe14c0335a2fc042_s1200.jpg\n",
      "https://pic.estate.am/image/21/a0/21a0bc20455dec32e50f82f8d5fcfbba_s1200.jpg\n",
      "https://pic.estate.am/image/22/6e/226e8cd6405b1072f3012b4757d79b76_s1200.jpg\n",
      "https://pic.estate.am/image/fc/74/fc741535acf00cb4ddcf50229770dd8a_s1200.jpg\n",
      "https://pic.estate.am/image/1a/5b/1a5b2bc21920136ae6620a690b90ebe6_s1200.jpg\n",
      "https://pic.estate.am/image/ec/18/ec180e662dcc5dab2620551765759a80_s1200.jpg\n",
      "https://pic.estate.am/image/7b/23/7b23575cc8420a1e3a3ac2213a8586f3_s1200.jpg\n",
      "https://pic.estate.am/image/64/3f/643fe7174cacd2c6e2d1733a87c78c74_s1200.jpg\n",
      "https://pic.estate.am/image/21/c1/21c1d01a1b22482d1d45edf3f65012b8_s1200.jpg\n",
      "https://pic.estate.am/image/1d/7d/1d7d633c6d75001b7ed8de12f5be3b93_s1200.jpg\n",
      "https://pic.estate.am/image/31/d2/31d268b86a2a2b640d5d754d2abbd8d5_s1200.jpg\n",
      "https://pic.estate.am/image/70/d9/70d930f345d964dba2c3f2fb15b2a745_s1200.jpg\n",
      "https://pic.estate.am/image/47/8b/478bf02e822f7ff89bd2db0fa8bb0380_s1200.jpg\n",
      "https://pic.estate.am/image/f1/ac/f1ac1d9218b078e9dd224bd47cfcf215_s1200.jpg\n",
      "https://pic.estate.am/image/85/1d/851decdd30edc1f05ef3e9b5ede2e7f0_s1200.jpg\n",
      "https://pic.estate.am/image/4e/6f/4e6f57e084276884559fa454f9305bcf_s1200.jpg\n",
      "https://pic.estate.am/image/bf/0b/bf0b96346707de0e203f818efdffe97f_s1200.jpg\n",
      "https://pic.estate.am/image/a8/a1/a8a12b527f462a94409f86dc8c3eaeec_s1200.jpg\n",
      "https://pic.estate.am/image/0f/ca/0fca942096a31f3680c20625c82e5701_s1200.jpg\n",
      "https://pic.estate.am/image/c5/1f/c51f2b11884c6f16bd15c5a0a3ae6282_s1200.jpg\n",
      "https://pic.estate.am/image/58/61/5861e1fc2fb2f481d1f27bd47fba4aff_s1200.jpg\n",
      "https://pic.estate.am/image/e7/d6/e7d630b86228fa458007c813a7d20abd_s1200.jpg\n",
      "https://pic.estate.am/image/37/59/37592aa5dcd148ae8e105f0e5e7cd4c5_s1200.jpg\n",
      "https://pic.estate.am/image/aa/ff/aafffa4a52937b583e2d42d85368308d_s1200.jpg\n",
      "https://pic.estate.am/image/77/f1/77f11b6c220ddf0118dccdd5ccd3de2d_s1200.jpg\n",
      "https://pic.estate.am/image/11/67/11675588322d2281f277be7a310120d7_s1200.jpg\n",
      "https://pic.estate.am/image/f5/3d/f53d43993f439a939a826e1959d14dd2_s1200.jpg\n"
     ]
    }
   ],
   "source": [
    "# Find all <a> tags with the class \"item\" and the \"href\" attribute\n",
    "image_links = [a['href'] for a in soup.find_all('a', class_='item', href=True)]\n",
    "\n",
    "# Print the result\n",
    "for link in image_links:\n",
    "    print(link)"
   ]
  },
  {
   "cell_type": "markdown",
   "id": "e117aae1",
   "metadata": {},
   "source": [
    "### Details"
   ]
  },
  {
   "cell_type": "code",
   "execution_count": 5,
   "id": "4283ba31",
   "metadata": {},
   "outputs": [
    {
     "name": "stdout",
     "output_type": "stream",
     "text": [
      "Construction type: stone\n",
      "Renovation: renovated\n",
      "Flooring: laminate\n",
      "Entrance door: metal\n",
      "Windows: plastic\n",
      "Heating: gas boiler\n",
      "Cooling: air conditioner\n"
     ]
    }
   ],
   "source": [
    "# Find the <ul> tag with class \"property-features\" and get all <li> children\n",
    "property_features = soup.find('ul', class_='property-features').find_all('li', recursive=False)\n",
    "\n",
    "# Create a dictionary to store the details\n",
    "details = {}\n",
    "\n",
    "# Loop through each <li> element\n",
    "for feature in property_features:\n",
    "    # Split the text content of <li> by ':' to separate the key and value\n",
    "    parts = feature.get_text(strip=True).split(':')\n",
    "    # Ensure that there are at least two parts (key and value)\n",
    "    if len(parts) >= 2:\n",
    "        # The key is the first part, and the value is the second part\n",
    "        key = parts[0].strip()\n",
    "        value = parts[1].strip()\n",
    "        # Add the key and value to the details dictionary\n",
    "        details[key] = value\n",
    "\n",
    "# Print the result\n",
    "for key, value in details.items():\n",
    "    print(f'{key}: {value}')\n"
   ]
  },
  {
   "cell_type": "markdown",
   "id": "21470744",
   "metadata": {},
   "source": [
    "### Rooms"
   ]
  },
  {
   "cell_type": "code",
   "execution_count": 6,
   "id": "d63d08a4",
   "metadata": {},
   "outputs": [
    {
     "name": "stdout",
     "output_type": "stream",
     "text": [
      "rooms: 3\n",
      "bedrooms: 2\n",
      "bathrooms: 3\n",
      "kitchens: 1\n"
     ]
    }
   ],
   "source": [
    "# Find all <ul> tags with class \"property-features\"\n",
    "features_lists = soup.find_all('ul', class_='property-features')\n",
    "\n",
    "# Assuming the room details are in the second <ul>\n",
    "if len(features_lists) > 1:\n",
    "    room_features_list = features_lists[1].find_all('li', recursive=False)\n",
    "    \n",
    "    # Create a dictionary to store the room details\n",
    "    room_details = {}\n",
    "    \n",
    "    # Loop through each <li> element\n",
    "    for feature_item in room_features_list:\n",
    "        # Split the text content of <li> by ':' to separate the key and value\n",
    "        parts = feature_item.get_text(strip=True).split(':')\n",
    "        # Ensure that there are at least two parts (key and value)\n",
    "        if len(parts) >= 2:\n",
    "            # The key is the first part, and the value is the second part\n",
    "            key, value = parts[0].strip(), parts[1].strip()\n",
    "            # Add the key and value to the room details dictionary\n",
    "            room_details[key] = value\n",
    "    \n",
    "    # Print the result\n",
    "    for key, value in room_details.items():\n",
    "        print(f'{key}: {value}')\n",
    "else:\n",
    "    print(\"The expected room details section was not found\")\n"
   ]
  },
  {
   "cell_type": "markdown",
   "id": "aca76cce",
   "metadata": {},
   "source": [
    "### Utilities"
   ]
  },
  {
   "cell_type": "code",
   "execution_count": 7,
   "id": "09890e90",
   "metadata": {},
   "outputs": [
    {
     "name": "stdout",
     "output_type": "stream",
     "text": [
      "Unexpected format for utility item: \n",
      "Construction type: stone\n",
      "Renovation: renovated\n",
      "Flooring: laminate\n",
      "Entrance door: metal\n",
      "Windows: plastic\n",
      "Heating: gas boiler\n",
      "Cooling: air conditioner\n"
     ]
    }
   ],
   "source": [
    "from bs4 import BeautifulSoup\n",
    "\n",
    "# Find the <ul> element with class \"property-features margin-top-0\"\n",
    "utilities_list = soup.find('ul', class_='property-features margin-top-0')\n",
    "\n",
    "# Initialize a dictionary to store the utilities information\n",
    "utilities_info_dict = {}\n",
    "\n",
    "# Check if the <ul> element is found\n",
    "if utilities_list:\n",
    "    # Find all <li> elements inside the <ul>\n",
    "    utilities_items = utilities_list.find_all('li', recursive=False)\n",
    "\n",
    "    # Loop through each <li> element\n",
    "    for utility in utilities_items:\n",
    "        # Extract the utility name (key) and its value (yes/no)\n",
    "        utility_text = utility.get_text(strip=True)\n",
    "        if ':' in utility_text:\n",
    "            utility_key = utility_text.split(':')[0].strip()\n",
    "            utility_value = utility.find('span').get_text(strip=True) if utility.find('span') else \"Not specified\"\n",
    "            \n",
    "            # Add the utility information to the dictionary if key is not empty\n",
    "            if utility_key:\n",
    "                utilities_info_dict[utility_key] = utility_value\n",
    "        else:\n",
    "            # Handle the case where the <li> element doesn't follow the expected format\n",
    "            print(f\"Unexpected format for utility item: {utility_text}\")\n",
    "\n",
    "    # Print the utilities information\n",
    "    for key, value in utilities_info_dict.items():\n",
    "        print(f'{key}: {value}')\n",
    "else:\n",
    "    print(\"Utilities information is not available.\")\n"
   ]
  },
  {
   "cell_type": "markdown",
   "id": "42f8aa25",
   "metadata": {},
   "source": [
    "### Other Details"
   ]
  },
  {
   "cell_type": "code",
   "execution_count": 8,
   "id": "d82165c4",
   "metadata": {},
   "outputs": [
    {
     "name": "stdout",
     "output_type": "stream",
     "text": [
      "- persistent water\n",
      "- electricity\n",
      "- laminatе flooring\n",
      "- metal door\n",
      "- refrigerator\n",
      "- shower\n",
      "- elevator\n",
      "- LED TV\n",
      "- air conditioner\n",
      "- kitchen tiled\n",
      "- appliances\n",
      "- bathroom tiled\n",
      "- plastic windows\n",
      "- washing machine\n",
      "- natural gas\n",
      "- kitchen furniture\n",
      "- furnished\n"
     ]
    }
   ],
   "source": [
    "from bs4 import BeautifulSoup\n",
    "\n",
    "# Find the <ul> element with class \"property-features checkboxes margin-top-0\"\n",
    "features_list = soup.find('ul', class_='property-features checkboxes margin-top-0')\n",
    "\n",
    "# Initialize a list to store the features\n",
    "features = []\n",
    "\n",
    "# Check if the <ul> element is found\n",
    "if features_list:\n",
    "    # Find all <li> elements inside the <ul>\n",
    "    feature_items = features_list.find_all('li', recursive=False)\n",
    "\n",
    "    # Loop through each <li> element\n",
    "    for feature in feature_items:\n",
    "        # Extract the feature text\n",
    "        feature_text = feature.get_text(strip=True)\n",
    "        \n",
    "        # Add the feature information to the list\n",
    "        features.append(feature_text)\n",
    "\n",
    "    # Print the features\n",
    "    for feature in features:\n",
    "        print(f'- {feature}')\n",
    "else:\n",
    "    print(\"Features information is not available.\")\n"
   ]
  },
  {
   "cell_type": "markdown",
   "id": "37a41b01",
   "metadata": {},
   "source": [
    "### Latitiude and Longitude"
   ]
  },
  {
   "cell_type": "code",
   "execution_count": 9,
   "id": "5b90fe5c",
   "metadata": {},
   "outputs": [
    {
     "name": "stdout",
     "output_type": "stream",
     "text": [
      "Latitude: 44.506423457672, Longitude: 40.185914685872\n"
     ]
    }
   ],
   "source": [
    "# Check if the request was successful\n",
    "if response.status_code == 200:\n",
    "    # Parse the HTML content of the page with BeautifulSoup\n",
    "    soup = BeautifulSoup(response.text, 'html.parser')\n",
    "\n",
    "    # Find the div element with class \"yandex-map\"\n",
    "    yandex_map_div = soup.find('div', class_='yandex-map')\n",
    "\n",
    "    # Check if the div element is found\n",
    "    if yandex_map_div:\n",
    "        # Extract the latitude and longitude from the data-x and data-y attributes\n",
    "        latitude = yandex_map_div.get('data-y')\n",
    "        longitude = yandex_map_div.get('data-x')\n",
    "\n",
    "        print(f'Latitude: {latitude}, Longitude: {longitude}')\n",
    "    else:\n",
    "        print(\"Yandex map element not found on the page.\")\n",
    "else:\n",
    "    print(\"Failed to retrieve the webpage. Status code:\", response.status_code)\n"
   ]
  },
  {
   "cell_type": "code",
   "execution_count": null,
   "id": "e38211d9",
   "metadata": {},
   "outputs": [],
   "source": []
  }
 ],
 "metadata": {
  "kernelspec": {
   "display_name": "Python 3 (ipykernel)",
   "language": "python",
   "name": "python3"
  },
  "language_info": {
   "codemirror_mode": {
    "name": "ipython",
    "version": 3
   },
   "file_extension": ".py",
   "mimetype": "text/x-python",
   "name": "python",
   "nbconvert_exporter": "python",
   "pygments_lexer": "ipython3",
   "version": "3.9.13"
  }
 },
 "nbformat": 4,
 "nbformat_minor": 5
}

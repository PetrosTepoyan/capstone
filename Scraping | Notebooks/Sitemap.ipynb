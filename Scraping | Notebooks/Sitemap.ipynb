{
 "cells": [
  {
   "cell_type": "code",
   "execution_count": 12,
   "id": "40ae6fb0",
   "metadata": {},
   "outputs": [
    {
     "data": {
      "text/plain": [
       "['https://myrealty.am/en/news/18',\n",
       " 'https://myrealty.am/en/news/23',\n",
       " 'https://myrealty.am/en/news/26',\n",
       " 'https://myrealty.am/en/news/27',\n",
       " 'https://myrealty.am/en/news/56',\n",
       " 'https://myrealty.am/en/news/60',\n",
       " 'https://myrealty.am/en/news/61',\n",
       " 'https://myrealty.am/en/news/63',\n",
       " 'https://myrealty.am/en/news/66',\n",
       " 'https://myrealty.am/en/news/68',\n",
       " 'https://myrealty.am/en/news/69',\n",
       " 'https://myrealty.am/en/news/72',\n",
       " 'https://myrealty.am/en/news/73',\n",
       " 'https://myrealty.am/en/news/79',\n",
       " 'https://myrealty.am/en/news/80',\n",
       " 'https://myrealty.am/en/news/81',\n",
       " 'https://myrealty.am/en/news/83',\n",
       " 'https://myrealty.am/en/news/91',\n",
       " 'https://myrealty.am/en/news/108',\n",
       " 'https://myrealty.am/en/news/152',\n",
       " 'https://myrealty.am/en/news/157',\n",
       " 'https://myrealty.am/en/news/160',\n",
       " 'https://myrealty.am/en/news/180',\n",
       " 'https://myrealty.am/en/news/198',\n",
       " 'https://myrealty.am/en/news/200',\n",
       " 'https://myrealty.am/en/news/202',\n",
       " 'https://myrealty.am/en/news/214',\n",
       " 'https://myrealty.am/en/news/215',\n",
       " 'https://myrealty.am/en/news/217',\n",
       " 'https://myrealty.am/en/news/219',\n",
       " 'https://myrealty.am/en/news/225',\n",
       " 'https://myrealty.am/en/news/227',\n",
       " 'https://myrealty.am/en/news/232',\n",
       " 'https://myrealty.am/en/news/239',\n",
       " 'https://myrealty.am/en/news/268',\n",
       " 'https://myrealty.am/en/news/279',\n",
       " 'https://myrealty.am/en/news/280']"
      ]
     },
     "execution_count": 12,
     "metadata": {},
     "output_type": "execute_result"
    }
   ],
   "source": [
    "import requests\n",
    "import xml.etree.ElementTree as ET\n",
    "import re\n",
    "\n",
    "# URL of the sitemap\n",
    "sitemap_url = \"https://myrealty.am/sitemap.xml\"\n",
    "\n",
    "# Fetch the sitemap\n",
    "response = requests.get(sitemap_url)\n",
    "\n",
    "# Initialize an empty list to store the filtered URLs\n",
    "filtered_urls = []\n",
    "\n",
    "# Check if the request was successful\n",
    "if response.status_code == 200:\n",
    "    # Parse the XML\n",
    "    root = ET.fromstring(response.content)\n",
    "\n",
    "    # Regex pattern to match URLs starting with https://myrealty.am/en/ and ending with /<number>\n",
    "    pattern = re.compile(r\"https://myrealty\\.am/en/.*/\\d+$\")\n",
    "\n",
    "    # Extract URLs matching the pattern\n",
    "    filtered_urls = [elem.text for elem in root.findall(\".//{http://www.sitemaps.org/schemas/sitemap/0.9}loc\")\n",
    "                     if pattern.match(elem.text)]\n",
    "\n",
    "filtered_urls\n",
    "\n"
   ]
  },
  {
   "cell_type": "code",
   "execution_count": 15,
   "id": "9c181f03",
   "metadata": {},
   "outputs": [],
   "source": [
    "import requests\n",
    "import xml.etree.ElementTree as ET\n",
    "import re\n",
    "\n",
    "# URL of the sitemap\n",
    "sitemap_url = \"https://www.bnakaran.com/en/sitemap.xml\"\n",
    "\n",
    "# Initialize an empty list to store the filtered URLs\n",
    "filtered_urls = []\n",
    "\n",
    "try:\n",
    "    # Fetch the sitemap\n",
    "    response = requests.get(sitemap_url)\n",
    "\n",
    "    # Check if the request was successful\n",
    "    if response.status_code == 200:\n",
    "        # Parse the XML\n",
    "        root = ET.fromstring(response.content)\n",
    "\n",
    "        # Regex pattern to match URLs ending with -d<number>\n",
    "        pattern = re.compile(r\".*-d\\d+$\")\n",
    "\n",
    "        # Extract URLs matching the pattern\n",
    "        filtered_urls = [elem.text for elem in root.findall(\".//{http://www.sitemaps.org/schemas/sitemap/0.9}loc\")\n",
    "                         if pattern.match(elem.text)]\n",
    "\n",
    "except Exception as e:\n",
    "    error_message = str(e)"
   ]
  },
  {
   "cell_type": "code",
   "execution_count": 18,
   "id": "a885cf2f",
   "metadata": {},
   "outputs": [],
   "source": [
    "ap_links = [link for link in filtered_urls if \"apartment\" in link]"
   ]
  },
  {
   "cell_type": "code",
   "execution_count": 19,
   "id": "3f873b07",
   "metadata": {},
   "outputs": [
    {
     "data": {
      "text/plain": [
       "1084"
      ]
     },
     "execution_count": 19,
     "metadata": {},
     "output_type": "execute_result"
    }
   ],
   "source": [
    "ap_links"
   ]
  },
  {
   "cell_type": "code",
   "execution_count": null,
   "id": "1069f05c",
   "metadata": {},
   "outputs": [],
   "source": []
  }
 ],
 "metadata": {
  "kernelspec": {
   "display_name": "Python 3 (ipykernel)",
   "language": "python",
   "name": "python3"
  },
  "language_info": {
   "codemirror_mode": {
    "name": "ipython",
    "version": 3
   },
   "file_extension": ".py",
   "mimetype": "text/x-python",
   "name": "python",
   "nbconvert_exporter": "python",
   "pygments_lexer": "ipython3",
   "version": "3.9.13"
  }
 },
 "nbformat": 4,
 "nbformat_minor": 5
}

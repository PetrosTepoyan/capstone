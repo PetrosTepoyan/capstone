{
 "cells": [
  {
   "cell_type": "code",
   "execution_count": 4,
   "id": "03c7085f",
   "metadata": {},
   "outputs": [
    {
     "name": "stdout",
     "output_type": "stream",
     "text": [
      "The autoreload extension is already loaded. To reload it, use:\n",
      "  %reload_ext autoreload\n"
     ]
    }
   ],
   "source": [
    "%load_ext autoreload\n",
    "%autoreload 2\n",
    "\n",
    "import sys\n",
    "import logging\n",
    "from logging import Logger\n",
    "sys.path.append(\"..\")\n",
    "\n",
    "logging.basicConfig(filename = 'scraping.log', level = logging.INFO)\n",
    "logger = logging.getLogger(\"main\")\n",
    "logger.info(\"This is a test message\")"
   ]
  },
  {
   "cell_type": "code",
   "execution_count": 8,
   "id": "187e3bf6",
   "metadata": {},
   "outputs": [
    {
     "data": {
      "text/plain": [
       "{'source': 'bnakaran',\n",
       " 'area': '67',\n",
       " 'storeys': '3',\n",
       " 'rooms': '2',\n",
       " 'latitude': '44.583026093254',\n",
       " 'longitude': '40.216669267644',\n",
       " 'details': {'Construction type': 'wall building',\n",
       "  'Renovation': 'normal',\n",
       "  'Flooring': 'hardwood',\n",
       "  'Entrance door': 'metal',\n",
       "  'Windows': 'plastic',\n",
       "  'Heating': 'gas boiler',\n",
       "  'Parking': 'outdoor'},\n",
       " 'room_details': {'rooms': '2',\n",
       "  'bedrooms': '2',\n",
       "  'bathrooms': '1',\n",
       "  'kitchens': '1'},\n",
       " 'additional_features': ['persistent water',\n",
       "  'hardwood flooring',\n",
       "  'electricity',\n",
       "  'metal door',\n",
       "  'elevator',\n",
       "  'built-in wardrobes',\n",
       "  'kitchen tiled',\n",
       "  'appliances',\n",
       "  'bathroom tiled',\n",
       "  'plastic windows',\n",
       "  'natural gas',\n",
       "  'kitchen furniture',\n",
       "  'furnished']}"
      ]
     },
     "execution_count": 8,
     "metadata": {},
     "output_type": "execute_result"
    }
   ],
   "source": [
    "# MyRealty\n",
    "from ConcreteScrapers.Bnakaran.BnakaranApartmentScraper import BnakaranApartmentScraper\n",
    "\n",
    "# Storage\n",
    "from ConcreteStorages import CSVStorage\n",
    "\n",
    "# Services\n",
    "from Services import ImageLoader\n",
    "\n",
    "storage = CSVStorage(\n",
    "    file_path = \"../data/myrealty_apartments.csv\",\n",
    "    images_path = \"../images/\",\n",
    "    logger = logger\n",
    ")\n",
    "storage.initialize()\n",
    "\n",
    "image_loader = ImageLoader(\n",
    "    storage,\n",
    "    logger = logger\n",
    ")\n",
    "\n",
    "webpage = \"https://www.bnakaran.com/en/apartment-for-sale-in-avan-yerevan-d117403\"\n",
    "scraper = BnakaranApartmentScraper(\n",
    "    webpage = webpage\n",
    ")\n",
    "scraper.scrape()\n",
    "scraper.values()"
   ]
  },
  {
   "cell_type": "code",
   "execution_count": null,
   "id": "4e422c4e",
   "metadata": {},
   "outputs": [],
   "source": []
  }
 ],
 "metadata": {
  "kernelspec": {
   "display_name": "Python 3 (ipykernel)",
   "language": "python",
   "name": "python3"
  },
  "language_info": {
   "codemirror_mode": {
    "name": "ipython",
    "version": 3
   },
   "file_extension": ".py",
   "mimetype": "text/x-python",
   "name": "python",
   "nbconvert_exporter": "python",
   "pygments_lexer": "ipython3",
   "version": "3.9.13"
  }
 },
 "nbformat": 4,
 "nbformat_minor": 5
}

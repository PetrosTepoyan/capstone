{
 "cells": [
  {
   "cell_type": "code",
   "execution_count": 9,
   "id": "90c247be",
   "metadata": {},
   "outputs": [
    {
     "name": "stdout",
     "output_type": "stream",
     "text": [
      "The autoreload extension is already loaded. To reload it, use:\n",
      "  %reload_ext autoreload\n"
     ]
    }
   ],
   "source": [
    "%load_ext autoreload\n",
    "%autoreload 2\n",
    "\n",
    "import sys\n",
    "sys.path.append(\"..\")"
   ]
  },
  {
   "cell_type": "code",
   "execution_count": 10,
   "id": "1ddaa8cb",
   "metadata": {},
   "outputs": [],
   "source": [
    "import logging\n",
    "from logging import Logger\n",
    "\n",
    "logging.basicConfig(filename = 'scraping.log', level = logging.INFO)\n",
    "logger = Logger(\"main\")"
   ]
  },
  {
   "cell_type": "code",
   "execution_count": 28,
   "id": "76ed57cf",
   "metadata": {},
   "outputs": [
    {
     "data": {
      "text/plain": [
       "{'source': 'bnakaran',\n",
       " 'id': 'd91000',\n",
       " 'price': 380000,\n",
       " 'area': 118,\n",
       " 'storeys': 5,\n",
       " 'floor': 4,\n",
       " 'rooms': 4,\n",
       " 'latitude': '44.515838200314',\n",
       " 'longitude': '40.179283894826',\n",
       " 'details': {'Construction type': 'stone',\n",
       "  'Building type': 'Stalin',\n",
       "  'Renovation': 'renovated',\n",
       "  'Flooring': 'hardwood',\n",
       "  'Entrance door': 'metal',\n",
       "  'Windows': 'plastic',\n",
       "  'Heating': 'gas boiler',\n",
       "  'Cooling': 'air conditioner'},\n",
       " 'room_details': {'rooms': '4',\n",
       "  'bedrooms': '2',\n",
       "  'bathrooms': '2',\n",
       "  'kitchens': '1',\n",
       "  'storage rooms': '2',\n",
       "  'balconies': '3'},\n",
       " 'additional_features': ['air conditioner',\n",
       "  'new wiring',\n",
       "  'persistent water',\n",
       "  'hardwood flooring',\n",
       "  'new water tubes',\n",
       "  'electricity',\n",
       "  'metal door',\n",
       "  'intercom',\n",
       "  'open balcony',\n",
       "  'built-in wardrobes',\n",
       "  'kitchen tiled',\n",
       "  'appliances',\n",
       "  'bathroom tiled',\n",
       "  'plastic windows',\n",
       "  'exclusive design',\n",
       "  'sunny',\n",
       "  'natural gas',\n",
       "  'kitchen furniture',\n",
       "  'furnished'],\n",
       " 'added_in_date': '14.11.2023',\n",
       " 'visit_count': '102',\n",
       " 'utilities': []}"
      ]
     },
     "execution_count": 28,
     "metadata": {},
     "output_type": "execute_result"
    }
   ],
   "source": [
    "from ConcreteScrapers.Bnakaran.BnakaranApartmentScraper import BnakaranApartmentScraper\n",
    "\n",
    "scraper = BnakaranApartmentScraper(\"https://www.bnakaran.com/en/apartment-for-sale-in-downtown-yerevan-d91000\")\n",
    "scraper.scrape()\n",
    "scraper.values()"
   ]
  },
  {
   "cell_type": "code",
   "execution_count": 31,
   "id": "398ecddf",
   "metadata": {},
   "outputs": [
    {
     "data": {
      "text/plain": [
       "['https://pic.estate.am/image/86/cf/86cf67fd135fc4e64834d0afafe3c688_s1200.jpg',\n",
       " 'https://pic.estate.am/image/72/52/725203f6773ab0f3c2bc36271058f5b2_s1200.jpg',\n",
       " 'https://pic.estate.am/image/9f/05/9f05fbdf00f252b9da7fbe71f8422165_s1200.jpg',\n",
       " 'https://pic.estate.am/image/97/fc/97fc3a681f547de91da69149552e6e8f_s1200.jpg',\n",
       " 'https://pic.estate.am/image/7c/11/7c11b3b33e78a53c0a7744118a7b4a37_s1200.jpg',\n",
       " 'https://pic.estate.am/image/1b/3c/1b3c15fc63a9c5e3dffd05d8b939a7a6_s1200.jpg',\n",
       " 'https://pic.estate.am/image/41/68/4168341a16d34ba3e720694f1a4dbfa3_s1200.jpg',\n",
       " 'https://pic.estate.am/image/82/5f/825ffd02a4f9c11e2688e77823224fa9_s1200.jpg',\n",
       " 'https://pic.estate.am/image/86/1e/861e19acfa02d8c2ce060a8aa54bd322_s1200.jpg',\n",
       " 'https://pic.estate.am/image/b5/e1/b5e1e7809612ece91c77b3d525074c55_s1200.jpg',\n",
       " 'https://pic.estate.am/image/eb/b8/ebb816868c3867ce61ab1b5ece72ad15_s1200.jpg',\n",
       " 'https://pic.estate.am/image/6d/d9/6dd9d5daddc343afa9ee67d9a9c97eed_s1200.jpg',\n",
       " 'https://pic.estate.am/image/47/0c/470cc32ec7bfdaa5c8ee7b050f8d00b2_s1200.jpg',\n",
       " 'https://pic.estate.am/image/31/70/3170d75590d1f389bc31ed5446bb89da_s1200.jpg',\n",
       " 'https://pic.estate.am/image/9e/06/9e068635f9b8bc80a0d85f1eb62696a0_s1200.jpg',\n",
       " 'https://pic.estate.am/image/d6/f7/d6f7cde93d984162828ac178a7dde2e7_s1200.jpg',\n",
       " 'https://pic.estate.am/image/87/88/8788432e47f267b0577603c30034dd42_s1200.jpg',\n",
       " 'https://pic.estate.am/image/b8/3d/b83d6303101540ef5c4f8760088531f1_s1200.jpg',\n",
       " 'https://pic.estate.am/image/5a/fb/5afb17ffa5a4a4b6730ba24979594b37_s1200.jpg',\n",
       " 'https://pic.estate.am/image/a7/2a/a72a376ae60c3078286cfd898d21cc3f_s1200.jpg',\n",
       " 'https://pic.estate.am/image/c6/55/c655216816a9a8435852a9822bef6f51_s1200.jpg',\n",
       " 'https://pic.estate.am/image/ba/ca/baca4e5407f70ced1ffc37cff3da4875_s1200.jpg',\n",
       " 'https://pic.estate.am/image/6f/1b/6f1b59f322f7bdc0e4c56c756d45495c_s1200.jpg',\n",
       " 'https://pic.estate.am/image/32/7a/327a8f2720cb5283f10323a76d8b965f_s1200.jpg',\n",
       " 'https://pic.estate.am/image/9c/08/9c08591df55c34af44f27e7c3f80e135_s1200.jpg',\n",
       " 'https://pic.estate.am/image/17/1c/171cccf8fe3767293473151d46be22ef_s1200.jpg',\n",
       " 'https://pic.estate.am/image/e2/a5/e2a555b7cd5f00ee8832c2afd230b527_s1200.jpg',\n",
       " 'https://pic.estate.am/image/16/e9/16e9d8540241edcdf12f36110b62343a_s1200.jpg',\n",
       " 'https://pic.estate.am/image/7f/9c/7f9cd3e90581150a22eea177d2b5c713_s1200.jpg',\n",
       " 'https://pic.estate.am/image/45/e2/45e2b80c71ba0c1d688a420fd39d3e6f_s1200.jpg',\n",
       " 'https://pic.estate.am/image/18/5d/185df44c95298087f907a6b43ba183e3_s1200.jpg',\n",
       " 'https://pic.estate.am/image/33/d9/33d97cce5253088325467c16a494cfce_s1200.jpg']"
      ]
     },
     "execution_count": 31,
     "metadata": {},
     "output_type": "execute_result"
    }
   ],
   "source": [
    "scraper.images_links()"
   ]
  },
  {
   "cell_type": "code",
   "execution_count": null,
   "id": "1b4389ec",
   "metadata": {},
   "outputs": [],
   "source": []
  }
 ],
 "metadata": {
  "kernelspec": {
   "display_name": "Python 3 (ipykernel)",
   "language": "python",
   "name": "python3"
  },
  "language_info": {
   "codemirror_mode": {
    "name": "ipython",
    "version": 3
   },
   "file_extension": ".py",
   "mimetype": "text/x-python",
   "name": "python",
   "nbconvert_exporter": "python",
   "pygments_lexer": "ipython3",
   "version": "3.9.13"
  }
 },
 "nbformat": 4,
 "nbformat_minor": 5
}

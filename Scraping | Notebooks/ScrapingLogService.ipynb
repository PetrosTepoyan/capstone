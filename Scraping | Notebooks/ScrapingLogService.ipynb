{
 "cells": [
  {
   "cell_type": "code",
   "execution_count": 11,
   "id": "efb3e362",
   "metadata": {},
   "outputs": [],
   "source": [
    "import pandas as pd\n",
    "\n",
    "class ScrapingLogService:\n",
    "    \n",
    "    def __init__(self, path):\n",
    "        self.path = path\n",
    "        self.log_df = pd.DataFrame(columns = [\n",
    "            \"source\",\n",
    "            \"webpage\",\n",
    "            \"success\",\n",
    "            \"error\"\n",
    "        ])\n",
    "        \n",
    "    def success(self, source, webpage):\n",
    "        new_row = pd.DataFrame({\n",
    "            \"source\" : [source],\n",
    "            \"webpage\" : [webpage],\n",
    "            \"success\" : [True],\n",
    "            \"error\" : [None]\n",
    "        })\n",
    "        self.log_df = pd.concat([self.log_df, new_row], ignore_index = True)\n",
    "        \n",
    "    def error(self, source, webpage, error):\n",
    "        new_row = pd.DataFrame({\n",
    "            \"source\" : [source],\n",
    "            \"webpage\" : [webpage],\n",
    "            \"success\" : [False],\n",
    "            \"error\" : [error]\n",
    "        })\n",
    "        self.log_df = pd.concat([self.log_df, new_row], ignore_index = True)\n",
    "        \n",
    "    def save(self):\n",
    "        self.log_df.to_csv(self.path)"
   ]
  },
  {
   "cell_type": "code",
   "execution_count": 12,
   "id": "4cc008dc",
   "metadata": {},
   "outputs": [],
   "source": [
    "log = ScrapingLogService(\"scrape_log.csv\")\n",
    "log.success(\"source\", \"webpage\")\n",
    "log.error(\"source\", \"webpage\", \"some error\")\n",
    "log.save()"
   ]
  },
  {
   "cell_type": "code",
   "execution_count": null,
   "id": "d74f3544",
   "metadata": {},
   "outputs": [],
   "source": []
  }
 ],
 "metadata": {
  "kernelspec": {
   "display_name": "Python 3 (ipykernel)",
   "language": "python",
   "name": "python3"
  },
  "language_info": {
   "codemirror_mode": {
    "name": "ipython",
    "version": 3
   },
   "file_extension": ".py",
   "mimetype": "text/x-python",
   "name": "python",
   "nbconvert_exporter": "python",
   "pygments_lexer": "ipython3",
   "version": "3.9.13"
  }
 },
 "nbformat": 4,
 "nbformat_minor": 5
}

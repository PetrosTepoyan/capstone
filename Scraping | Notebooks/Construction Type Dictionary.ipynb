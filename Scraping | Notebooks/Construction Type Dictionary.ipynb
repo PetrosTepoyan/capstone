{
 "cells": [
  {
   "cell_type": "code",
   "execution_count": 15,
   "id": "88144cae",
   "metadata": {
    "vscode": {
     "languageId": "powershell"
    }
   },
   "outputs": [],
   "source": [
    "import pandas as pd\n",
    "import numpy as np"
   ]
  },
  {
   "cell_type": "markdown",
   "id": "065b394f",
   "metadata": {},
   "source": [
    "# Bnakaran"
   ]
  },
  {
   "cell_type": "code",
   "execution_count": 4,
   "id": "b23d09bd",
   "metadata": {
    "vscode": {
     "languageId": "powershell"
    }
   },
   "outputs": [],
   "source": [
    "bnakaran = pd.read_csv('../scraping_results/data/bnakaran_apartments.csv')"
   ]
  },
  {
   "cell_type": "code",
   "execution_count": 21,
   "id": "e7406a44",
   "metadata": {
    "vscode": {
     "languageId": "powershell"
    }
   },
   "outputs": [
    {
     "name": "stdout",
     "output_type": "stream",
     "text": [
      "['wall building' 'stone' 'in situ concrete' nan]\n"
     ]
    }
   ],
   "source": [
    "u = bnakaran['construction_type'].unique()\n",
    "np.isnan(u[3])\n",
    "print(u)"
   ]
  },
  {
   "cell_type": "code",
   "execution_count": 6,
   "id": "36240f5f",
   "metadata": {
    "vscode": {
     "languageId": "powershell"
    }
   },
   "outputs": [],
   "source": [
    "bnakaran_build_types = {\n",
    "    \"stone\" : \"Stone\",\n",
    "    \"wall building\" : \"Panel\",\n",
    "    \"in situ concrete\" : \"Monolit\",\n",
    "    None : \"Other\"\n",
    "}"
   ]
  },
  {
   "cell_type": "markdown",
   "id": "45210858",
   "metadata": {},
   "source": [
    "# Bars"
   ]
  },
  {
   "cell_type": "code",
   "execution_count": 38,
   "id": "3c03e1b1",
   "metadata": {
    "vscode": {
     "languageId": "powershell"
    }
   },
   "outputs": [],
   "source": [
    "bars = pd.read_csv('bars_apartments.csv')"
   ]
  },
  {
   "cell_type": "code",
   "execution_count": 56,
   "id": "48d34c57",
   "metadata": {
    "vscode": {
     "languageId": "powershell"
    }
   },
   "outputs": [
    {
     "data": {
      "text/plain": [
       "array(['Stalinka c/o', 'Stalinka w/o', 'Special project', 'New building',\n",
       "       'Stone', 'Panel', 'Monolithic'], dtype=object)"
      ]
     },
     "execution_count": 56,
     "metadata": {},
     "output_type": "execute_result"
    }
   ],
   "source": [
    "bars['building_type'].unique()"
   ]
  },
  {
   "cell_type": "code",
   "execution_count": 57,
   "id": "6f659094",
   "metadata": {
    "vscode": {
     "languageId": "powershell"
    }
   },
   "outputs": [],
   "source": [
    "bars_build_types = {\"Stone\":\"Stone\", \"Panel\":\"Panel\", \"Monolithic\" :\"Monolit\",\"Stalinka c/o\":\"Other\",'Stalinka w/o':\"Other\",'Special project':\"Other\", 'New building':\"Other\"  }\n"
   ]
  },
  {
   "cell_type": "markdown",
   "id": "3d0143a0",
   "metadata": {},
   "source": [
    "# My Realty"
   ]
  },
  {
   "cell_type": "code",
   "execution_count": 48,
   "id": "c74ff9de",
   "metadata": {
    "vscode": {
     "languageId": "powershell"
    }
   },
   "outputs": [],
   "source": [
    "realty = pd.read_csv('myrealty_apartments.csv')"
   ]
  },
  {
   "cell_type": "code",
   "execution_count": 53,
   "id": "3569537f",
   "metadata": {
    "vscode": {
     "languageId": "powershell"
    }
   },
   "outputs": [
    {
     "data": {
      "text/plain": [
       "array(['Stone', 'Monolit', 'Panel', 'Other'], dtype=object)"
      ]
     },
     "execution_count": 53,
     "metadata": {},
     "output_type": "execute_result"
    }
   ],
   "source": [
    "realty['building_type'].unique()"
   ]
  },
  {
   "cell_type": "code",
   "execution_count": 58,
   "id": "5208955e",
   "metadata": {
    "vscode": {
     "languageId": "powershell"
    }
   },
   "outputs": [],
   "source": [
    "realty_build_types = {\"Stone\":\"Stone\", \"Panel\":\"Panel\", \"Monolit\" :\"Monolit\", \"Other\": \"Other\"}"
   ]
  },
  {
   "cell_type": "code",
   "execution_count": null,
   "id": "1ae1b80d",
   "metadata": {
    "vscode": {
     "languageId": "powershell"
    }
   },
   "outputs": [],
   "source": []
  }
 ],
 "metadata": {
  "kernelspec": {
   "display_name": "Python 3 (ipykernel)",
   "language": "python",
   "name": "python3"
  },
  "language_info": {
   "codemirror_mode": {
    "name": "ipython",
    "version": 3
   },
   "file_extension": ".py",
   "mimetype": "text/x-python",
   "name": "python",
   "nbconvert_exporter": "python",
   "pygments_lexer": "ipython3",
   "version": "3.9.13"
  }
 },
 "nbformat": 4,
 "nbformat_minor": 5
}

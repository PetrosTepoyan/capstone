{
 "cells": [
  {
   "cell_type": "code",
   "execution_count": 84,
   "id": "f29c5aac",
   "metadata": {},
   "outputs": [
    {
     "name": "stdout",
     "output_type": "stream",
     "text": [
      "The autoreload extension is already loaded. To reload it, use:\n",
      "  %reload_ext autoreload\n"
     ]
    }
   ],
   "source": [
    "%load_ext autoreload\n",
    "%autoreload 2\n",
    "import sys\n",
    "sys.path.append(\"..\")"
   ]
  },
  {
   "cell_type": "code",
   "execution_count": 85,
   "id": "f9a921a8",
   "metadata": {},
   "outputs": [],
   "source": [
    "import pandas as pd\n",
    "import seaborn as sns\n",
    "import matplotlib.pyplot as plt\n",
    "from utils.dummies import dummify_columns"
   ]
  },
  {
   "cell_type": "code",
   "execution_count": 86,
   "id": "d4231ef8",
   "metadata": {},
   "outputs": [],
   "source": [
    "data = pd.concat([\n",
    "    pd.read_csv(\"../processed_data/bars.csv\", index_col=0),\n",
    "    pd.read_csv(\"../processed_data/myrealty.csv\", index_col=0),\n",
    "    pd.read_csv(\"../processed_data/bnakaran.csv\", index_col=0)\n",
    "], axis = 0)\n",
    "data = data.reset_index(drop=True)"
   ]
  },
  {
   "cell_type": "code",
   "execution_count": 2,
   "id": "9d10b848",
   "metadata": {},
   "outputs": [
    {
     "ename": "NameError",
     "evalue": "name 'pd' is not defined",
     "output_type": "error",
     "traceback": [
      "\u001b[0;31m---------------------------------------------------------------------------\u001b[0m",
      "\u001b[0;31mNameError\u001b[0m                                 Traceback (most recent call last)",
      "Input \u001b[0;32mIn [2]\u001b[0m, in \u001b[0;36m<cell line: 1>\u001b[0;34m()\u001b[0m\n\u001b[0;32m----> 1\u001b[0m scraping_log \u001b[38;5;241m=\u001b[39m \u001b[43mpd\u001b[49m\u001b[38;5;241m.\u001b[39mread_csv(\u001b[38;5;124m\"\u001b[39m\u001b[38;5;124m../scraping_results/scraping_log.csv\u001b[39m\u001b[38;5;124m\"\u001b[39m, index_col\u001b[38;5;241m=\u001b[39m\u001b[38;5;241m0\u001b[39m)\n\u001b[1;32m      2\u001b[0m rents \u001b[38;5;241m=\u001b[39m scraping_log[scraping_log\u001b[38;5;241m.\u001b[39mwebpage\u001b[38;5;241m.\u001b[39mstr\u001b[38;5;241m.\u001b[39mcontains(\u001b[38;5;124m\"\u001b[39m\u001b[38;5;124mrent\u001b[39m\u001b[38;5;124m\"\u001b[39m)]\n\u001b[1;32m      3\u001b[0m rents \u001b[38;5;241m=\u001b[39m rents[rents\u001b[38;5;241m.\u001b[39msuccess \u001b[38;5;241m==\u001b[39m \u001b[38;5;28;01mTrue\u001b[39;00m]\n",
      "\u001b[0;31mNameError\u001b[0m: name 'pd' is not defined"
     ]
    }
   ],
   "source": [
    "scraping_log = pd.read_csv(\"../scraping_results/scraping_log.csv\", index_col=0)\n",
    "rents = scraping_log[scraping_log.webpage.str.contains(\"rent\")]\n",
    "rents = rents[rents.success == True]\n",
    "bnakaran = pd.read_csv(\"../scraping_results/data/bnakaran_apartments.csv\", index_col=0)\n",
    "myrealty = pd.read_csv(\"../scraping_results/data/myrealty_apartments.csv\", index_col=0)\n",
    "\n",
    "renting_ap = bnakaran[bnakaran.webpage.isin(rents.webpage)]\n",
    "filtered_data = data[(data[\"source\"] == 'bnakaran') & (data[\"id\"].isin(renting_ap[\"id\"]))]\n",
    "data = data.drop(filtered_data.index)\n",
    "\n",
    "renting_ap = myrealty[myrealty.webpage.isin(rents.webpage)]\n",
    "renting_ap.id = renting_ap.id.astype(str)\n",
    "filtered_data = data[(data[\"source\"] == 'myrealty') & (data[\"id\"].isin(renting_ap[\"id\"]))]\n",
    "data = data.drop(filtered_data.index)"
   ]
  },
  {
   "cell_type": "code",
   "execution_count": 87,
   "id": "0d993f63",
   "metadata": {},
   "outputs": [],
   "source": [
    "prices_full = data[\"price\"] > 30000\n",
    "data.loc[prices_full, \"price\"] = data.loc[prices_full, \"price\"] / data.loc[prices_full, \"area\"]"
   ]
  },
  {
   "cell_type": "code",
   "execution_count": 88,
   "id": "2da649d3",
   "metadata": {},
   "outputs": [],
   "source": [
    "data = pd.get_dummies(data, columns = [\"building_type\", \"condition\"])"
   ]
  },
  {
   "cell_type": "code",
   "execution_count": 90,
   "id": "57bf14cd",
   "metadata": {},
   "outputs": [],
   "source": [
    "data.to_csv(\"../processed_data/data_no_map.csv\")"
   ]
  }
 ],
 "metadata": {
  "kernelspec": {
   "display_name": "Python 3 (ipykernel)",
   "language": "python",
   "name": "python3"
  },
  "language_info": {
   "codemirror_mode": {
    "name": "ipython",
    "version": 3
   },
   "file_extension": ".py",
   "mimetype": "text/x-python",
   "name": "python",
   "nbconvert_exporter": "python",
   "pygments_lexer": "ipython3",
   "version": "3.9.13"
  }
 },
 "nbformat": 4,
 "nbformat_minor": 5
}

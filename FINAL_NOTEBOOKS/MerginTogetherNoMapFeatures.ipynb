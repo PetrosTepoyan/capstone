{
 "cells": [
  {
   "cell_type": "code",
   "execution_count": 84,
   "id": "f29c5aac",
   "metadata": {},
   "outputs": [
    {
     "name": "stdout",
     "output_type": "stream",
     "text": [
      "The autoreload extension is already loaded. To reload it, use:\n",
      "  %reload_ext autoreload\n"
     ]
    }
   ],
   "source": [
    "%load_ext autoreload\n",
    "%autoreload 2\n",
    "import sys\n",
    "sys.path.append(\"..\")"
   ]
  },
  {
   "cell_type": "code",
   "execution_count": 85,
   "id": "f9a921a8",
   "metadata": {},
   "outputs": [],
   "source": [
    "import pandas as pd\n",
    "import seaborn as sns\n",
    "import matplotlib.pyplot as plt\n",
    "from utils.dummies import dummify_columns"
   ]
  },
  {
   "cell_type": "code",
   "execution_count": 86,
   "id": "d4231ef8",
   "metadata": {},
   "outputs": [],
   "source": [
    "data = pd.concat([\n",
    "    pd.read_csv(\"../processed_data/bars.csv\", index_col=0),\n",
    "    pd.read_csv(\"../processed_data/myrealty.csv\", index_col=0),\n",
    "    pd.read_csv(\"../processed_data/bnakaran.csv\", index_col=0)\n",
    "], axis = 0)\n",
    "data = data.reset_index(drop=True)"
   ]
  },
  {
   "cell_type": "code",
   "execution_count": 87,
   "id": "0d993f63",
   "metadata": {},
   "outputs": [],
   "source": [
    "prices_full = data[\"price\"] > 30000\n",
    "data.loc[prices_full, \"price\"] = data.loc[prices_full, \"price\"] / data.loc[prices_full, \"area\"]"
   ]
  },
  {
   "cell_type": "code",
   "execution_count": 88,
   "id": "2da649d3",
   "metadata": {},
   "outputs": [],
   "source": [
    "data = pd.get_dummies(data, columns = [\"building_type\", \"condition\"])\n",
    "data = data.drop_duplicates()"
   ]
  },
  {
   "cell_type": "code",
   "execution_count": 90,
   "id": "57bf14cd",
   "metadata": {},
   "outputs": [],
   "source": [
    "data.to_csv(\"../processed_data/data_no_map.csv\")"
   ]
  }
 ],
 "metadata": {
  "kernelspec": {
   "display_name": "Python 3 (ipykernel)",
   "language": "python",
   "name": "python3"
  },
  "language_info": {
   "codemirror_mode": {
    "name": "ipython",
    "version": 3
   },
   "file_extension": ".py",
   "mimetype": "text/x-python",
   "name": "python",
   "nbconvert_exporter": "python",
   "pygments_lexer": "ipython3",
   "version": "3.9.13"
  }
 },
 "nbformat": 4,
 "nbformat_minor": 5
}

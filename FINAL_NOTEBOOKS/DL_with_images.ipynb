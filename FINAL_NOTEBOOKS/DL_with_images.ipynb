{
 "cells": [
  {
   "cell_type": "code",
   "execution_count": 49,
   "id": "874411fa",
   "metadata": {},
   "outputs": [
    {
     "name": "stdout",
     "output_type": "stream",
     "text": [
      "The autoreload extension is already loaded. To reload it, use:\n",
      "  %reload_ext autoreload\n"
     ]
    }
   ],
   "source": [
    "%load_ext autoreload\n",
    "%autoreload 2\n",
    "import sys\n",
    "sys.path.append(\"..\")"
   ]
  },
  {
   "cell_type": "code",
   "execution_count": 50,
   "id": "a43e2f96",
   "metadata": {},
   "outputs": [],
   "source": [
    "import pandas as pd\n",
    "import torch\n",
    "import torch.nn as nn\n",
    "import timm\n",
    "from torch import optim\n",
    "from utils.ProgressBar import ProgressBar\n",
    "from torchvision import transforms\n",
    "from torch.utils.data import Dataset, DataLoader, random_split\n",
    "from MachineLearning.ApartmentsDatasetPyTorch import ApartmentsDatasetPyTorch\n",
    "from tqdm import tqdm\n",
    "from DeepLearning.PricePredictionModel import PricePredictionModel"
   ]
  },
  {
   "cell_type": "code",
   "execution_count": 51,
   "id": "c012682a",
   "metadata": {},
   "outputs": [],
   "source": [
    "params = {\n",
    "    \"data_dir\" : \"../processed_data/data_tiny.csv\",\n",
    "    \"images_dir\" : '../processed_data/images_tiny',\n",
    "    \"img_input_size\" : 256,\n",
    "    \"batch_size\" : 32, # because we have a lot of columns\n",
    "    \"shuffle\" : False,\n",
    "    \n",
    "    \"inception_model_output_size\" : 1024,\n",
    "    \"tabular_ffnn_output_size\" : 256,\n",
    "    \"learning_rate\" : 0.5e-3,\n",
    "    \"weight_decay\" : 1e-4\n",
    "}"
   ]
  },
  {
   "cell_type": "code",
   "execution_count": 58,
   "id": "4e5de9a9",
   "metadata": {},
   "outputs": [
    {
     "name": "stdout",
     "output_type": "stream",
     "text": [
      "Tabular Size 100\n",
      "Inception output size 256\n",
      "Tabular output size 64\n",
      "Regression input size 320\n"
     ]
    }
   ],
   "source": [
    "gpu = torch.device(\"mps:0\")\n",
    "\n",
    "transform = transforms.Compose([\n",
    "    transforms.Resize((params[\"img_input_size\"], params[\"img_input_size\"])),\n",
    "    transforms.ToTensor(),\n",
    "    transforms.Normalize(mean=[0.5, 0.5, 0.5], std=[0.5, 0.5, 0.5])  # Normalize images\n",
    "])\n",
    "\n",
    "dataset = ApartmentsDatasetPyTorch(\n",
    "    device = gpu,\n",
    "    data_dir = params[\"data_dir\"],\n",
    "    images_dir = params[\"images_dir\"], \n",
    "    transform = transform\n",
    ")\n",
    "print(\"Tabular Size\", len(dataset.df))\n",
    "model = PricePredictionModel(\n",
    "    dataset.tabular_data_size(), \n",
    "    params\n",
    ")\n",
    "model = model.to(gpu)"
   ]
  },
  {
   "cell_type": "markdown",
   "id": "62cc30ff",
   "metadata": {},
   "source": [
    "# Training"
   ]
  },
  {
   "cell_type": "code",
   "execution_count": 60,
   "id": "3ce2c4b1",
   "metadata": {},
   "outputs": [
    {
     "name": "stdout",
     "output_type": "stream",
     "text": [
      "Starting training...\n"
     ]
    },
    {
     "name": "stderr",
     "output_type": "stream",
     "text": [
      "Epoch 1/20 - Training: 100%|████████████████████| 39/39 [00:29<00:00,  1.32it/s]\n",
      "Epoch 1/20 - Validation: 100%|████████████████████| 9/9 [00:05<00:00,  1.52it/s]\n"
     ]
    },
    {
     "name": "stdout",
     "output_type": "stream",
     "text": [
      "Epoch 1, Training Loss: 106051482755.28206, Validation Loss: 105485225528.88889, L1: 268338.1875\n"
     ]
    },
    {
     "name": "stderr",
     "output_type": "stream",
     "text": [
      "Epoch 2/20 - Training: 100%|████████████████████| 39/39 [00:29<00:00,  1.33it/s]\n",
      "Epoch 2/20 - Validation: 100%|████████████████████| 9/9 [00:05<00:00,  1.52it/s]\n"
     ]
    },
    {
     "name": "stdout",
     "output_type": "stream",
     "text": [
      "Epoch 2, Training Loss: 31131177905.23077, Validation Loss: 46205013333.333336, L1: 149976.5625\n"
     ]
    },
    {
     "name": "stderr",
     "output_type": "stream",
     "text": [
      "Epoch 3/20 - Training: 100%|████████████████████| 39/39 [00:29<00:00,  1.32it/s]\n",
      "Epoch 3/20 - Validation: 100%|████████████████████| 9/9 [00:05<00:00,  1.52it/s]\n"
     ]
    },
    {
     "name": "stdout",
     "output_type": "stream",
     "text": [
      "Epoch 3, Training Loss: 19918299661.128204, Validation Loss: 39071389155.55556, L1: 130259.5546875\n"
     ]
    },
    {
     "name": "stderr",
     "output_type": "stream",
     "text": [
      "Epoch 4/20 - Training: 100%|████████████████████| 39/39 [00:29<00:00,  1.32it/s]\n",
      "Epoch 4/20 - Validation: 100%|████████████████████| 9/9 [00:08<00:00,  1.00it/s]\n"
     ]
    },
    {
     "name": "stdout",
     "output_type": "stream",
     "text": [
      "Epoch 4, Training Loss: 14003113314.461538, Validation Loss: 39020309048.888885, L1: 131020.9296875\n"
     ]
    },
    {
     "name": "stderr",
     "output_type": "stream",
     "text": [
      "Epoch 5/20 - Training: 100%|████████████████████| 39/39 [00:29<00:00,  1.31it/s]\n",
      "Epoch 5/20 - Validation: 100%|████████████████████| 9/9 [00:06<00:00,  1.48it/s]\n"
     ]
    },
    {
     "name": "stdout",
     "output_type": "stream",
     "text": [
      "Epoch 5, Training Loss: 11107767624.205128, Validation Loss: 35198589944.888885, L1: 128354.234375\n"
     ]
    },
    {
     "name": "stderr",
     "output_type": "stream",
     "text": [
      "Epoch 6/20 - Training: 100%|████████████████████| 39/39 [00:29<00:00,  1.31it/s]\n",
      "Epoch 6/20 - Validation: 100%|████████████████████| 9/9 [00:05<00:00,  1.50it/s]\n"
     ]
    },
    {
     "name": "stdout",
     "output_type": "stream",
     "text": [
      "Epoch 6, Training Loss: 9199046038.97436, Validation Loss: 32833063736.88889, L1: 122769.6640625\n"
     ]
    },
    {
     "name": "stderr",
     "output_type": "stream",
     "text": [
      "Epoch 7/20 - Training: 100%|████████████████████| 39/39 [00:29<00:00,  1.33it/s]\n",
      "Epoch 7/20 - Validation: 100%|████████████████████| 9/9 [00:05<00:00,  1.52it/s]\n"
     ]
    },
    {
     "name": "stdout",
     "output_type": "stream",
     "text": [
      "Epoch 7, Training Loss: 8200700176.410256, Validation Loss: 39707315939.55556, L1: 131249.5625\n"
     ]
    },
    {
     "name": "stderr",
     "output_type": "stream",
     "text": [
      "Epoch 8/20 - Training: 100%|████████████████████| 39/39 [00:28<00:00,  1.35it/s]\n",
      "Epoch 8/20 - Validation: 100%|████████████████████| 9/9 [00:05<00:00,  1.56it/s]\n"
     ]
    },
    {
     "name": "stdout",
     "output_type": "stream",
     "text": [
      "Epoch 8, Training Loss: 7731354820.923077, Validation Loss: 31462746083.555557, L1: 123260.4453125\n"
     ]
    },
    {
     "name": "stderr",
     "output_type": "stream",
     "text": [
      "Epoch 9/20 - Training: 100%|████████████████████| 39/39 [00:28<00:00,  1.36it/s]\n",
      "Epoch 9/20 - Validation: 100%|████████████████████| 9/9 [00:05<00:00,  1.56it/s]\n"
     ]
    },
    {
     "name": "stdout",
     "output_type": "stream",
     "text": [
      "Epoch 9, Training Loss: 6655196594.871795, Validation Loss: 41084746638.22222, L1: 133527.171875\n"
     ]
    },
    {
     "name": "stderr",
     "output_type": "stream",
     "text": [
      "Epoch 10/20 - Training: 100%|███████████████████| 39/39 [00:28<00:00,  1.36it/s]\n",
      "Epoch 10/20 - Validation: 100%|███████████████████| 9/9 [00:05<00:00,  1.57it/s]\n"
     ]
    },
    {
     "name": "stdout",
     "output_type": "stream",
     "text": [
      "Epoch 10, Training Loss: 6039130651.076923, Validation Loss: 45429153109.333336, L1: 141547.796875\n"
     ]
    },
    {
     "name": "stderr",
     "output_type": "stream",
     "text": [
      "Epoch 11/20 - Training: 100%|███████████████████| 39/39 [00:29<00:00,  1.33it/s]\n",
      "Epoch 11/20 - Validation: 100%|███████████████████| 9/9 [00:05<00:00,  1.50it/s]\n"
     ]
    },
    {
     "name": "stdout",
     "output_type": "stream",
     "text": [
      "Epoch 11, Training Loss: 6450509840.410256, Validation Loss: 39898444088.888885, L1: 129929.5\n"
     ]
    },
    {
     "name": "stderr",
     "output_type": "stream",
     "text": [
      "Epoch 12/20 - Training: 100%|███████████████████| 39/39 [00:29<00:00,  1.31it/s]\n",
      "Epoch 12/20 - Validation: 100%|███████████████████| 9/9 [00:05<00:00,  1.56it/s]\n"
     ]
    },
    {
     "name": "stdout",
     "output_type": "stream",
     "text": [
      "Epoch 12, Training Loss: 5876242116.923077, Validation Loss: 38437198321.77778, L1: 132415.171875\n"
     ]
    },
    {
     "name": "stderr",
     "output_type": "stream",
     "text": [
      "Epoch 13/20 - Training: 100%|███████████████████| 39/39 [00:31<00:00,  1.24it/s]\n",
      "Epoch 13/20 - Validation: 100%|███████████████████| 9/9 [00:05<00:00,  1.54it/s]\n"
     ]
    },
    {
     "name": "stdout",
     "output_type": "stream",
     "text": [
      "Epoch 13, Training Loss: 6026132867.282051, Validation Loss: 40055887416.888885, L1: 135117.421875\n"
     ]
    },
    {
     "name": "stderr",
     "output_type": "stream",
     "text": [
      "Epoch 14/20 - Training: 100%|███████████████████| 39/39 [00:28<00:00,  1.37it/s]\n",
      "Epoch 14/20 - Validation: 100%|███████████████████| 9/9 [00:05<00:00,  1.59it/s]\n"
     ]
    },
    {
     "name": "stdout",
     "output_type": "stream",
     "text": [
      "Epoch 14, Training Loss: 6101026691.282051, Validation Loss: 48624377514.666664, L1: 139407.390625\n"
     ]
    },
    {
     "name": "stderr",
     "output_type": "stream",
     "text": [
      "Epoch 15/20 - Training: 100%|███████████████████| 39/39 [00:28<00:00,  1.38it/s]\n",
      "Epoch 15/20 - Validation: 100%|███████████████████| 9/9 [00:05<00:00,  1.60it/s]\n"
     ]
    },
    {
     "name": "stdout",
     "output_type": "stream",
     "text": [
      "Epoch 15, Training Loss: 6408339278.769231, Validation Loss: 43938466929.77778, L1: 135217.640625\n"
     ]
    },
    {
     "name": "stderr",
     "output_type": "stream",
     "text": [
      "Epoch 16/20 - Training: 100%|███████████████████| 39/39 [00:28<00:00,  1.39it/s]\n",
      "Epoch 16/20 - Validation: 100%|███████████████████| 9/9 [00:05<00:00,  1.59it/s]\n"
     ]
    },
    {
     "name": "stdout",
     "output_type": "stream",
     "text": [
      "Epoch 16, Training Loss: 5346343683.282051, Validation Loss: 49760128568.888885, L1: 141616.359375\n"
     ]
    },
    {
     "name": "stderr",
     "output_type": "stream",
     "text": [
      "Epoch 17/20 - Training: 100%|███████████████████| 39/39 [00:28<00:00,  1.39it/s]\n",
      "Epoch 17/20 - Validation: 100%|███████████████████| 9/9 [00:05<00:00,  1.59it/s]\n"
     ]
    },
    {
     "name": "stdout",
     "output_type": "stream",
     "text": [
      "Epoch 17, Training Loss: 5523301179.076923, Validation Loss: 39711028252.44444, L1: 132884.265625\n"
     ]
    },
    {
     "name": "stderr",
     "output_type": "stream",
     "text": [
      "Epoch 18/20 - Training: 100%|███████████████████| 39/39 [00:28<00:00,  1.37it/s]\n",
      "Epoch 18/20 - Validation: 100%|███████████████████| 9/9 [00:05<00:00,  1.55it/s]\n"
     ]
    },
    {
     "name": "stdout",
     "output_type": "stream",
     "text": [
      "Epoch 18, Training Loss: 5555668617.846154, Validation Loss: 48061347612.44444, L1: 140581.75\n"
     ]
    },
    {
     "name": "stderr",
     "output_type": "stream",
     "text": [
      "Epoch 19/20 - Training: 100%|███████████████████| 39/39 [00:29<00:00,  1.31it/s]\n",
      "Epoch 19/20 - Validation: 100%|███████████████████| 9/9 [00:05<00:00,  1.53it/s]\n"
     ]
    },
    {
     "name": "stdout",
     "output_type": "stream",
     "text": [
      "Epoch 19, Training Loss: 5363083408.410256, Validation Loss: 40857712412.44444, L1: 136031.890625\n"
     ]
    },
    {
     "name": "stderr",
     "output_type": "stream",
     "text": [
      "Epoch 20/20 - Training: 100%|███████████████████| 39/39 [00:28<00:00,  1.35it/s]\n",
      "Epoch 20/20 - Validation: 100%|███████████████████| 9/9 [00:05<00:00,  1.51it/s]"
     ]
    },
    {
     "name": "stdout",
     "output_type": "stream",
     "text": [
      "Epoch 20, Training Loss: 5258679309.128205, Validation Loss: 38429532017.77778, L1: 130170.5\n"
     ]
    },
    {
     "name": "stderr",
     "output_type": "stream",
     "text": [
      "\n"
     ]
    }
   ],
   "source": [
    "# Assuming 'dataset' is your full dataset\n",
    "train_size = int(0.7 * len(dataset))\n",
    "val_size = int(0.15 * len(dataset))\n",
    "test_size = len(dataset) - train_size - val_size\n",
    "num_epochs = 20\n",
    "train_dataset, val_dataset, test_dataset = random_split(dataset, [train_size, val_size, test_size])\n",
    "num_GPU = 1\n",
    "\n",
    "train_loader = DataLoader(\n",
    "    train_dataset,\n",
    "    batch_size=params[\"batch_size\"], \n",
    "    shuffle=params[\"shuffle\"]\n",
    ")\n",
    "val_loader = DataLoader(\n",
    "    val_dataset,\n",
    "    batch_size=params[\"batch_size\"],\n",
    "    shuffle=False\n",
    ")\n",
    "test_loader = DataLoader(\n",
    "    test_dataset,\n",
    "    batch_size=params[\"batch_size\"], \n",
    "    shuffle=False\n",
    ")\n",
    "\n",
    "# Initialize lists to track losses\n",
    "train_losses = []\n",
    "val_losses = []\n",
    "\n",
    "optimizer = optim.Adam(\n",
    "    model.parameters(), \n",
    "    lr=params[\"learning_rate\"],\n",
    "    weight_decay = params[\"weight_decay\"]\n",
    ")\n",
    "criterion = torch.nn.MSELoss()\n",
    "criterion_abs = torch.nn.L1Loss()\n",
    "\n",
    "print(\"Starting training...\")\n",
    "# Training loop with progress bar\n",
    "for epoch in range(num_epochs):\n",
    "    # Training\n",
    "    model.train()  # Set the model to training mode\n",
    "    running_loss = 0.0\n",
    "    l1_losses = []\n",
    "    for data in tqdm(train_loader, desc=f'Epoch {epoch+1}/{num_epochs} - Training'):\n",
    "        images, datas, prices = data\n",
    "        optimizer.zero_grad()\n",
    "        outputs = model(images, datas)\n",
    "        prices_viewed = prices.view(-1, 1).float()\n",
    "        loss = criterion(outputs, prices_viewed)\n",
    "        loss.backward()\n",
    "        optimizer.step()\n",
    "\n",
    "        running_loss += loss.item()\n",
    "\n",
    "    train_losses.append(running_loss / len(train_loader))  # Average loss for this epoch\n",
    "\n",
    "    # Validation\n",
    "    model.eval()  # Set the model to evaluation mode\n",
    "    val_loss = 0.0\n",
    "    with torch.no_grad():  # Disable gradient calculation\n",
    "        for data in tqdm(val_loader, desc=f'Epoch {epoch+1}/{num_epochs} - Validation'):\n",
    "            images, datas, prices = data\n",
    "            outputs = model(images, datas)  # Forward pass\n",
    "            prices_viewed = prices.view(-1, 1).float()\n",
    "            loss = criterion(outputs, prices_viewed)  # Compute loss\n",
    "            val_loss += loss.item()  # Accumulate the loss\n",
    "            l1_losses.append(criterion_abs(outputs, prices_viewed))\n",
    "        \n",
    "    val_losses.append(val_loss / len(val_loader))  # Average loss for this epoch\n",
    "    l1_mean_loss = sum(l1_losses) / len(l1_losses)\n",
    "    # Print epoch's summary\n",
    "    print(f'Epoch {epoch+1}, Training Loss: {train_losses[-1]}, Validation Loss: {val_losses[-1]}, L1: {l1_mean_loss}')\n"
   ]
  },
  {
   "cell_type": "code",
   "execution_count": 61,
   "id": "df8aeca1",
   "metadata": {},
   "outputs": [],
   "source": [
    "# torch.save(model, \"models/model_v5.pth\")"
   ]
  },
  {
   "cell_type": "code",
   "execution_count": 62,
   "id": "9a1192f1",
   "metadata": {},
   "outputs": [],
   "source": [
    "# !conda install --yes pytorch torchvision -c pytorch"
   ]
  },
  {
   "cell_type": "code",
   "execution_count": 63,
   "id": "b329762c",
   "metadata": {},
   "outputs": [
    {
     "data": {
      "text/plain": [
       "[105485225528.88889,\n",
       " 46205013333.333336,\n",
       " 39071389155.55556,\n",
       " 39020309048.888885,\n",
       " 35198589944.888885,\n",
       " 32833063736.88889,\n",
       " 39707315939.55556,\n",
       " 31462746083.555557,\n",
       " 41084746638.22222,\n",
       " 45429153109.333336,\n",
       " 39898444088.888885,\n",
       " 38437198321.77778,\n",
       " 40055887416.888885,\n",
       " 48624377514.666664,\n",
       " 43938466929.77778,\n",
       " 49760128568.888885,\n",
       " 39711028252.44444,\n",
       " 48061347612.44444,\n",
       " 40857712412.44444,\n",
       " 38429532017.77778]"
      ]
     },
     "execution_count": 63,
     "metadata": {},
     "output_type": "execute_result"
    }
   ],
   "source": [
    "import matplotlib.pyplot as plt\n",
    "\n",
    "train_losses\n",
    "val_losses"
   ]
  },
  {
   "cell_type": "code",
   "execution_count": 65,
   "id": "3c90e353",
   "metadata": {},
   "outputs": [
    {
     "data": {
      "image/png": "[encoded data removed]",
      "text/plain": [
       "<Figure size 640x480 with 1 Axes>"
      ]
     },
     "metadata": {},
     "output_type": "display_data"
    },
    {
     "data": {
      "text/plain": [
       "<Figure size 640x480 with 0 Axes>"
      ]
     },
     "metadata": {},
     "output_type": "display_data"
    }
   ],
   "source": [
    "plt.title(\"Model V4 evaluation\")\n",
    "plt.plot(train_losses, label = 'Training')\n",
    "plt.plot(val_losses, label = 'Validation')\n",
    "plt.ylabel(\"MSE\")\n",
    "plt.xlabel(\"Epoch\")\n",
    "plt.xticks(range(1, 20))\n",
    "plt.legend()\n",
    "plt.show()\n",
    "plt.savefig('model_v4_epochs.png')"
   ]
  },
  {
   "cell_type": "code",
   "execution_count": null,
   "id": "70b3679e",
   "metadata": {},
   "outputs": [],
   "source": []
  }
 ],
 "metadata": {
  "kernelspec": {
   "display_name": "Python 3 (ipykernel)",
   "language": "python",
   "name": "python3"
  },
  "language_info": {
   "codemirror_mode": {
    "name": "ipython",
    "version": 3
   },
   "file_extension": ".py",
   "mimetype": "text/x-python",
   "name": "python",
   "nbconvert_exporter": "python",
   "pygments_lexer": "ipython3",
   "version": "3.9.13"
  }
 },
 "nbformat": 4,
 "nbformat_minor": 5
}

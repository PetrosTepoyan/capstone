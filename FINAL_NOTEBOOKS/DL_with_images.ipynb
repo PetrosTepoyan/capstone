{
 "cells": [
  {
   "cell_type": "code",
   "execution_count": 32,
   "id": "874411fa",
   "metadata": {},
   "outputs": [
    {
     "name": "stdout",
     "output_type": "stream",
     "text": [
      "The autoreload extension is already loaded. To reload it, use:\n",
      "  %reload_ext autoreload\n"
     ]
    }
   ],
   "source": [
    "%load_ext autoreload\n",
    "%autoreload 2\n",
    "import sys\n",
    "sys.path.append(\"..\")"
   ]
  },
  {
   "cell_type": "code",
   "execution_count": 45,
   "id": "a43e2f96",
   "metadata": {},
   "outputs": [],
   "source": [
    "import pandas as pd\n",
    "import torch\n",
    "import torch.nn as nn\n",
    "import timm\n",
    "from torch import optim\n",
    "from utils.ProgressBar import ProgressBar\n",
    "from torchvision import transforms\n",
    "from torch.utils.data import Dataset, DataLoader, random_split\n",
    "from DeepLearning.ApartmentsDatasetPyTorch import ApartmentsDatasetPyTorch\n",
    "from tqdm import tqdm\n",
    "from DeepLearning import PricePredictionModelV2\n",
    "from DeepLearning.DataSubsetter import DataSubsetter"
   ]
  },
  {
   "cell_type": "code",
   "execution_count": 46,
   "id": "c012682a",
   "metadata": {},
   "outputs": [],
   "source": [
    "params = {\n",
    "    \"data_dir\" : \"../processed_data/data.csv\",\n",
    "    \"images_dir\" : '../processed_data/images',\n",
    "    \"img_input_size\" : 256,\n",
    "    \"batch_size\" : 64, # because we have a lot of columns\n",
    "    \"shuffle\" : False,\n",
    "    \n",
    "    \"inception_model_output_size\" : 1024,\n",
    "    \"tabular_ffnn_output_size\" : 256,\n",
    "    \"learning_rate\" : 0.99e-3,\n",
    "    \"weight_decay\" : 1e-3\n",
    "}"
   ]
  },
  {
   "cell_type": "code",
   "execution_count": 47,
   "id": "4e5de9a9",
   "metadata": {},
   "outputs": [
    {
     "name": "stdout",
     "output_type": "stream",
     "text": [
      "Tabular Size 2458\n",
      "Inception output size 1024\n",
      "Tabular output size 256\n",
      "Regression input size 1280\n"
     ]
    },
    {
     "data": {
      "text/html": [
       "<div>\n",
       "<style scoped>\n",
       "    .dataframe tbody tr th:only-of-type {\n",
       "        vertical-align: middle;\n",
       "    }\n",
       "\n",
       "    .dataframe tbody tr th {\n",
       "        vertical-align: top;\n",
       "    }\n",
       "\n",
       "    .dataframe thead th {\n",
       "        text-align: right;\n",
       "    }\n",
       "</style>\n",
       "<table border=\"1\" class=\"dataframe\">\n",
       "  <thead>\n",
       "    <tr style=\"text-align: right;\">\n",
       "      <th></th>\n",
       "      <th>source</th>\n",
       "      <th>id</th>\n",
       "      <th>price</th>\n",
       "      <th>area</th>\n",
       "      <th>rooms</th>\n",
       "      <th>floor</th>\n",
       "      <th>storeys</th>\n",
       "      <th>bathroom_count</th>\n",
       "      <th>new_building</th>\n",
       "      <th>F_Furniture</th>\n",
       "      <th>...</th>\n",
       "      <th>L_fuel</th>\n",
       "      <th>L_school</th>\n",
       "      <th>L_place_of_worship</th>\n",
       "      <th>L_music_school</th>\n",
       "      <th>L_university</th>\n",
       "      <th>L_kindergarten</th>\n",
       "      <th>L_bus_station</th>\n",
       "      <th>L_hospital</th>\n",
       "      <th>L_prison</th>\n",
       "      <th>L_stripclub</th>\n",
       "    </tr>\n",
       "  </thead>\n",
       "  <tbody>\n",
       "    <tr>\n",
       "      <th>0</th>\n",
       "      <td>bars</td>\n",
       "      <td>4-3-1430</td>\n",
       "      <td>130000.0</td>\n",
       "      <td>60.5</td>\n",
       "      <td>2.0</td>\n",
       "      <td>3.0</td>\n",
       "      <td>13.0</td>\n",
       "      <td>1.0</td>\n",
       "      <td>1</td>\n",
       "      <td>0</td>\n",
       "      <td>...</td>\n",
       "      <td>1</td>\n",
       "      <td>1</td>\n",
       "      <td>0</td>\n",
       "      <td>0</td>\n",
       "      <td>0</td>\n",
       "      <td>0</td>\n",
       "      <td>0</td>\n",
       "      <td>0</td>\n",
       "      <td>0</td>\n",
       "      <td>0</td>\n",
       "    </tr>\n",
       "  </tbody>\n",
       "</table>\n",
       "<p>1 rows × 66 columns</p>\n",
       "</div>"
      ],
      "text/plain": [
       "  source        id     price  area  rooms  floor  storeys  bathroom_count  \\\n",
       "0   bars  4-3-1430  130000.0  60.5    2.0    3.0     13.0             1.0   \n",
       "\n",
       "   new_building  F_Furniture  ...  L_fuel  L_school  L_place_of_worship  \\\n",
       "0             1            0  ...       1         1                   0   \n",
       "\n",
       "   L_music_school  L_university  L_kindergarten  L_bus_station  L_hospital  \\\n",
       "0               0             0               0              0           0   \n",
       "\n",
       "   L_prison  L_stripclub  \n",
       "0         0            0  \n",
       "\n",
       "[1 rows x 66 columns]"
      ]
     },
     "execution_count": 47,
     "metadata": {},
     "output_type": "execute_result"
    }
   ],
   "source": [
    "gpu = torch.device(\"mps:0\")\n",
    "\n",
    "transform = transforms.Compose([\n",
    "    transforms.Resize((params[\"img_input_size\"], params[\"img_input_size\"])),\n",
    "    transforms.ToTensor(),\n",
    "    transforms.Normalize(mean=[0.5, 0.5, 0.5], std=[0.5, 0.5, 0.5])  # Normalize images\n",
    "])\n",
    "\n",
    "subsetter = DataSubsetter(\n",
    "    data_dir = params[\"data_dir\"]\n",
    ")\n",
    "\n",
    "dataframe = subsetter.without(\n",
    "    cols = [\"coordinates\", \"latitude\", \"longitude\"]\n",
    ")\n",
    "\n",
    "dataset = ApartmentsDatasetPyTorch(\n",
    "    device = gpu,\n",
    "    dataframe = dataframe,\n",
    "    images_dir = params[\"images_dir\"], \n",
    "    transform = transform\n",
    ")\n",
    "print(\"Tabular Size\", len(dataset.df))\n",
    "model = PricePredictionModelV2(\n",
    "    dataset.tabular_data_size(), \n",
    "    params\n",
    ")\n",
    "model = model.to(gpu)\n",
    "dataframe.head(1)"
   ]
  },
  {
   "cell_type": "markdown",
   "id": "62cc30ff",
   "metadata": {},
   "source": [
    "# Training"
   ]
  },
  {
   "cell_type": "code",
   "execution_count": 48,
   "id": "aa9d8d45",
   "metadata": {},
   "outputs": [
    {
     "name": "stdout",
     "output_type": "stream",
     "text": [
      "<class 'pandas.core.frame.DataFrame'>\n",
      "RangeIndex: 2458 entries, 0 to 2457\n",
      "Data columns (total 66 columns):\n",
      " #   Column                             Non-Null Count  Dtype  \n",
      "---  ------                             --------------  -----  \n",
      " 0   source                             2458 non-null   object \n",
      " 1   id                                 2458 non-null   object \n",
      " 2   price                              2458 non-null   float64\n",
      " 3   area                               2458 non-null   float64\n",
      " 4   rooms                              2458 non-null   float64\n",
      " 5   floor                              2458 non-null   float64\n",
      " 6   storeys                            2458 non-null   float64\n",
      " 7   bathroom_count                     2458 non-null   float64\n",
      " 8   new_building                       2458 non-null   int64  \n",
      " 9   F_Furniture                        2458 non-null   int64  \n",
      " 10  F_Security                         2458 non-null   int64  \n",
      " 11  F_Air Conditioner                  2458 non-null   int64  \n",
      " 12  F_Balcony                          2458 non-null   int64  \n",
      " 13  F_Heating System                   2458 non-null   int64  \n",
      " 14  F_Internet                         2458 non-null   int64  \n",
      " 15  F_Elevator                         2458 non-null   int64  \n",
      " 16  building_type_Monolit              2458 non-null   int64  \n",
      " 17  building_type_Other                2458 non-null   int64  \n",
      " 18  building_type_Panel                2458 non-null   int64  \n",
      " 19  building_type_Stone                2458 non-null   int64  \n",
      " 20  condition_Good Condition           2458 non-null   int64  \n",
      " 21  condition_Needs Renovation/Repair  2458 non-null   int64  \n",
      " 22  condition_New/Excellent Condition  2458 non-null   int64  \n",
      " 23  condition_Other                    2458 non-null   int64  \n",
      " 24  SL_opera                           2458 non-null   int64  \n",
      " 25  SL_malibu                          2458 non-null   int64  \n",
      " 26  SL_aua                             2458 non-null   int64  \n",
      " 27  SL_zvartnoc                        2458 non-null   int64  \n",
      " 28  SL_dalma                           2458 non-null   int64  \n",
      " 29  SL_yerevan_mall                    2458 non-null   int64  \n",
      " 30  SL_shumyan_cemetery                2458 non-null   int64  \n",
      " 31  SL_nork_cemetery                   2458 non-null   int64  \n",
      " 32  SL_central_cemetery                2458 non-null   int64  \n",
      " 33  SL_davtashen_cemetery              2458 non-null   int64  \n",
      " 34  SL_zeytun_cemetery                 2458 non-null   int64  \n",
      " 35  SL_yerablur                        2458 non-null   int64  \n",
      " 36  SL_avan_cemetery                   2458 non-null   int64  \n",
      " 37  SL_baghramyan_subway               2458 non-null   int64  \n",
      " 38  SL_shengavit_subway                2458 non-null   int64  \n",
      " 39  SL_barekamutyun_subway             2458 non-null   int64  \n",
      " 40  SL_yeritasardakan_subway           2458 non-null   int64  \n",
      " 41  SL_zoravar_subway                  2458 non-null   int64  \n",
      " 42  SL_sasunci_subway                  2458 non-null   int64  \n",
      " 43  SL_gorcarain_subway                2458 non-null   int64  \n",
      " 44  SL_gergin_subway                   2458 non-null   int64  \n",
      " 45  SL_charbakh_subway                 2458 non-null   int64  \n",
      " 46  SL_avan                            2458 non-null   int64  \n",
      " 47  SL_massiv                          2458 non-null   int64  \n",
      " 48  L_payment_terminal                 2458 non-null   int64  \n",
      " 49  L_pharmacy                         2458 non-null   int64  \n",
      " 50  L_atm                              2458 non-null   int64  \n",
      " 51  L_car_wash                         2458 non-null   int64  \n",
      " 52  L_waste_disposal                   2458 non-null   int64  \n",
      " 53  L_parking                          2458 non-null   int64  \n",
      " 54  L_bank                             2458 non-null   int64  \n",
      " 55  L_clinic                           2458 non-null   int64  \n",
      " 56  L_fuel                             2458 non-null   int64  \n",
      " 57  L_school                           2458 non-null   int64  \n",
      " 58  L_place_of_worship                 2458 non-null   int64  \n",
      " 59  L_music_school                     2458 non-null   int64  \n",
      " 60  L_university                       2458 non-null   int64  \n",
      " 61  L_kindergarten                     2458 non-null   int64  \n",
      " 62  L_bus_station                      2458 non-null   int64  \n",
      " 63  L_hospital                         2458 non-null   int64  \n",
      " 64  L_prison                           2458 non-null   int64  \n",
      " 65  L_stripclub                        2458 non-null   int64  \n",
      "dtypes: float64(6), int64(58), object(2)\n",
      "memory usage: 1.2+ MB\n"
     ]
    }
   ],
   "source": [
    "dataset.df.info()"
   ]
  },
  {
   "cell_type": "code",
   "execution_count": 49,
   "id": "3ce2c4b1",
   "metadata": {},
   "outputs": [
    {
     "name": "stdout",
     "output_type": "stream",
     "text": [
      "Starting training...\n"
     ]
    },
    {
     "name": "stderr",
     "output_type": "stream",
     "text": [
      "Epoch 1/20 - Training:   1%|▏                   | 3/477 [00:04<13:08,  1.66s/it]\n",
      "\n",
      "KeyboardInterrupt\n",
      "\n"
     ]
    }
   ],
   "source": [
    "# Assuming 'dataset' is your full dataset\n",
    "train_size = int(0.7 * len(dataset))\n",
    "val_size = int(0.15 * len(dataset))\n",
    "test_size = len(dataset) - train_size - val_size\n",
    "num_epochs = 20\n",
    "train_dataset, val_dataset, test_dataset = random_split(dataset, [train_size, val_size, test_size])\n",
    "num_GPU = 1\n",
    "\n",
    "# def collate_fn(batch):\n",
    "#     print(len(batch))\n",
    "#     images, datas, prices = batch\n",
    "#     return images, datas, prices\n",
    "\n",
    "train_loader = DataLoader(\n",
    "    train_dataset,\n",
    "    batch_size=params[\"batch_size\"], \n",
    "    shuffle=params[\"shuffle\"]\n",
    ")\n",
    "val_loader = DataLoader(\n",
    "    val_dataset,\n",
    "    batch_size=params[\"batch_size\"],\n",
    "    shuffle=False\n",
    ")\n",
    "test_loader = DataLoader(\n",
    "    test_dataset,\n",
    "    batch_size=params[\"batch_size\"], \n",
    "    shuffle=False\n",
    ")\n",
    "\n",
    "# Initialize lists to track losses\n",
    "train_losses = []\n",
    "val_losses = []\n",
    "\n",
    "optimizer = optim.Adam(\n",
    "    model.parameters(), \n",
    "    lr=params[\"learning_rate\"],\n",
    "    weight_decay = params[\"weight_decay\"]\n",
    ")\n",
    "criterion = torch.nn.MSELoss()\n",
    "criterion_abs = torch.nn.L1Loss()\n",
    "\n",
    "print(\"Starting training...\")\n",
    "# Training loop with progress bar\n",
    "for epoch in range(num_epochs):\n",
    "    # Training\n",
    "    model.train()  # Set the model to training mode\n",
    "    running_loss = 0.0\n",
    "    l1_losses = []\n",
    "    for data in tqdm(train_loader, desc=f'Epoch {epoch+1}/{num_epochs} - Training'):\n",
    "        images, datas, prices = data\n",
    "        optimizer.zero_grad()\n",
    "        outputs = model(images, datas)\n",
    "        prices_viewed = prices.view(-1, 1).float()\n",
    "        loss = criterion(outputs, prices_viewed)\n",
    "        loss.backward()\n",
    "        optimizer.step()\n",
    "\n",
    "        running_loss += loss.item()\n",
    "\n",
    "    train_losses.append(running_loss / len(train_loader))  # Average loss for this epoch\n",
    "\n",
    "    # Validation\n",
    "    model.eval()  # Set the model to evaluation mode\n",
    "    val_loss = 0.0\n",
    "    with torch.no_grad():  # Disable gradient calculation\n",
    "        for data in tqdm(val_loader, desc=f'Epoch {epoch+1}/{num_epochs} - Validation'):\n",
    "            images, datas, prices = data\n",
    "            outputs = model(images, datas)  # Forward pass\n",
    "            prices_viewed = prices.view(-1, 1).float()\n",
    "            loss = criterion(outputs, prices_viewed)  # Compute loss\n",
    "            val_loss += loss.item()  # Accumulate the loss\n",
    "            l1_losses.append(criterion_abs(outputs, prices_viewed))\n",
    "        \n",
    "    val_losses.append(val_loss / len(val_loader))  # Average loss for this epoch\n",
    "    l1_mean_loss = sum(l1_losses) / len(l1_losses)\n",
    "    # Print epoch's summary\n",
    "    print(f'Epoch {epoch+1}, Training Loss: {int(train_losses[-1])}, Validation Loss: {int(val_losses[-1])}, L1: {l1_mean_loss}')\n"
   ]
  },
  {
   "cell_type": "code",
   "execution_count": null,
   "id": "df8aeca1",
   "metadata": {},
   "outputs": [],
   "source": [
    "# torch.save(model, \"models/model_v5.pth\")"
   ]
  },
  {
   "cell_type": "code",
   "execution_count": null,
   "id": "9a1192f1",
   "metadata": {},
   "outputs": [],
   "source": [
    "# !conda install --yes pytorch torchvision -c pytorch"
   ]
  },
  {
   "cell_type": "code",
   "execution_count": 110,
   "id": "14cfc20a",
   "metadata": {},
   "outputs": [
    {
     "data": {
      "image/png": "[encoded data removed]",
      "text/plain": [
       "<Figure size 640x480 with 1 Axes>"
      ]
     },
     "metadata": {},
     "output_type": "display_data"
    },
    {
     "data": {
      "text/plain": [
       "<Figure size 640x480 with 0 Axes>"
      ]
     },
     "metadata": {},
     "output_type": "display_data"
    }
   ],
   "source": [
    "plt.title(\"Model V4 evaluation\")\n",
    "plt.plot(train_losses, label = 'Training')\n",
    "plt.plot(val_losses, label = 'Validation')\n",
    "plt.ylabel(\"MSE\")\n",
    "plt.xlabel(\"Epoch\")\n",
    "plt.xticks(range(1, 20))\n",
    "plt.legend()\n",
    "plt.show()\n",
    "plt.savefig('model_v4_epochs.png')"
   ]
  },
  {
   "cell_type": "code",
   "execution_count": 92,
   "id": "97404a94",
   "metadata": {},
   "outputs": [
    {
     "data": {
      "image/png": "[encoded data removed]",
      "text/plain": [
       "<Figure size 640x480 with 1 Axes>"
      ]
     },
     "metadata": {},
     "output_type": "display_data"
    },
    {
     "data": {
      "text/plain": [
       "<Figure size 640x480 with 0 Axes>"
      ]
     },
     "metadata": {},
     "output_type": "display_data"
    }
   ],
   "source": [
    "plt.title(\"Model V4 evaluation\")\n",
    "plt.plot(train_losses, label = 'Training')\n",
    "plt.plot(val_losses, label = 'Validation')\n",
    "plt.ylabel(\"MSE\")\n",
    "plt.xlabel(\"Epoch\")\n",
    "plt.xticks(range(1, 20))\n",
    "plt.legend()\n",
    "plt.show()\n",
    "plt.savefig('model_v4_epochs.png')"
   ]
  },
  {
   "cell_type": "code",
   "execution_count": null,
   "id": "80fcfabe",
   "metadata": {},
   "outputs": [],
   "source": []
  }
 ],
 "metadata": {
  "kernelspec": {
   "display_name": "Python 3 (ipykernel)",
   "language": "python",
   "name": "python3"
  },
  "language_info": {
   "codemirror_mode": {
    "name": "ipython",
    "version": 3
   },
   "file_extension": ".py",
   "mimetype": "text/x-python",
   "name": "python",
   "nbconvert_exporter": "python",
   "pygments_lexer": "ipython3",
   "version": "3.9.13"
  }
 },
 "nbformat": 4,
 "nbformat_minor": 5
}

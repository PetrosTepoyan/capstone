{
 "cells": [
  {
   "cell_type": "code",
   "execution_count": 42,
   "id": "874411fa",
   "metadata": {},
   "outputs": [
    {
     "name": "stdout",
     "output_type": "stream",
     "text": [
      "The autoreload extension is already loaded. To reload it, use:\n",
      "  %reload_ext autoreload\n"
     ]
    }
   ],
   "source": [
    "%load_ext autoreload\n",
    "%autoreload 2\n",
    "import sys\n",
    "sys.path.append(\"..\")"
   ]
  },
  {
   "cell_type": "code",
   "execution_count": 43,
   "id": "a43e2f96",
   "metadata": {},
   "outputs": [],
   "source": [
    "import pandas as pd\n",
    "import torch\n",
    "import torch.nn as nn\n",
    "import timm\n",
    "from torch import optim\n",
    "from utils.ProgressBar import ProgressBar\n",
    "from torchvision import transforms\n",
    "from torch.utils.data import Dataset, DataLoader, random_split\n",
    "from MachineLearning.ApartmentsDatasetPyTorch import ApartmentsDatasetPyTorch\n",
    "from tqdm import tqdm"
   ]
  },
  {
   "cell_type": "code",
   "execution_count": 44,
   "id": "c012682a",
   "metadata": {},
   "outputs": [],
   "source": [
    "params = {\n",
    "    \"data_dir\" : \"../processed_data/data_tiny.csv\",\n",
    "    \"images_dir\" : '../processed_data/images_tiny',\n",
    "    \"img_input_size\" : 256,\n",
    "    \"batch_size\" : 32, # because we have a lot of columns\n",
    "    \"shuffle\" : False,\n",
    "    \n",
    "    \"inception_model_output_size\" : 256,\n",
    "    \"tabular_ffnn_output_size\" : 64,\n",
    "    \"learning_rate\" : 1e-3,\n",
    "    \"weight_decay\" : 1e-4\n",
    "}"
   ]
  },
  {
   "cell_type": "code",
   "execution_count": 45,
   "id": "3f490f63",
   "metadata": {},
   "outputs": [],
   "source": [
    "from DeepLearning.PricePredictionModel import PricePredictionModel"
   ]
  },
  {
   "cell_type": "code",
   "execution_count": 46,
   "id": "4e5de9a9",
   "metadata": {},
   "outputs": [
    {
     "name": "stdout",
     "output_type": "stream",
     "text": [
      "Tabular Size 100\n",
      "Inception output size 256\n",
      "Tabular output size 64\n",
      "Regression input size 320\n"
     ]
    }
   ],
   "source": [
    "gpu = torch.device(\"mps:0\")\n",
    "\n",
    "transform = transforms.Compose([\n",
    "    transforms.Resize((params[\"img_input_size\"], params[\"img_input_size\"])),\n",
    "    transforms.ToTensor(),\n",
    "    transforms.Normalize(mean=[0.5, 0.5, 0.5], std=[0.5, 0.5, 0.5])  # Normalize images\n",
    "])\n",
    "\n",
    "dataset = ApartmentsDatasetPyTorch(\n",
    "    device = gpu,\n",
    "    data_dir = params[\"data_dir\"],\n",
    "    images_dir = params[\"images_dir\"], \n",
    "    transform = transform\n",
    ")\n",
    "print(\"Tabular Size\", len(dataset.df))\n",
    "model = PricePredictionModel(\n",
    "    dataset.tabular_data_size(), \n",
    "    params\n",
    ")\n",
    "model = model.to(gpu)"
   ]
  },
  {
   "cell_type": "markdown",
   "id": "62cc30ff",
   "metadata": {},
   "source": [
    "# Training"
   ]
  },
  {
   "cell_type": "code",
   "execution_count": 47,
   "id": "50eacaec",
   "metadata": {},
   "outputs": [],
   "source": [
    "def custom_collate_fn(batch):\n",
    "    batch = [data for data in batch if data[-1] == True]\n",
    "    if not batch:\n",
    "        return None\n",
    "    images, datas, prices, is_valid = zip(*batch)\n",
    "    images = torch.stack(images)#.to(gpu)\n",
    "    datas = torch.stack(datas)#.to(gpu)\n",
    "    prices = torch.stack(prices)#.to(gpu)\n",
    "    \n",
    "    return images, datas, prices\n",
    "\n",
    "# Create the dataloader\n",
    "# dataloader = DataLoader(\n",
    "#     dataset,\n",
    "#     batch_size = params[\"batch_size\"],\n",
    "#     shuffle = params[\"shuffle\"],\n",
    "#     collate_fn=custom_collate_fn\n",
    "# )"
   ]
  },
  {
   "cell_type": "code",
   "execution_count": 48,
   "id": "3ce2c4b1",
   "metadata": {},
   "outputs": [
    {
     "name": "stdout",
     "output_type": "stream",
     "text": [
      "Starting training...\n"
     ]
    },
    {
     "name": "stderr",
     "output_type": "stream",
     "text": [
      "Epoch 1/20 - Training:   0%|                             | 0/39 [00:00<?, ?it/s]\n"
     ]
    },
    {
     "ename": "ValueError",
     "evalue": "too many values to unpack (expected 3)",
     "output_type": "error",
     "traceback": [
      "\u001b[0;31m---------------------------------------------------------------------------\u001b[0m",
      "\u001b[0;31mValueError\u001b[0m                                Traceback (most recent call last)",
      "Input \u001b[0;32mIn [48]\u001b[0m, in \u001b[0;36m<cell line: 39>\u001b[0;34m()\u001b[0m\n\u001b[1;32m     43\u001b[0m l1_losses \u001b[38;5;241m=\u001b[39m []\n\u001b[1;32m     44\u001b[0m \u001b[38;5;28;01mfor\u001b[39;00m data \u001b[38;5;129;01min\u001b[39;00m tqdm(train_loader, desc\u001b[38;5;241m=\u001b[39m\u001b[38;5;124mf\u001b[39m\u001b[38;5;124m'\u001b[39m\u001b[38;5;124mEpoch \u001b[39m\u001b[38;5;132;01m{\u001b[39;00mepoch\u001b[38;5;241m+\u001b[39m\u001b[38;5;241m1\u001b[39m\u001b[38;5;132;01m}\u001b[39;00m\u001b[38;5;124m/\u001b[39m\u001b[38;5;132;01m{\u001b[39;00mnum_epochs\u001b[38;5;132;01m}\u001b[39;00m\u001b[38;5;124m - Training\u001b[39m\u001b[38;5;124m'\u001b[39m):\n\u001b[0;32m---> 45\u001b[0m     images, datas, prices \u001b[38;5;241m=\u001b[39m data\n\u001b[1;32m     46\u001b[0m     optimizer\u001b[38;5;241m.\u001b[39mzero_grad()\n\u001b[1;32m     47\u001b[0m     outputs \u001b[38;5;241m=\u001b[39m model(images, datas)\n",
      "\u001b[0;31mValueError\u001b[0m: too many values to unpack (expected 3)"
     ]
    }
   ],
   "source": [
    "# Assuming 'dataset' is your full dataset\n",
    "train_size = int(0.7 * len(dataset))\n",
    "val_size = int(0.15 * len(dataset))\n",
    "test_size = len(dataset) - train_size - val_size\n",
    "num_epochs = 20\n",
    "train_dataset, val_dataset, test_dataset = random_split(dataset, [train_size, val_size, test_size])\n",
    "num_GPU = 1\n",
    "\n",
    "train_loader = DataLoader(\n",
    "    train_dataset,\n",
    "    batch_size=params[\"batch_size\"], \n",
    "    shuffle=params[\"shuffle\"]\n",
    ")\n",
    "val_loader = DataLoader(\n",
    "    val_dataset,\n",
    "    batch_size=params[\"batch_size\"],\n",
    "    shuffle=False\n",
    ")\n",
    "test_loader = DataLoader(\n",
    "    test_dataset,\n",
    "    batch_size=params[\"batch_size\"], \n",
    "    shuffle=False\n",
    ")\n",
    "\n",
    "# Initialize lists to track losses\n",
    "train_losses = []\n",
    "val_losses = []\n",
    "\n",
    "optimizer = optim.Adam(\n",
    "    model.parameters(), \n",
    "    lr=params[\"learning_rate\"],\n",
    "    weight_decay = params[\"weight_decay\"]\n",
    ")\n",
    "criterion = torch.nn.MSELoss()\n",
    "criterion_abs = torch.nn.L1Loss()\n",
    "\n",
    "print(\"Starting training...\")\n",
    "# Training loop with progress bar\n",
    "for epoch in range(num_epochs):\n",
    "    # Training\n",
    "    model.train()  # Set the model to training mode\n",
    "    running_loss = 0.0\n",
    "    l1_losses = []\n",
    "    for data in tqdm(train_loader, desc=f'Epoch {epoch+1}/{num_epochs} - Training'):\n",
    "        images, datas, prices = data\n",
    "        optimizer.zero_grad()\n",
    "        outputs = model(images, datas)\n",
    "        prices_viewed = prices.view(-1, 1).float()\n",
    "        loss = criterion(outputs, prices_viewed)\n",
    "        loss.backward()\n",
    "        optimizer.step()\n",
    "\n",
    "        running_loss += loss.item()\n",
    "\n",
    "    train_losses.append(running_loss / len(train_loader))  # Average loss for this epoch\n",
    "\n",
    "    # Validation\n",
    "    model.eval()  # Set the model to evaluation mode\n",
    "    val_loss = 0.0\n",
    "    with torch.no_grad():  # Disable gradient calculation\n",
    "        for data in tqdm(val_loader, desc=f'Epoch {epoch+1}/{num_epochs} - Validation'):\n",
    "            images, datas, prices = data\n",
    "            outputs = model(images, datas)  # Forward pass\n",
    "            prices_viewed = prices.view(-1, 1).float()\n",
    "            loss = criterion(outputs, prices_viewed)  # Compute loss\n",
    "            val_loss += loss.item()  # Accumulate the loss\n",
    "            l1_losses.append(criterion_abs(outputs, prices_viewed))\n",
    "        \n",
    "    val_losses.append(val_loss / len(val_loader))  # Average loss for this epoch\n",
    "    l1_mean_loss = sum(l1_losses) / len(l1_losses)\n",
    "    # Print epoch's summary\n",
    "    print(f'Epoch {epoch+1}, Training Loss: {train_losses[-1]}, Validation Loss: {val_losses[-1]}, L1: {l1_mean_loss}')\n"
   ]
  },
  {
   "cell_type": "code",
   "execution_count": null,
   "id": "df8aeca1",
   "metadata": {},
   "outputs": [],
   "source": [
    "# torch.save(model, \"models/model_v5.pth\")"
   ]
  },
  {
   "cell_type": "code",
   "execution_count": null,
   "id": "9a1192f1",
   "metadata": {},
   "outputs": [],
   "source": [
    "# !conda install --yes pytorch torchvision -c pytorch"
   ]
  },
  {
   "cell_type": "code",
   "execution_count": 39,
   "id": "97387d62",
   "metadata": {},
   "outputs": [
    {
     "data": {
      "text/plain": [
       "[53063156622.22222,\n",
       " 38365002638.22222,\n",
       " 30018304227.555557,\n",
       " 42767702471.111115,\n",
       " 30475297564.444443,\n",
       " 33746709617.77778,\n",
       " 40125425436.44444,\n",
       " 32581738154.666668,\n",
       " 35078289521.77778,\n",
       " 37152139719.111115,\n",
       " 33255203498.666668,\n",
       " 45729989632.0,\n",
       " 35550254876.44444,\n",
       " 33256224881.77778,\n",
       " 34830095360.0,\n",
       " 34902556046.22222,\n",
       " 35566453191.111115,\n",
       " 44122874538.666664,\n",
       " 38384421888.0,\n",
       " 38866692323.55556]"
      ]
     },
     "execution_count": 39,
     "metadata": {},
     "output_type": "execute_result"
    }
   ],
   "source": [
    "import matplotlib.pyplot as plt\n",
    "\n",
    "train_losses\n",
    "val_losses"
   ]
  },
  {
   "cell_type": "code",
   "execution_count": 41,
   "id": "40b46d94",
   "metadata": {},
   "outputs": [
    {
     "data": {
      "image/png": "[encoded data removed]",
      "text/plain": [
       "<Figure size 640x480 with 1 Axes>"
      ]
     },
     "metadata": {},
     "output_type": "display_data"
    },
    {
     "data": {
      "text/plain": [
       "<Figure size 640x480 with 0 Axes>"
      ]
     },
     "metadata": {},
     "output_type": "display_data"
    }
   ],
   "source": [
    "plt.title(\"Model V4 evaluation\")\n",
    "plt.plot(train_losses, label = 'Training')\n",
    "plt.plot(val_losses, label = 'Validation')\n",
    "plt.ylabel(\"MSE\")\n",
    "plt.xlabel(\"Epoch\")\n",
    "plt.xticks(range(1, 20))\n",
    "plt.legend()\n",
    "plt.show()\n",
    "plt.savefig('model_v4_epochs.png')"
   ]
  },
  {
   "cell_type": "code",
   "execution_count": null,
   "id": "5ad3e6ff",
   "metadata": {},
   "outputs": [],
   "source": []
  }
 ],
 "metadata": {
  "kernelspec": {
   "display_name": "Python 3 (ipykernel)",
   "language": "python",
   "name": "python3"
  },
  "language_info": {
   "codemirror_mode": {
    "name": "ipython",
    "version": 3
   },
   "file_extension": ".py",
   "mimetype": "text/x-python",
   "name": "python",
   "nbconvert_exporter": "python",
   "pygments_lexer": "ipython3",
   "version": "3.9.13"
  }
 },
 "nbformat": 4,
 "nbformat_minor": 5
}

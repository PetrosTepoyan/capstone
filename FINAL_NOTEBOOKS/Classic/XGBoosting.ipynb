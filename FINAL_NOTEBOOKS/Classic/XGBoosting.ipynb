{
 "cells": [
  {
   "cell_type": "code",
   "execution_count": 1,
   "id": "473ae0eb",
   "metadata": {},
   "outputs": [],
   "source": [
    "from sklearn.model_selection import train_test_split\n",
    "from sklearn.metrics import mean_absolute_error\n",
    "from xgboost import XGBRegressor\n",
    "from catboost import CatBoostRegressor\n",
    "from sklearn.ensemble import RandomForestRegressor\n",
    "from sklearn.svm import SVR\n",
    "import numpy as np\n",
    "import pandas as pd\n",
    "\n",
    "data = pd.read_csv(\"../../processed_data/data.csv\", index_col=0)\n",
    "data = data.drop(columns = ['id', 'source', 'coordinates', 'latitude', 'longitude' ])\n",
    "\n",
    "# Assuming 'data' is a pandas DataFrame with features and 'price' as the target\n",
    "X = data.drop('price', axis=1)\n",
    "y = data['price']\n",
    "\n",
    "# Split the data\n",
    "X_train, X_test, y_train, y_test = train_test_split(X, y, test_size=0.2, random_state=42)"
   ]
  },
  {
   "cell_type": "code",
   "execution_count": null,
   "id": "50d8ca70",
   "metadata": {
    "scrolled": true
   },
   "outputs": [],
   "source": [
    "from sklearn.model_selection import GridSearchCV\n",
    "\n",
    "# Define the parameter grid for each model\n",
    "param_grid = {\n",
    "    'n_estimators': [i for i in range(50, 1001, 100)],\n",
    "    'learning_rate': [i/100.0 for i in range(1, 100, 8)],  # Corrected range for learning rate\n",
    "    'max_depth': [i for i in range(3, 16)],  # Max depth up to 15\n",
    "    'min_child_weight': [i for i in range(1, 10, 2)],\n",
    "    'gamma': [i/10.0 for i in range(0, 9)],  # Corrected range for gamma\n",
    "    'subsample': [i/10.0 for i in range(4, 11, 1)],  # Corrected range for subsample\n",
    "    'colsample_bytree': [0.4, 0.6, 0.8, 0.9, 1.0]\n",
    "}\n",
    "\n",
    "model = XGBRegressor()\n",
    "\n",
    "grid_search = GridSearchCV(\n",
    "    estimator = model,\n",
    "    param_grid = param_grid,\n",
    "    cv = 3,\n",
    "    scoring='neg_mean_absolute_error'\n",
    ")\n",
    "grid_search.fit(X_train, y_train)"
   ]
  },
  {
   "cell_type": "code",
   "execution_count": null,
   "id": "95002153",
   "metadata": {},
   "outputs": [],
   "source": [
    "mean_absolute_error(\n",
    "    grid_search.best_estimator_.predict(X_test),\n",
    "    y_test\n",
    ")"
   ]
  },
  {
   "cell_type": "code",
   "execution_count": 9,
   "id": "923cc5aa",
   "metadata": {},
   "outputs": [
    {
     "data": {
      "text/plain": [
       "{'n_estimators': [50,\n",
       "  125,\n",
       "  200,\n",
       "  275,\n",
       "  350,\n",
       "  425,\n",
       "  500,\n",
       "  575,\n",
       "  650,\n",
       "  725,\n",
       "  800,\n",
       "  875,\n",
       "  950],\n",
       " 'learning_rate': [0.01,\n",
       "  0.09,\n",
       "  0.17,\n",
       "  0.25,\n",
       "  0.33,\n",
       "  0.41,\n",
       "  0.49,\n",
       "  0.57,\n",
       "  0.65,\n",
       "  0.73,\n",
       "  0.81,\n",
       "  0.89,\n",
       "  0.97],\n",
       " 'max_depth': [3, 4, 5, 6, 7, 8, 9, 10, 11, 12, 13, 14, 15],\n",
       " 'min_child_weight': [1, 3, 5, 7, 9],\n",
       " 'gamma': [0.0, 0.1, 0.2, 0.3, 0.4, 0.5, 0.6, 0.7, 0.8],\n",
       " 'subsample': [0.4, 0.5, 0.6, 0.7, 0.8, 0.9, 1.0],\n",
       " 'colsample_bytree': [0.4, 0.6, 0.8, 0.9, 1.0]}"
      ]
     },
     "execution_count": 9,
     "metadata": {},
     "output_type": "execute_result"
    }
   ],
   "source": [
    "param_grid"
   ]
  },
  {
   "cell_type": "code",
   "execution_count": null,
   "id": "94424bbf",
   "metadata": {},
   "outputs": [],
   "source": []
  }
 ],
 "metadata": {
  "kernelspec": {
   "display_name": "Python 3 (ipykernel)",
   "language": "python",
   "name": "python3"
  },
  "language_info": {
   "codemirror_mode": {
    "name": "ipython",
    "version": 3
   },
   "file_extension": ".py",
   "mimetype": "text/x-python",
   "name": "python",
   "nbconvert_exporter": "python",
   "pygments_lexer": "ipython3",
   "version": "3.9.13"
  }
 },
 "nbformat": 4,
 "nbformat_minor": 5
}

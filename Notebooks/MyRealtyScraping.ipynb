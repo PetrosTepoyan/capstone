{
 "cells": [
  {
   "cell_type": "code",
   "execution_count": 15,
   "id": "9fc4436b",
   "metadata": {},
   "outputs": [
    {
     "name": "stdout",
     "output_type": "stream",
     "text": [
      "The autoreload extension is already loaded. To reload it, use:\n",
      "  %reload_ext autoreload\n"
     ]
    }
   ],
   "source": [
    "%load_ext autoreload\n",
    "%autoreload 2\n",
    "\n",
    "import sys\n",
    "import logging\n",
    "from logging import Logger\n",
    "sys.path.append(\"..\")\n",
    "\n",
    "logging.basicConfig(filename = 'scraping.log', level = logging.INFO)\n",
    "logger = logging.getLogger(\"main\")\n",
    "logger.info(\"This is a test message\")"
   ]
  },
  {
   "cell_type": "code",
   "execution_count": 39,
   "id": "89a0fec9",
   "metadata": {},
   "outputs": [],
   "source": [
    "# MyRealty\n",
    "from ConcreteScrapers.MyRealty.MyRealtyApartmentScraper import MyRealtyApartmentScraper\n",
    "\n",
    "# Storage\n",
    "from ConcreteStorages import CSVStorage\n",
    "\n",
    "# Services\n",
    "from Services import ImageLoader\n",
    "\n",
    "storage = CSVStorage(\n",
    "    file_path = \"../data/myrealty_apartments.csv\",\n",
    "    images_path = \"../images/\",\n",
    "    logger = logger\n",
    ")\n",
    "storage.initialize()\n",
    "\n",
    "image_loader = ImageLoader(\n",
    "    storage,\n",
    "    logger = logger\n",
    ")\n",
    "\n",
    "webpage = \"https://myrealty.am/en/3-bedroom/apartment-for-sale/Ghazar+Parpetsi+St/Center/Yerevan/142292\"\n",
    "scraper = MyRealtyApartmentScraper(\n",
    "    webpage = webpage,\n",
    "    logger = logger\n",
    ")\n",
    "scraper.scrape()"
   ]
  },
  {
   "cell_type": "code",
   "execution_count": 40,
   "id": "8a7b8350",
   "metadata": {},
   "outputs": [
    {
     "data": {
      "text/plain": [
       "{'source': 'myrealty',\n",
       " 'id': '142292',\n",
       " 'price': 230000,\n",
       " 'facilities': ['Heating',\n",
       "  'Gas',\n",
       "  'Internet',\n",
       "  'Air-conditioner',\n",
       "  'Electricity',\n",
       "  'water 24/7',\n",
       "  'Water',\n",
       "  'Furniture',\n",
       "  'Equipment',\n",
       "  'Open balcony',\n",
       "  'Sunny',\n",
       "  'Roadside'],\n",
       " 'location': 'Yerevan, Center, Ghazar Parpetsi St',\n",
       " 'area': 113,\n",
       " 'room': 3,\n",
       " 'floor': 5,\n",
       " 'storeys': 5,\n",
       " 'building_type': 'Stone',\n",
       " 'ceiling_height': '3 M',\n",
       " 'condition': 'Newly repaired',\n",
       " 'added_in_date': '13.11.2023',\n",
       " 'view_count': 42}"
      ]
     },
     "execution_count": 40,
     "metadata": {},
     "output_type": "execute_result"
    }
   ],
   "source": [
    "scraper.values()"
   ]
  },
  {
   "cell_type": "code",
   "execution_count": null,
   "id": "7336812a",
   "metadata": {},
   "outputs": [],
   "source": []
  }
 ],
 "metadata": {
  "kernelspec": {
   "display_name": "Python 3 (ipykernel)",
   "language": "python",
   "name": "python3"
  },
  "language_info": {
   "codemirror_mode": {
    "name": "ipython",
    "version": 3
   },
   "file_extension": ".py",
   "mimetype": "text/x-python",
   "name": "python",
   "nbconvert_exporter": "python",
   "pygments_lexer": "ipython3",
   "version": "3.9.13"
  }
 },
 "nbformat": 4,
 "nbformat_minor": 5
}

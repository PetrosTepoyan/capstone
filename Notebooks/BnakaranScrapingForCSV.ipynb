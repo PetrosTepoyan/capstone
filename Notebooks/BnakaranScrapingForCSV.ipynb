{
 "cells": [
  {
   "cell_type": "code",
   "execution_count": 9,
   "id": "90c247be",
   "metadata": {},
   "outputs": [
    {
     "name": "stdout",
     "output_type": "stream",
     "text": [
      "The autoreload extension is already loaded. To reload it, use:\n",
      "  %reload_ext autoreload\n"
     ]
    }
   ],
   "source": [
    "%load_ext autoreload\n",
    "%autoreload 2\n",
    "\n",
    "import sys\n",
    "sys.path.append(\"..\")"
   ]
  },
  {
   "cell_type": "code",
   "execution_count": 10,
   "id": "1ddaa8cb",
   "metadata": {},
   "outputs": [],
   "source": [
    "import logging\n",
    "from logging import Logger\n",
    "\n",
    "logging.basicConfig(filename = 'scraping.log', level = logging.INFO)\n",
    "logger = Logger(\"main\")"
   ]
  },
  {
   "cell_type": "code",
   "execution_count": 23,
   "id": "76ed57cf",
   "metadata": {},
   "outputs": [
    {
     "data": {
      "text/plain": [
       "{'source': 'bnakaran',\n",
       " 'id': 'd91000',\n",
       " 'price': 380000,\n",
       " 'area': 118,\n",
       " 'storeys': 5,\n",
       " 'floor': 4,\n",
       " 'rooms': 4,\n",
       " 'latitude': '44.515838200314',\n",
       " 'longitude': '40.179283894826',\n",
       " 'details': {'Construction type': 'stone',\n",
       "  'Building type': 'Stalin',\n",
       "  'Renovation': 'renovated',\n",
       "  'Flooring': 'hardwood',\n",
       "  'Entrance door': 'metal',\n",
       "  'Windows': 'plastic',\n",
       "  'Heating': 'gas boiler',\n",
       "  'Cooling': 'air conditioner'},\n",
       " 'room_details': {'rooms': '4',\n",
       "  'bedrooms': '2',\n",
       "  'bathrooms': '2',\n",
       "  'kitchens': '1',\n",
       "  'storage rooms': '2',\n",
       "  'balconies': '3'},\n",
       " 'additional_features': ['air conditioner',\n",
       "  'new wiring',\n",
       "  'persistent water',\n",
       "  'hardwood flooring',\n",
       "  'new water tubes',\n",
       "  'electricity',\n",
       "  'metal door',\n",
       "  'intercom',\n",
       "  'open balcony',\n",
       "  'built-in wardrobes',\n",
       "  'kitchen tiled',\n",
       "  'appliances',\n",
       "  'bathroom tiled',\n",
       "  'plastic windows',\n",
       "  'exclusive design',\n",
       "  'sunny',\n",
       "  'natural gas',\n",
       "  'kitchen furniture',\n",
       "  'furnished'],\n",
       " 'added_in_date': '14.11.2023',\n",
       " 'visit_count': '102',\n",
       " 'utilities': []}"
      ]
     },
     "execution_count": 23,
     "metadata": {},
     "output_type": "execute_result"
    }
   ],
   "source": [
    "from ConcreteScrapers.Bnakaran.BnakaranApartmentScraper import BnakaranApartmentScraper\n",
    "\n",
    "scraper = BnakaranApartmentScraper(\"https://www.bnakaran.com/en/apartment-for-sale-in-downtown-yerevan-d91000\")\n",
    "scraper.scrape()\n",
    "scraper.values()"
   ]
  },
  {
   "cell_type": "code",
   "execution_count": null,
   "id": "0e99a50e",
   "metadata": {},
   "outputs": [],
   "source": []
  },
  {
   "cell_type": "code",
   "execution_count": null,
   "id": "1d4d905e",
   "metadata": {},
   "outputs": [],
   "source": []
  }
 ],
 "metadata": {
  "kernelspec": {
   "display_name": "Python 3 (ipykernel)",
   "language": "python",
   "name": "python3"
  },
  "language_info": {
   "codemirror_mode": {
    "name": "ipython",
    "version": 3
   },
   "file_extension": ".py",
   "mimetype": "text/x-python",
   "name": "python",
   "nbconvert_exporter": "python",
   "pygments_lexer": "ipython3",
   "version": "3.9.13"
  }
 },
 "nbformat": 4,
 "nbformat_minor": 5
}

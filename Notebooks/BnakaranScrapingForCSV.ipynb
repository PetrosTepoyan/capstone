{
 "cells": [
  {
   "cell_type": "code",
   "execution_count": 1,
   "id": "90c247be",
   "metadata": {},
   "outputs": [],
   "source": [
    "%load_ext autoreload\n",
    "%autoreload 2\n",
    "\n",
    "import sys\n",
    "sys.path.append(\"..\")"
   ]
  },
  {
   "cell_type": "code",
   "execution_count": 2,
   "id": "1ddaa8cb",
   "metadata": {},
   "outputs": [],
   "source": [
    "import logging\n",
    "from logging import Logger\n",
    "\n",
    "logging.basicConfig(filename = 'scraping.log', level = logging.INFO)\n",
    "logger = Logger(\"main\")"
   ]
  },
  {
   "cell_type": "code",
   "execution_count": 10,
   "id": "76ed57cf",
   "metadata": {},
   "outputs": [
    {
     "data": {
      "text/plain": [
       "{'source': 'bnakaran',\n",
       " 'area': '71',\n",
       " 'storeys': '2',\n",
       " 'rooms': '3',\n",
       " 'latitude': '44.502351235442',\n",
       " 'longitude': '40.179513738459',\n",
       " 'additional_features': ['persistent water',\n",
       "  'electricity',\n",
       "  'laminatе flooring',\n",
       "  'metal door',\n",
       "  'open balcony',\n",
       "  'kitchen tiled',\n",
       "  'appliances',\n",
       "  'bathroom tiled',\n",
       "  'plastic windows',\n",
       "  'sunny',\n",
       "  'natural gas',\n",
       "  'kitchen furniture',\n",
       "  'furnished'],\n",
       " 'Construction type': 'stone',\n",
       " 'Building type': 'special',\n",
       " 'Renovation': 'renovated',\n",
       " 'Flooring': 'laminate',\n",
       " 'Entrance door': 'metal',\n",
       " 'Windows': 'plastic',\n",
       " 'Heating': 'gas boiler',\n",
       " 'bedrooms': '2',\n",
       " 'bathrooms': '1',\n",
       " 'kitchens': '1',\n",
       " 'balconies': '1'}"
      ]
     },
     "execution_count": 10,
     "metadata": {},
     "output_type": "execute_result"
    }
   ],
   "source": [
    "from ConcreteScrapers.Bnakaran.BnakaranApartmentScraper import BnakaranApartmentScraper\n",
    "\n",
    "scraper = BnakaranApartmentScraper(\"https://www.bnakaran.com/en/apartment-for-sale-in-downtown-yerevan-d116788\")\n",
    "scraper.scrape()\n",
    "scraper.values()"
   ]
  },
  {
   "cell_type": "code",
   "execution_count": 4,
   "id": "4e355d71",
   "metadata": {},
   "outputs": [
    {
     "name": "stdout",
     "output_type": "stream",
     "text": [
      "Creating the file: ../data/bnakaran_apartments.csv\n"
     ]
    }
   ],
   "source": [
    "# MyRealty\n",
    "from ConcreteScrapers.Bnakaran.BnakaranScrapingPipeline import BnakaranScrapingPipeline\n",
    "\n",
    "# Storage\n",
    "from ConcreteStorages import CSVStorage\n",
    "\n",
    "# Services\n",
    "from Services import ImageLoader\n",
    "\n",
    "storage = CSVStorage(\n",
    "    file_path = \"../data/bnakaran_apartments.csv\",\n",
    "    images_path = \"../images/\",\n",
    "    logger = logger\n",
    ")\n",
    "storage.initialize()\n",
    "\n",
    "image_loader = ImageLoader(\n",
    "    storage,\n",
    "    logger = logger\n",
    ")\n",
    "\n",
    "scraper_pipeline = BnakaranScrapingPipeline(\n",
    "    \"https://www.bnakaran.com/en/apartments-for-sale/7MJmYww?sort=relevance\", \n",
    "    storage,\n",
    "    image_loader,\n",
    "    logger = logger\n",
    ")\n",
    "\n",
    "links = scraper_pipeline.get_apartment_links()\n",
    "for link in links:\n",
    "    scraper_pipeline.scrape_apartment(link)"
   ]
  },
  {
   "cell_type": "code",
   "execution_count": 6,
   "id": "a77df0b0",
   "metadata": {},
   "outputs": [
    {
     "data": {
      "text/plain": [
       "[]"
      ]
     },
     "execution_count": 6,
     "metadata": {},
     "output_type": "execute_result"
    }
   ],
   "source": [
    "links = scraper_pipeline.get_apartment_links()\n",
    "links"
   ]
  },
  {
   "cell_type": "code",
   "execution_count": null,
   "id": "cba8d4d8",
   "metadata": {},
   "outputs": [],
   "source": []
  }
 ],
 "metadata": {
  "kernelspec": {
   "display_name": "Python 3 (ipykernel)",
   "language": "python",
   "name": "python3"
  },
  "language_info": {
   "codemirror_mode": {
    "name": "ipython",
    "version": 3
   },
   "file_extension": ".py",
   "mimetype": "text/x-python",
   "name": "python",
   "nbconvert_exporter": "python",
   "pygments_lexer": "ipython3",
   "version": "3.9.13"
  }
 },
 "nbformat": 4,
 "nbformat_minor": 5
}
